{
 "cells": [
  {
   "cell_type": "code",
   "execution_count": 2,
   "metadata": {},
   "outputs": [
    {
     "name": "stderr",
     "output_type": "stream",
     "text": [
      "/opt/anaconda3/lib/python3.9/site-packages/pytorch_tabular/models/mixture_density/mdn.py:25: UserWarning: Wandb not installed. WandbLogger will not work.\n",
      "  warnings.warn(\"Wandb not installed. WandbLogger will not work.\")\n"
     ]
    }
   ],
   "source": [
    "import pandas as pd\n",
    "import matplotlib.pyplot as plt\n",
    "import seaborn as sns\n",
    "import numpy as np\n",
    "\n",
    "from sklearn.model_selection import train_test_split\n",
    "from sklearn.metrics import accuracy_score, f1_score, recall_score, precision_score, mean_squared_error, r2_score\n",
    "from sklearn.preprocessing import MinMaxScaler, StandardScaler\n",
    "from sklearn import decomposition\n",
    "from sklearn.linear_model import LinearRegression, SGDRegressor\n",
    "from sklearn.ensemble import RandomForestClassifier\n",
    "from sklearn.tree import DecisionTreeRegressor\n",
    "from sklearn.neighbors import KNeighborsRegressor\n",
    "from sklearn.svm import SVR\n",
    "\n",
    "from pytorch_tabular import TabularModel\n",
    "from pytorch_tabular.models import CategoryEmbeddingModelConfig\n",
    "from pytorch_tabular.config import DataConfig, OptimizerConfig, TrainerConfig, ExperimentConfig\n",
    "from pytorch_tabular.models.common.heads import LinearHeadConfig\n"
   ]
  },
  {
   "attachments": {},
   "cell_type": "markdown",
   "metadata": {},
   "source": [
    "## Data Acquisition\n",
    "##### Flat Acquisition using csv files"
   ]
  },
  {
   "cell_type": "code",
   "execution_count": 3,
   "metadata": {},
   "outputs": [],
   "source": [
    "movies = pd.read_csv('./data/movies.csv')\n",
    "ratings = pd.read_csv('./data/ratings.csv')\n",
    "tags = pd.read_csv('./data/tags.csv')\n",
    "genome_scores = pd.read_csv('./data/genome-scores.csv')\n",
    "genome_tags = pd.read_csv('./data/genome-tags.csv')\n"
   ]
  },
  {
   "cell_type": "code",
   "execution_count": 4,
   "metadata": {},
   "outputs": [
    {
     "name": "stdout",
     "output_type": "stream",
     "text": [
      "Movies:\n"
     ]
    },
    {
     "data": {
      "text/html": [
       "<div>\n",
       "<style scoped>\n",
       "    .dataframe tbody tr th:only-of-type {\n",
       "        vertical-align: middle;\n",
       "    }\n",
       "\n",
       "    .dataframe tbody tr th {\n",
       "        vertical-align: top;\n",
       "    }\n",
       "\n",
       "    .dataframe thead th {\n",
       "        text-align: right;\n",
       "    }\n",
       "</style>\n",
       "<table border=\"1\" class=\"dataframe\">\n",
       "  <thead>\n",
       "    <tr style=\"text-align: right;\">\n",
       "      <th></th>\n",
       "      <th>movieId</th>\n",
       "      <th>title</th>\n",
       "      <th>genres</th>\n",
       "    </tr>\n",
       "  </thead>\n",
       "  <tbody>\n",
       "    <tr>\n",
       "      <th>0</th>\n",
       "      <td>1</td>\n",
       "      <td>Toy Story (1995)</td>\n",
       "      <td>Adventure|Animation|Children|Comedy|Fantasy</td>\n",
       "    </tr>\n",
       "    <tr>\n",
       "      <th>1</th>\n",
       "      <td>2</td>\n",
       "      <td>Jumanji (1995)</td>\n",
       "      <td>Adventure|Children|Fantasy</td>\n",
       "    </tr>\n",
       "    <tr>\n",
       "      <th>2</th>\n",
       "      <td>3</td>\n",
       "      <td>Grumpier Old Men (1995)</td>\n",
       "      <td>Comedy|Romance</td>\n",
       "    </tr>\n",
       "    <tr>\n",
       "      <th>3</th>\n",
       "      <td>4</td>\n",
       "      <td>Waiting to Exhale (1995)</td>\n",
       "      <td>Comedy|Drama|Romance</td>\n",
       "    </tr>\n",
       "    <tr>\n",
       "      <th>4</th>\n",
       "      <td>5</td>\n",
       "      <td>Father of the Bride Part II (1995)</td>\n",
       "      <td>Comedy</td>\n",
       "    </tr>\n",
       "  </tbody>\n",
       "</table>\n",
       "</div>"
      ],
      "text/plain": [
       "   movieId                               title  \\\n",
       "0        1                    Toy Story (1995)   \n",
       "1        2                      Jumanji (1995)   \n",
       "2        3             Grumpier Old Men (1995)   \n",
       "3        4            Waiting to Exhale (1995)   \n",
       "4        5  Father of the Bride Part II (1995)   \n",
       "\n",
       "                                        genres  \n",
       "0  Adventure|Animation|Children|Comedy|Fantasy  \n",
       "1                   Adventure|Children|Fantasy  \n",
       "2                               Comedy|Romance  \n",
       "3                         Comedy|Drama|Romance  \n",
       "4                                       Comedy  "
      ]
     },
     "metadata": {},
     "output_type": "display_data"
    },
    {
     "name": "stdout",
     "output_type": "stream",
     "text": [
      "Ratings:\n"
     ]
    },
    {
     "data": {
      "text/html": [
       "<div>\n",
       "<style scoped>\n",
       "    .dataframe tbody tr th:only-of-type {\n",
       "        vertical-align: middle;\n",
       "    }\n",
       "\n",
       "    .dataframe tbody tr th {\n",
       "        vertical-align: top;\n",
       "    }\n",
       "\n",
       "    .dataframe thead th {\n",
       "        text-align: right;\n",
       "    }\n",
       "</style>\n",
       "<table border=\"1\" class=\"dataframe\">\n",
       "  <thead>\n",
       "    <tr style=\"text-align: right;\">\n",
       "      <th></th>\n",
       "      <th>userId</th>\n",
       "      <th>movieId</th>\n",
       "      <th>rating</th>\n",
       "      <th>timestamp</th>\n",
       "    </tr>\n",
       "  </thead>\n",
       "  <tbody>\n",
       "    <tr>\n",
       "      <th>0</th>\n",
       "      <td>1</td>\n",
       "      <td>296</td>\n",
       "      <td>5.0</td>\n",
       "      <td>1147880044</td>\n",
       "    </tr>\n",
       "    <tr>\n",
       "      <th>1</th>\n",
       "      <td>1</td>\n",
       "      <td>306</td>\n",
       "      <td>3.5</td>\n",
       "      <td>1147868817</td>\n",
       "    </tr>\n",
       "    <tr>\n",
       "      <th>2</th>\n",
       "      <td>1</td>\n",
       "      <td>307</td>\n",
       "      <td>5.0</td>\n",
       "      <td>1147868828</td>\n",
       "    </tr>\n",
       "    <tr>\n",
       "      <th>3</th>\n",
       "      <td>1</td>\n",
       "      <td>665</td>\n",
       "      <td>5.0</td>\n",
       "      <td>1147878820</td>\n",
       "    </tr>\n",
       "    <tr>\n",
       "      <th>4</th>\n",
       "      <td>1</td>\n",
       "      <td>899</td>\n",
       "      <td>3.5</td>\n",
       "      <td>1147868510</td>\n",
       "    </tr>\n",
       "  </tbody>\n",
       "</table>\n",
       "</div>"
      ],
      "text/plain": [
       "   userId  movieId  rating   timestamp\n",
       "0       1      296     5.0  1147880044\n",
       "1       1      306     3.5  1147868817\n",
       "2       1      307     5.0  1147868828\n",
       "3       1      665     5.0  1147878820\n",
       "4       1      899     3.5  1147868510"
      ]
     },
     "metadata": {},
     "output_type": "display_data"
    },
    {
     "name": "stdout",
     "output_type": "stream",
     "text": [
      "Tags:\n"
     ]
    },
    {
     "data": {
      "text/html": [
       "<div>\n",
       "<style scoped>\n",
       "    .dataframe tbody tr th:only-of-type {\n",
       "        vertical-align: middle;\n",
       "    }\n",
       "\n",
       "    .dataframe tbody tr th {\n",
       "        vertical-align: top;\n",
       "    }\n",
       "\n",
       "    .dataframe thead th {\n",
       "        text-align: right;\n",
       "    }\n",
       "</style>\n",
       "<table border=\"1\" class=\"dataframe\">\n",
       "  <thead>\n",
       "    <tr style=\"text-align: right;\">\n",
       "      <th></th>\n",
       "      <th>userId</th>\n",
       "      <th>movieId</th>\n",
       "      <th>tag</th>\n",
       "      <th>timestamp</th>\n",
       "    </tr>\n",
       "  </thead>\n",
       "  <tbody>\n",
       "    <tr>\n",
       "      <th>0</th>\n",
       "      <td>3</td>\n",
       "      <td>260</td>\n",
       "      <td>classic</td>\n",
       "      <td>1439472355</td>\n",
       "    </tr>\n",
       "    <tr>\n",
       "      <th>1</th>\n",
       "      <td>3</td>\n",
       "      <td>260</td>\n",
       "      <td>sci-fi</td>\n",
       "      <td>1439472256</td>\n",
       "    </tr>\n",
       "    <tr>\n",
       "      <th>2</th>\n",
       "      <td>4</td>\n",
       "      <td>1732</td>\n",
       "      <td>dark comedy</td>\n",
       "      <td>1573943598</td>\n",
       "    </tr>\n",
       "    <tr>\n",
       "      <th>3</th>\n",
       "      <td>4</td>\n",
       "      <td>1732</td>\n",
       "      <td>great dialogue</td>\n",
       "      <td>1573943604</td>\n",
       "    </tr>\n",
       "    <tr>\n",
       "      <th>4</th>\n",
       "      <td>4</td>\n",
       "      <td>7569</td>\n",
       "      <td>so bad it's good</td>\n",
       "      <td>1573943455</td>\n",
       "    </tr>\n",
       "  </tbody>\n",
       "</table>\n",
       "</div>"
      ],
      "text/plain": [
       "   userId  movieId               tag   timestamp\n",
       "0       3      260           classic  1439472355\n",
       "1       3      260            sci-fi  1439472256\n",
       "2       4     1732       dark comedy  1573943598\n",
       "3       4     1732    great dialogue  1573943604\n",
       "4       4     7569  so bad it's good  1573943455"
      ]
     },
     "metadata": {},
     "output_type": "display_data"
    },
    {
     "name": "stdout",
     "output_type": "stream",
     "text": [
      "Genome Scores:\n"
     ]
    },
    {
     "data": {
      "text/html": [
       "<div>\n",
       "<style scoped>\n",
       "    .dataframe tbody tr th:only-of-type {\n",
       "        vertical-align: middle;\n",
       "    }\n",
       "\n",
       "    .dataframe tbody tr th {\n",
       "        vertical-align: top;\n",
       "    }\n",
       "\n",
       "    .dataframe thead th {\n",
       "        text-align: right;\n",
       "    }\n",
       "</style>\n",
       "<table border=\"1\" class=\"dataframe\">\n",
       "  <thead>\n",
       "    <tr style=\"text-align: right;\">\n",
       "      <th></th>\n",
       "      <th>movieId</th>\n",
       "      <th>tagId</th>\n",
       "      <th>relevance</th>\n",
       "    </tr>\n",
       "  </thead>\n",
       "  <tbody>\n",
       "    <tr>\n",
       "      <th>0</th>\n",
       "      <td>1</td>\n",
       "      <td>1</td>\n",
       "      <td>0.02875</td>\n",
       "    </tr>\n",
       "    <tr>\n",
       "      <th>1</th>\n",
       "      <td>1</td>\n",
       "      <td>2</td>\n",
       "      <td>0.02375</td>\n",
       "    </tr>\n",
       "    <tr>\n",
       "      <th>2</th>\n",
       "      <td>1</td>\n",
       "      <td>3</td>\n",
       "      <td>0.06250</td>\n",
       "    </tr>\n",
       "    <tr>\n",
       "      <th>3</th>\n",
       "      <td>1</td>\n",
       "      <td>4</td>\n",
       "      <td>0.07575</td>\n",
       "    </tr>\n",
       "    <tr>\n",
       "      <th>4</th>\n",
       "      <td>1</td>\n",
       "      <td>5</td>\n",
       "      <td>0.14075</td>\n",
       "    </tr>\n",
       "  </tbody>\n",
       "</table>\n",
       "</div>"
      ],
      "text/plain": [
       "   movieId  tagId  relevance\n",
       "0        1      1    0.02875\n",
       "1        1      2    0.02375\n",
       "2        1      3    0.06250\n",
       "3        1      4    0.07575\n",
       "4        1      5    0.14075"
      ]
     },
     "metadata": {},
     "output_type": "display_data"
    },
    {
     "name": "stdout",
     "output_type": "stream",
     "text": [
      "Genome Tags:\n"
     ]
    },
    {
     "data": {
      "text/html": [
       "<div>\n",
       "<style scoped>\n",
       "    .dataframe tbody tr th:only-of-type {\n",
       "        vertical-align: middle;\n",
       "    }\n",
       "\n",
       "    .dataframe tbody tr th {\n",
       "        vertical-align: top;\n",
       "    }\n",
       "\n",
       "    .dataframe thead th {\n",
       "        text-align: right;\n",
       "    }\n",
       "</style>\n",
       "<table border=\"1\" class=\"dataframe\">\n",
       "  <thead>\n",
       "    <tr style=\"text-align: right;\">\n",
       "      <th></th>\n",
       "      <th>tagId</th>\n",
       "      <th>tag</th>\n",
       "    </tr>\n",
       "  </thead>\n",
       "  <tbody>\n",
       "    <tr>\n",
       "      <th>0</th>\n",
       "      <td>1</td>\n",
       "      <td>007</td>\n",
       "    </tr>\n",
       "    <tr>\n",
       "      <th>1</th>\n",
       "      <td>2</td>\n",
       "      <td>007 (series)</td>\n",
       "    </tr>\n",
       "    <tr>\n",
       "      <th>2</th>\n",
       "      <td>3</td>\n",
       "      <td>18th century</td>\n",
       "    </tr>\n",
       "    <tr>\n",
       "      <th>3</th>\n",
       "      <td>4</td>\n",
       "      <td>1920s</td>\n",
       "    </tr>\n",
       "    <tr>\n",
       "      <th>4</th>\n",
       "      <td>5</td>\n",
       "      <td>1930s</td>\n",
       "    </tr>\n",
       "  </tbody>\n",
       "</table>\n",
       "</div>"
      ],
      "text/plain": [
       "   tagId           tag\n",
       "0      1           007\n",
       "1      2  007 (series)\n",
       "2      3  18th century\n",
       "3      4         1920s\n",
       "4      5         1930s"
      ]
     },
     "metadata": {},
     "output_type": "display_data"
    }
   ],
   "source": [
    "# print the first 5 rows of the csv files\n",
    "print('Movies:')\n",
    "display(movies.head())\n",
    "print('Ratings:')\n",
    "display(ratings.head())\n",
    "print('Tags:')\n",
    "display(tags.head())\n",
    "print('Genome Scores:')\n",
    "display(genome_scores.head())\n",
    "print('Genome Tags:')\n",
    "display(genome_tags.head())\n"
   ]
  },
  {
   "attachments": {},
   "cell_type": "markdown",
   "metadata": {},
   "source": [
    "### Data Wrangling"
   ]
  },
  {
   "cell_type": "code",
   "execution_count": 5,
   "metadata": {},
   "outputs": [
    {
     "data": {
      "text/html": [
       "<div>\n",
       "<style scoped>\n",
       "    .dataframe tbody tr th:only-of-type {\n",
       "        vertical-align: middle;\n",
       "    }\n",
       "\n",
       "    .dataframe tbody tr th {\n",
       "        vertical-align: top;\n",
       "    }\n",
       "\n",
       "    .dataframe thead th {\n",
       "        text-align: right;\n",
       "    }\n",
       "</style>\n",
       "<table border=\"1\" class=\"dataframe\">\n",
       "  <thead>\n",
       "    <tr style=\"text-align: right;\">\n",
       "      <th></th>\n",
       "      <th>movieId</th>\n",
       "      <th>title</th>\n",
       "      <th>genres</th>\n",
       "      <th>mean_rating</th>\n",
       "      <th>rating_count</th>\n",
       "      <th>mean_timestamp</th>\n",
       "    </tr>\n",
       "  </thead>\n",
       "  <tbody>\n",
       "    <tr>\n",
       "      <th>0</th>\n",
       "      <td>1</td>\n",
       "      <td>Toy Story (1995)</td>\n",
       "      <td>Adventure|Animation|Children|Comedy|Fantasy</td>\n",
       "      <td>3.893708</td>\n",
       "      <td>57309</td>\n",
       "      <td>1153152210</td>\n",
       "    </tr>\n",
       "    <tr>\n",
       "      <th>1</th>\n",
       "      <td>2</td>\n",
       "      <td>Jumanji (1995)</td>\n",
       "      <td>Adventure|Children|Fantasy</td>\n",
       "      <td>3.251527</td>\n",
       "      <td>24228</td>\n",
       "      <td>1122310117</td>\n",
       "    </tr>\n",
       "    <tr>\n",
       "      <th>2</th>\n",
       "      <td>3</td>\n",
       "      <td>Grumpier Old Men (1995)</td>\n",
       "      <td>Comedy|Romance</td>\n",
       "      <td>3.142028</td>\n",
       "      <td>11804</td>\n",
       "      <td>980602256</td>\n",
       "    </tr>\n",
       "    <tr>\n",
       "      <th>3</th>\n",
       "      <td>4</td>\n",
       "      <td>Waiting to Exhale (1995)</td>\n",
       "      <td>Comedy|Drama|Romance</td>\n",
       "      <td>2.853547</td>\n",
       "      <td>2523</td>\n",
       "      <td>942460471</td>\n",
       "    </tr>\n",
       "    <tr>\n",
       "      <th>4</th>\n",
       "      <td>5</td>\n",
       "      <td>Father of the Bride Part II (1995)</td>\n",
       "      <td>Comedy</td>\n",
       "      <td>3.058434</td>\n",
       "      <td>11714</td>\n",
       "      <td>1004723013</td>\n",
       "    </tr>\n",
       "  </tbody>\n",
       "</table>\n",
       "</div>"
      ],
      "text/plain": [
       "   movieId                               title  \\\n",
       "0        1                    Toy Story (1995)   \n",
       "1        2                      Jumanji (1995)   \n",
       "2        3             Grumpier Old Men (1995)   \n",
       "3        4            Waiting to Exhale (1995)   \n",
       "4        5  Father of the Bride Part II (1995)   \n",
       "\n",
       "                                        genres  mean_rating  rating_count  \\\n",
       "0  Adventure|Animation|Children|Comedy|Fantasy     3.893708         57309   \n",
       "1                   Adventure|Children|Fantasy     3.251527         24228   \n",
       "2                               Comedy|Romance     3.142028         11804   \n",
       "3                         Comedy|Drama|Romance     2.853547          2523   \n",
       "4                                       Comedy     3.058434         11714   \n",
       "\n",
       "   mean_timestamp  \n",
       "0      1153152210  \n",
       "1      1122310117  \n",
       "2       980602256  \n",
       "3       942460471  \n",
       "4      1004723013  "
      ]
     },
     "metadata": {},
     "output_type": "display_data"
    }
   ],
   "source": [
    "# ratings group by movieId with mean and count\n",
    "grouped_ratings = ratings.groupby('movieId').agg({'rating': ['mean', 'count'], 'timestamp': ['mean']})\n",
    "grouped_ratings.columns = ['mean_rating', 'rating_count', 'mean_timestamp']\n",
    "grouped_ratings = grouped_ratings.astype({'mean_timestamp': 'int'})\n",
    "\n",
    "# Dataset merge with movies and ratings, with missing rating films removed\n",
    "df = pd.merge(movies, grouped_ratings, on='movieId')\n",
    "\n",
    "display(df.head())\n"
   ]
  },
  {
   "cell_type": "code",
   "execution_count": 6,
   "metadata": {},
   "outputs": [
    {
     "name": "stderr",
     "output_type": "stream",
     "text": [
      "/var/folders/x8/p0tjyw5163s2pb2vfft_2jbc0000gn/T/ipykernel_2484/2056138442.py:10: SettingWithCopyWarning: \n",
      "A value is trying to be set on a copy of a slice from a DataFrame.\n",
      "Try using .loc[row_indexer,col_indexer] = value instead\n",
      "\n",
      "See the caveats in the documentation: https://pandas.pydata.org/pandas-docs/stable/user_guide/indexing.html#returning-a-view-versus-a-copy\n",
      "  genome_scores_2['tag'] = genome_scores_2['tagId'].map(genome_tags.set_index('tagId')['tag'].to_dict())\n"
     ]
    },
    {
     "data": {
      "text/html": [
       "<div>\n",
       "<style scoped>\n",
       "    .dataframe tbody tr th:only-of-type {\n",
       "        vertical-align: middle;\n",
       "    }\n",
       "\n",
       "    .dataframe tbody tr th {\n",
       "        vertical-align: top;\n",
       "    }\n",
       "\n",
       "    .dataframe thead th {\n",
       "        text-align: right;\n",
       "    }\n",
       "</style>\n",
       "<table border=\"1\" class=\"dataframe\">\n",
       "  <thead>\n",
       "    <tr style=\"text-align: right;\">\n",
       "      <th></th>\n",
       "      <th>movieId</th>\n",
       "      <th>title</th>\n",
       "      <th>genres</th>\n",
       "      <th>mean_rating</th>\n",
       "      <th>rating_count</th>\n",
       "      <th>mean_timestamp</th>\n",
       "      <th>absurd</th>\n",
       "      <th>action</th>\n",
       "      <th>adaptation</th>\n",
       "      <th>adapted from:book</th>\n",
       "      <th>...</th>\n",
       "      <th>visceral</th>\n",
       "      <th>visual</th>\n",
       "      <th>visually appealing</th>\n",
       "      <th>visually stunning</th>\n",
       "      <th>weapons</th>\n",
       "      <th>weird</th>\n",
       "      <th>whimsical</th>\n",
       "      <th>witty</th>\n",
       "      <th>women</th>\n",
       "      <th>writers</th>\n",
       "    </tr>\n",
       "  </thead>\n",
       "  <tbody>\n",
       "    <tr>\n",
       "      <th>0</th>\n",
       "      <td>1</td>\n",
       "      <td>Toy Story (1995)</td>\n",
       "      <td>Adventure|Animation|Children|Comedy|Fantasy</td>\n",
       "      <td>3.893708</td>\n",
       "      <td>57309</td>\n",
       "      <td>1153152210</td>\n",
       "      <td>0.10400</td>\n",
       "      <td>0.66250</td>\n",
       "      <td>0.31675</td>\n",
       "      <td>0.28600</td>\n",
       "      <td>...</td>\n",
       "      <td>0.15150</td>\n",
       "      <td>0.56375</td>\n",
       "      <td>0.3150</td>\n",
       "      <td>0.67325</td>\n",
       "      <td>0.26375</td>\n",
       "      <td>0.42700</td>\n",
       "      <td>0.58700</td>\n",
       "      <td>0.69400</td>\n",
       "      <td>0.08925</td>\n",
       "      <td>0.14125</td>\n",
       "    </tr>\n",
       "    <tr>\n",
       "      <th>1</th>\n",
       "      <td>2</td>\n",
       "      <td>Jumanji (1995)</td>\n",
       "      <td>Adventure|Children|Fantasy</td>\n",
       "      <td>3.251527</td>\n",
       "      <td>24228</td>\n",
       "      <td>1122310117</td>\n",
       "      <td>0.15925</td>\n",
       "      <td>0.64025</td>\n",
       "      <td>0.51450</td>\n",
       "      <td>0.48450</td>\n",
       "      <td>...</td>\n",
       "      <td>0.07325</td>\n",
       "      <td>0.38150</td>\n",
       "      <td>0.2250</td>\n",
       "      <td>0.21700</td>\n",
       "      <td>0.17800</td>\n",
       "      <td>0.38650</td>\n",
       "      <td>0.29250</td>\n",
       "      <td>0.18725</td>\n",
       "      <td>0.13525</td>\n",
       "      <td>0.12225</td>\n",
       "    </tr>\n",
       "    <tr>\n",
       "      <th>2</th>\n",
       "      <td>3</td>\n",
       "      <td>Grumpier Old Men (1995)</td>\n",
       "      <td>Comedy|Romance</td>\n",
       "      <td>3.142028</td>\n",
       "      <td>11804</td>\n",
       "      <td>980602256</td>\n",
       "      <td>0.11375</td>\n",
       "      <td>0.16025</td>\n",
       "      <td>0.25200</td>\n",
       "      <td>0.19375</td>\n",
       "      <td>...</td>\n",
       "      <td>0.10175</td>\n",
       "      <td>0.10725</td>\n",
       "      <td>0.1960</td>\n",
       "      <td>0.09850</td>\n",
       "      <td>0.14125</td>\n",
       "      <td>0.24350</td>\n",
       "      <td>0.13025</td>\n",
       "      <td>0.22325</td>\n",
       "      <td>0.35075</td>\n",
       "      <td>0.12200</td>\n",
       "    </tr>\n",
       "    <tr>\n",
       "      <th>3</th>\n",
       "      <td>4</td>\n",
       "      <td>Waiting to Exhale (1995)</td>\n",
       "      <td>Comedy|Drama|Romance</td>\n",
       "      <td>2.853547</td>\n",
       "      <td>2523</td>\n",
       "      <td>942460471</td>\n",
       "      <td>0.13375</td>\n",
       "      <td>0.14700</td>\n",
       "      <td>0.50700</td>\n",
       "      <td>0.46175</td>\n",
       "      <td>...</td>\n",
       "      <td>0.08800</td>\n",
       "      <td>0.10750</td>\n",
       "      <td>0.2115</td>\n",
       "      <td>0.11625</td>\n",
       "      <td>0.28950</td>\n",
       "      <td>0.21975</td>\n",
       "      <td>0.14775</td>\n",
       "      <td>0.10725</td>\n",
       "      <td>0.97525</td>\n",
       "      <td>0.18200</td>\n",
       "    </tr>\n",
       "    <tr>\n",
       "      <th>4</th>\n",
       "      <td>5</td>\n",
       "      <td>Father of the Bride Part II (1995)</td>\n",
       "      <td>Comedy</td>\n",
       "      <td>3.058434</td>\n",
       "      <td>11714</td>\n",
       "      <td>1004723013</td>\n",
       "      <td>0.15475</td>\n",
       "      <td>0.15575</td>\n",
       "      <td>0.28925</td>\n",
       "      <td>0.19800</td>\n",
       "      <td>...</td>\n",
       "      <td>0.08275</td>\n",
       "      <td>0.11925</td>\n",
       "      <td>0.1850</td>\n",
       "      <td>0.11875</td>\n",
       "      <td>0.12025</td>\n",
       "      <td>0.29350</td>\n",
       "      <td>0.16425</td>\n",
       "      <td>0.10475</td>\n",
       "      <td>0.40225</td>\n",
       "      <td>0.19225</td>\n",
       "    </tr>\n",
       "  </tbody>\n",
       "</table>\n",
       "<p>5 rows × 205 columns</p>\n",
       "</div>"
      ],
      "text/plain": [
       "   movieId                               title  \\\n",
       "0        1                    Toy Story (1995)   \n",
       "1        2                      Jumanji (1995)   \n",
       "2        3             Grumpier Old Men (1995)   \n",
       "3        4            Waiting to Exhale (1995)   \n",
       "4        5  Father of the Bride Part II (1995)   \n",
       "\n",
       "                                        genres  mean_rating  rating_count  \\\n",
       "0  Adventure|Animation|Children|Comedy|Fantasy     3.893708         57309   \n",
       "1                   Adventure|Children|Fantasy     3.251527         24228   \n",
       "2                               Comedy|Romance     3.142028         11804   \n",
       "3                         Comedy|Drama|Romance     2.853547          2523   \n",
       "4                                       Comedy     3.058434         11714   \n",
       "\n",
       "   mean_timestamp   absurd   action  adaptation  adapted from:book  ...  \\\n",
       "0      1153152210  0.10400  0.66250     0.31675            0.28600  ...   \n",
       "1      1122310117  0.15925  0.64025     0.51450            0.48450  ...   \n",
       "2       980602256  0.11375  0.16025     0.25200            0.19375  ...   \n",
       "3       942460471  0.13375  0.14700     0.50700            0.46175  ...   \n",
       "4      1004723013  0.15475  0.15575     0.28925            0.19800  ...   \n",
       "\n",
       "   visceral   visual  visually appealing  visually stunning  weapons    weird  \\\n",
       "0   0.15150  0.56375              0.3150            0.67325  0.26375  0.42700   \n",
       "1   0.07325  0.38150              0.2250            0.21700  0.17800  0.38650   \n",
       "2   0.10175  0.10725              0.1960            0.09850  0.14125  0.24350   \n",
       "3   0.08800  0.10750              0.2115            0.11625  0.28950  0.21975   \n",
       "4   0.08275  0.11925              0.1850            0.11875  0.12025  0.29350   \n",
       "\n",
       "   whimsical    witty    women  writers  \n",
       "0    0.58700  0.69400  0.08925  0.14125  \n",
       "1    0.29250  0.18725  0.13525  0.12225  \n",
       "2    0.13025  0.22325  0.35075  0.12200  \n",
       "3    0.14775  0.10725  0.97525  0.18200  \n",
       "4    0.16425  0.10475  0.40225  0.19225  \n",
       "\n",
       "[5 rows x 205 columns]"
      ]
     },
     "metadata": {},
     "output_type": "display_data"
    }
   ],
   "source": [
    "# Group by tagId and compute mean relevance\n",
    "mean_relevance = genome_scores.groupby('tagId').mean()['relevance']\n",
    "\n",
    "# Filter out tags with low mean relevance\n",
    "threshold = 0.2\n",
    "good_tags = mean_relevance.where(mean_relevance > threshold).dropna().index\n",
    "genome_scores_2 = genome_scores[genome_scores['tagId'].isin(good_tags)]\n",
    "\n",
    "# Merge movies with genome scores\n",
    "genome_scores_2['tag'] = genome_scores_2['tagId'].map(genome_tags.set_index('tagId')['tag'].to_dict())\n",
    "genome_table = genome_scores_2.pivot_table(index='movieId', columns='tag', values='relevance')\n",
    "\n",
    "# Merge movies with genome table\n",
    "df = pd.merge(df, genome_table, on='movieId', how='left')\n",
    "display(df.head())"
   ]
  },
  {
   "attachments": {},
   "cell_type": "markdown",
   "metadata": {},
   "source": [
    "### Data Preparation (Data cleaning, Duplicates filtering, Data encoding)"
   ]
  },
  {
   "attachments": {},
   "cell_type": "markdown",
   "metadata": {},
   "source": [
    "##### Data Cleaning"
   ]
  },
  {
   "cell_type": "code",
   "execution_count": 7,
   "metadata": {},
   "outputs": [
    {
     "name": "stdout",
     "output_type": "stream",
     "text": [
      "Number of rows:  59047\n",
      "Number of rows after dropping missing values:  59047\n"
     ]
    }
   ],
   "source": [
    "# print number of rows\n",
    "print('Number of rows: ', df.shape[0])\n",
    "\n",
    "# fill rows with missing values (there are films with no tags, so we fill these tag columns set to 0)\n",
    "df = df.fillna(0)\n",
    "\n",
    "# print number of rows after dropping missing values\n",
    "print('Number of rows after dropping missing values: ', df.shape[0])\n"
   ]
  },
  {
   "attachments": {},
   "cell_type": "markdown",
   "metadata": {},
   "source": [
    "##### Data Encoding\n",
    "Multicategorical One-Hot encoding for film genres"
   ]
  },
  {
   "cell_type": "code",
   "execution_count": 8,
   "metadata": {},
   "outputs": [
    {
     "name": "stdout",
     "output_type": "stream",
     "text": [
      "{'Sci-Fi', 'Mystery', 'IMAX', 'Children', 'War', 'Crime', 'Action', 'Animation', 'Fantasy', 'Horror', 'Adventure', 'Comedy', 'Romance', 'Western', 'Musical', 'Film-Noir', 'Thriller', 'Documentary', 'Drama'}\n"
     ]
    },
    {
     "data": {
      "text/html": [
       "<div>\n",
       "<style scoped>\n",
       "    .dataframe tbody tr th:only-of-type {\n",
       "        vertical-align: middle;\n",
       "    }\n",
       "\n",
       "    .dataframe tbody tr th {\n",
       "        vertical-align: top;\n",
       "    }\n",
       "\n",
       "    .dataframe thead th {\n",
       "        text-align: right;\n",
       "    }\n",
       "</style>\n",
       "<table border=\"1\" class=\"dataframe\">\n",
       "  <thead>\n",
       "    <tr style=\"text-align: right;\">\n",
       "      <th></th>\n",
       "      <th>movieId</th>\n",
       "      <th>title</th>\n",
       "      <th>mean_rating</th>\n",
       "      <th>rating_count</th>\n",
       "      <th>mean_timestamp</th>\n",
       "      <th>absurd</th>\n",
       "      <th>action</th>\n",
       "      <th>adaptation</th>\n",
       "      <th>adapted from:book</th>\n",
       "      <th>adventure</th>\n",
       "      <th>...</th>\n",
       "      <th>Horror</th>\n",
       "      <th>Adventure</th>\n",
       "      <th>Comedy</th>\n",
       "      <th>Romance</th>\n",
       "      <th>Western</th>\n",
       "      <th>Musical</th>\n",
       "      <th>Film-Noir</th>\n",
       "      <th>Thriller</th>\n",
       "      <th>Documentary</th>\n",
       "      <th>Drama</th>\n",
       "    </tr>\n",
       "  </thead>\n",
       "  <tbody>\n",
       "    <tr>\n",
       "      <th>0</th>\n",
       "      <td>1</td>\n",
       "      <td>Toy Story (1995)</td>\n",
       "      <td>3.893708</td>\n",
       "      <td>57309</td>\n",
       "      <td>1153152210</td>\n",
       "      <td>0.10400</td>\n",
       "      <td>0.66250</td>\n",
       "      <td>0.31675</td>\n",
       "      <td>0.28600</td>\n",
       "      <td>0.89375</td>\n",
       "      <td>...</td>\n",
       "      <td>0</td>\n",
       "      <td>1</td>\n",
       "      <td>1</td>\n",
       "      <td>0</td>\n",
       "      <td>0</td>\n",
       "      <td>0</td>\n",
       "      <td>0</td>\n",
       "      <td>0</td>\n",
       "      <td>0</td>\n",
       "      <td>0</td>\n",
       "    </tr>\n",
       "    <tr>\n",
       "      <th>1</th>\n",
       "      <td>2</td>\n",
       "      <td>Jumanji (1995)</td>\n",
       "      <td>3.251527</td>\n",
       "      <td>24228</td>\n",
       "      <td>1122310117</td>\n",
       "      <td>0.15925</td>\n",
       "      <td>0.64025</td>\n",
       "      <td>0.51450</td>\n",
       "      <td>0.48450</td>\n",
       "      <td>0.97600</td>\n",
       "      <td>...</td>\n",
       "      <td>0</td>\n",
       "      <td>1</td>\n",
       "      <td>0</td>\n",
       "      <td>0</td>\n",
       "      <td>0</td>\n",
       "      <td>0</td>\n",
       "      <td>0</td>\n",
       "      <td>0</td>\n",
       "      <td>0</td>\n",
       "      <td>0</td>\n",
       "    </tr>\n",
       "    <tr>\n",
       "      <th>2</th>\n",
       "      <td>3</td>\n",
       "      <td>Grumpier Old Men (1995)</td>\n",
       "      <td>3.142028</td>\n",
       "      <td>11804</td>\n",
       "      <td>980602256</td>\n",
       "      <td>0.11375</td>\n",
       "      <td>0.16025</td>\n",
       "      <td>0.25200</td>\n",
       "      <td>0.19375</td>\n",
       "      <td>0.32150</td>\n",
       "      <td>...</td>\n",
       "      <td>0</td>\n",
       "      <td>0</td>\n",
       "      <td>1</td>\n",
       "      <td>1</td>\n",
       "      <td>0</td>\n",
       "      <td>0</td>\n",
       "      <td>0</td>\n",
       "      <td>0</td>\n",
       "      <td>0</td>\n",
       "      <td>0</td>\n",
       "    </tr>\n",
       "    <tr>\n",
       "      <th>3</th>\n",
       "      <td>4</td>\n",
       "      <td>Waiting to Exhale (1995)</td>\n",
       "      <td>2.853547</td>\n",
       "      <td>2523</td>\n",
       "      <td>942460471</td>\n",
       "      <td>0.13375</td>\n",
       "      <td>0.14700</td>\n",
       "      <td>0.50700</td>\n",
       "      <td>0.46175</td>\n",
       "      <td>0.14875</td>\n",
       "      <td>...</td>\n",
       "      <td>0</td>\n",
       "      <td>0</td>\n",
       "      <td>1</td>\n",
       "      <td>1</td>\n",
       "      <td>0</td>\n",
       "      <td>0</td>\n",
       "      <td>0</td>\n",
       "      <td>0</td>\n",
       "      <td>0</td>\n",
       "      <td>1</td>\n",
       "    </tr>\n",
       "    <tr>\n",
       "      <th>4</th>\n",
       "      <td>5</td>\n",
       "      <td>Father of the Bride Part II (1995)</td>\n",
       "      <td>3.058434</td>\n",
       "      <td>11714</td>\n",
       "      <td>1004723013</td>\n",
       "      <td>0.15475</td>\n",
       "      <td>0.15575</td>\n",
       "      <td>0.28925</td>\n",
       "      <td>0.19800</td>\n",
       "      <td>0.16350</td>\n",
       "      <td>...</td>\n",
       "      <td>0</td>\n",
       "      <td>0</td>\n",
       "      <td>1</td>\n",
       "      <td>0</td>\n",
       "      <td>0</td>\n",
       "      <td>0</td>\n",
       "      <td>0</td>\n",
       "      <td>0</td>\n",
       "      <td>0</td>\n",
       "      <td>0</td>\n",
       "    </tr>\n",
       "  </tbody>\n",
       "</table>\n",
       "<p>5 rows × 223 columns</p>\n",
       "</div>"
      ],
      "text/plain": [
       "   movieId                               title  mean_rating  rating_count  \\\n",
       "0        1                    Toy Story (1995)     3.893708         57309   \n",
       "1        2                      Jumanji (1995)     3.251527         24228   \n",
       "2        3             Grumpier Old Men (1995)     3.142028         11804   \n",
       "3        4            Waiting to Exhale (1995)     2.853547          2523   \n",
       "4        5  Father of the Bride Part II (1995)     3.058434         11714   \n",
       "\n",
       "   mean_timestamp   absurd   action  adaptation  adapted from:book  adventure  \\\n",
       "0      1153152210  0.10400  0.66250     0.31675            0.28600    0.89375   \n",
       "1      1122310117  0.15925  0.64025     0.51450            0.48450    0.97600   \n",
       "2       980602256  0.11375  0.16025     0.25200            0.19375    0.32150   \n",
       "3       942460471  0.13375  0.14700     0.50700            0.46175    0.14875   \n",
       "4      1004723013  0.15475  0.15575     0.28925            0.19800    0.16350   \n",
       "\n",
       "   ...  Horror  Adventure  Comedy  Romance  Western  Musical  Film-Noir  \\\n",
       "0  ...       0          1       1        0        0        0          0   \n",
       "1  ...       0          1       0        0        0        0          0   \n",
       "2  ...       0          0       1        1        0        0          0   \n",
       "3  ...       0          0       1        1        0        0          0   \n",
       "4  ...       0          0       1        0        0        0          0   \n",
       "\n",
       "   Thriller  Documentary  Drama  \n",
       "0         0            0      0  \n",
       "1         0            0      0  \n",
       "2         0            0      0  \n",
       "3         0            0      1  \n",
       "4         0            0      0  \n",
       "\n",
       "[5 rows x 223 columns]"
      ]
     },
     "metadata": {},
     "output_type": "display_data"
    }
   ],
   "source": [
    "# one hot encoding for genres\n",
    "categories = set()\n",
    "for s in df['genres'].str.split('|').values:\n",
    "    if s != ['(no genres listed)']:\n",
    "        categories = categories.union(set(s))\n",
    "\n",
    "print(categories)\n",
    "\n",
    "# add columns for each category\n",
    "for category in categories:\n",
    "    df[category] = df['genres'].str.contains(category).astype(int)\n",
    "\n",
    "# delete genres column\n",
    "df = df.drop(columns=['genres'])\n",
    "\n",
    "display(df.head())"
   ]
  },
  {
   "attachments": {},
   "cell_type": "markdown",
   "metadata": {},
   "source": [
    "##### Duplicates Filtering\n",
    "The following results show that there are no duplicates in the dataset (as expected after merge operation)."
   ]
  },
  {
   "cell_type": "code",
   "execution_count": 9,
   "metadata": {},
   "outputs": [
    {
     "name": "stdout",
     "output_type": "stream",
     "text": [
      "Number of rows:  59047\n",
      "Number of rows after dropping duplicated rows:  59047\n"
     ]
    }
   ],
   "source": [
    "# print number of rows\n",
    "print('Number of rows: ', df.shape[0])\n",
    "\n",
    "# drop duplicated rows\n",
    "df = df.drop_duplicates()\n",
    "\n",
    "# print number of rows after dropping missing values\n",
    "print('Number of rows after dropping duplicated rows: ', df.shape[0])\n"
   ]
  },
  {
   "attachments": {},
   "cell_type": "markdown",
   "metadata": {},
   "source": [
    "## Data Visualization"
   ]
  },
  {
   "cell_type": "code",
   "execution_count": 10,
   "metadata": {},
   "outputs": [
    {
     "data": {
      "text/plain": [
       "\" # rating distribution from ratings.csv\\nsns.countplot(x='rating', data=ratings)\\nplt.show()\\n\\nsns.boxplot(x='rating', data=ratings)\\nplt.show() \""
      ]
     },
     "execution_count": 10,
     "metadata": {},
     "output_type": "execute_result"
    }
   ],
   "source": [
    "\"\"\" # rating distribution from ratings.csv\n",
    "sns.countplot(x='rating', data=ratings)\n",
    "plt.show()\n",
    "\n",
    "sns.boxplot(x='rating', data=ratings)\n",
    "plt.show() \"\"\"\n"
   ]
  },
  {
   "attachments": {},
   "cell_type": "markdown",
   "metadata": {},
   "source": [
    "Rather than using discrete bins, a KDE plot smooths the observations with a Gaussian kernel, producing a continuous density estimate. This is used for continuous attributes like rating mean.\n",
    "\n",
    "It is done to show differences after data aggregation in calculating mean for each film."
   ]
  },
  {
   "cell_type": "code",
   "execution_count": 11,
   "metadata": {},
   "outputs": [
    {
     "data": {
      "text/plain": [
       "\" # rating distribution from df\\nsns.kdeplot(df['mean_rating'])\\nplt.xlabel('rating mean for film')\\nplt.title('Rating distribution in dataframe')\\nplt.show() \""
      ]
     },
     "execution_count": 11,
     "metadata": {},
     "output_type": "execute_result"
    }
   ],
   "source": [
    "\"\"\" # rating distribution from df\n",
    "sns.kdeplot(df['mean_rating'])\n",
    "plt.xlabel('rating mean for film')\n",
    "plt.title('Rating distribution in dataframe')\n",
    "plt.show() \"\"\"\n"
   ]
  },
  {
   "cell_type": "code",
   "execution_count": 12,
   "metadata": {},
   "outputs": [
    {
     "data": {
      "text/plain": [
       "' movies_to_show = 5\\nfig, axs = plt.subplots(movies_to_show, sharex=True, sharey=True, figsize=(10, 10))\\n\\nmost_rated_movies = ratings.groupby(\\'movieId\\').count().sort_values(\\'rating\\', ascending=False).head(movies_to_show).index\\n\\nto_line_plot = []\\nfor i in range(movies_to_show):\\n    tmp = ratings.where(ratings[\\'movieId\\'] == most_rated_movies[i]).dropna()\\n    tmp[\\'date\\'] = pd.to_datetime(tmp[\\'timestamp\\'], unit=\\'s\\')\\n    \\n    # Computing the mean for each month\\n    tmp = tmp.resample(\"M\", on=\\'date\\').mean()[[\\'movieId\\', \\'rating\\']].dropna()\\n    to_line_plot.append(tmp)\\n    movie_title = movies.where(movies[\\'movieId\\'] == most_rated_movies[i]).dropna()[\\'title\\'].values[0]\\n    axs[i].set_title(\"Movie: \\'\" + movie_title + \"\\'\")\\n    \\n\\nfor i in range(movies_to_show):\\n    sns.lineplot(x=\\'date\\', y=\\'rating\\', ax=axs[i], data=to_line_plot[i])\\n\\nfig.suptitle(\\'Rating evolution for the 5 most rated movies\\')\\nplt.show() '"
      ]
     },
     "execution_count": 12,
     "metadata": {},
     "output_type": "execute_result"
    }
   ],
   "source": [
    "\"\"\" movies_to_show = 5\n",
    "fig, axs = plt.subplots(movies_to_show, sharex=True, sharey=True, figsize=(10, 10))\n",
    "\n",
    "most_rated_movies = ratings.groupby('movieId').count().sort_values('rating', ascending=False).head(movies_to_show).index\n",
    "\n",
    "to_line_plot = []\n",
    "for i in range(movies_to_show):\n",
    "    tmp = ratings.where(ratings['movieId'] == most_rated_movies[i]).dropna()\n",
    "    tmp['date'] = pd.to_datetime(tmp['timestamp'], unit='s')\n",
    "    \n",
    "    # Computing the mean for each month\n",
    "    tmp = tmp.resample(\"M\", on='date').mean()[['movieId', 'rating']].dropna()\n",
    "    to_line_plot.append(tmp)\n",
    "    movie_title = movies.where(movies['movieId'] == most_rated_movies[i]).dropna()['title'].values[0]\n",
    "    axs[i].set_title(\"Movie: '\" + movie_title + \"'\")\n",
    "    \n",
    "\n",
    "for i in range(movies_to_show):\n",
    "    sns.lineplot(x='date', y='rating', ax=axs[i], data=to_line_plot[i])\n",
    "\n",
    "fig.suptitle('Rating evolution for the 5 most rated movies')\n",
    "plt.show() \"\"\""
   ]
  },
  {
   "cell_type": "code",
   "execution_count": 13,
   "metadata": {},
   "outputs": [
    {
     "data": {
      "text/plain": [
       "' # Same as above cell but the 3 movies with the highest standard deviation\\nmovies_to_show = 3\\nfig, axs = plt.subplots(movies_to_show, sharex=True, sharey=True, figsize=(10, 10))\\n\\n# Take movies with at least 1000 ratings\\nhigh_std_movies = ratings.where(\\n    ratings[\\'movieId\\']\\n    .isin(ratings.groupby(\\'movieId\\')\\n          .count()\\n          .where(ratings.groupby(\\'movieId\\').count()[\\'rating\\'] > 1000)\\n          .dropna().index)\\n    ).dropna()\\n\\n# most_rated_movies = ratings.groupby(\\'movieId\\').count().sort_values(\\'rating\\', ascending=False).head(movies_to_show).index\\nhigh_std_movies = high_std_movies.groupby(\\'movieId\\').std().sort_values(\\'rating\\', ascending=False).head(movies_to_show).index\\n\\nto_line_plot = []\\nfor i in range(movies_to_show):\\n    tmp = ratings.where(ratings[\\'movieId\\'] == high_std_movies[i]).dropna()\\n    tmp[\\'date\\'] = pd.to_datetime(tmp[\\'timestamp\\'], unit=\\'s\\')\\n    \\n    # Computing the mean for each month\\n    tmp = tmp.resample(\"M\", on=\\'date\\').mean()[[\\'movieId\\', \\'rating\\']].dropna()\\n    to_line_plot.append(tmp)\\n    movie_title = movies.where(movies[\\'movieId\\'] == high_std_movies[i]).dropna()[\\'title\\'].values[0]\\n    axs[i].set_title(\"Movie: \\'\" + movie_title + \"\\'\")\\n\\nfor i in range(movies_to_show):\\n    sns.lineplot(x=\\'date\\', y=\\'rating\\', ax=axs[i], data=to_line_plot[i])\\n\\n# Print the titles of the movies\\nplt.show() '"
      ]
     },
     "execution_count": 13,
     "metadata": {},
     "output_type": "execute_result"
    }
   ],
   "source": [
    "\"\"\" # Same as above cell but the 3 movies with the highest standard deviation\n",
    "movies_to_show = 3\n",
    "fig, axs = plt.subplots(movies_to_show, sharex=True, sharey=True, figsize=(10, 10))\n",
    "\n",
    "# Take movies with at least 1000 ratings\n",
    "high_std_movies = ratings.where(\n",
    "    ratings['movieId']\n",
    "    .isin(ratings.groupby('movieId')\n",
    "          .count()\n",
    "          .where(ratings.groupby('movieId').count()['rating'] > 1000)\n",
    "          .dropna().index)\n",
    "    ).dropna()\n",
    "\n",
    "# most_rated_movies = ratings.groupby('movieId').count().sort_values('rating', ascending=False).head(movies_to_show).index\n",
    "high_std_movies = high_std_movies.groupby('movieId').std().sort_values('rating', ascending=False).head(movies_to_show).index\n",
    "\n",
    "to_line_plot = []\n",
    "for i in range(movies_to_show):\n",
    "    tmp = ratings.where(ratings['movieId'] == high_std_movies[i]).dropna()\n",
    "    tmp['date'] = pd.to_datetime(tmp['timestamp'], unit='s')\n",
    "    \n",
    "    # Computing the mean for each month\n",
    "    tmp = tmp.resample(\"M\", on='date').mean()[['movieId', 'rating']].dropna()\n",
    "    to_line_plot.append(tmp)\n",
    "    movie_title = movies.where(movies['movieId'] == high_std_movies[i]).dropna()['title'].values[0]\n",
    "    axs[i].set_title(\"Movie: '\" + movie_title + \"'\")\n",
    "\n",
    "for i in range(movies_to_show):\n",
    "    sns.lineplot(x='date', y='rating', ax=axs[i], data=to_line_plot[i])\n",
    "\n",
    "# Print the titles of the movies\n",
    "plt.show() \"\"\""
   ]
  },
  {
   "attachments": {},
   "cell_type": "markdown",
   "metadata": {},
   "source": [
    "Plot density for every attribute of dataset"
   ]
  },
  {
   "cell_type": "code",
   "execution_count": 14,
   "metadata": {},
   "outputs": [
    {
     "data": {
      "text/plain": [
       "\" # print distribution for ratings\\nfig, axs = plt.subplots(1, 2, figsize=(10, 2))\\nsns.kdeplot(df['mean_timestamp'], ax=axs[0], color='r', label='timestamp')\\nsns.kdeplot(df['rating_count'], ax=axs[1], color='b', label='rating')\\n\\naxs[0].set_xlabel('')\\naxs[0].set_ylabel('')\\naxs[0].title.set_text('Timestamp mean distribution')\\naxs[1].set_xlabel('')\\naxs[1].set_ylabel('')\\naxs[1].title.set_text('Rating count distribution')\\nplt.show() \""
      ]
     },
     "execution_count": 14,
     "metadata": {},
     "output_type": "execute_result"
    }
   ],
   "source": [
    "\"\"\" # print distribution for ratings\n",
    "fig, axs = plt.subplots(1, 2, figsize=(10, 2))\n",
    "sns.kdeplot(df['mean_timestamp'], ax=axs[0], color='r', label='timestamp')\n",
    "sns.kdeplot(df['rating_count'], ax=axs[1], color='b', label='rating')\n",
    "\n",
    "axs[0].set_xlabel('')\n",
    "axs[0].set_ylabel('')\n",
    "axs[0].title.set_text('Timestamp mean distribution')\n",
    "axs[1].set_xlabel('')\n",
    "axs[1].set_ylabel('')\n",
    "axs[1].title.set_text('Rating count distribution')\n",
    "plt.show() \"\"\"\n"
   ]
  },
  {
   "cell_type": "code",
   "execution_count": 15,
   "metadata": {},
   "outputs": [
    {
     "data": {
      "text/plain": [
       "\" # density plot for rating_count\\nfig, axs = plt.subplots(1,2, figsize=(10, 5))\\nsns.kdeplot(df['rating_count'], ax=axs[0], label='rating_count')\\nsns.kdeplot(df['rating_count'].where(df['rating_count'] < 50), ax=axs[1], label='rating_count < 50')\\n\\nprint('Number of movies with rating_count < 50: ', df.where(df['rating_count'] < 50).count()[0])\\nprint('Number of all movies: ', df.shape[0]) \""
      ]
     },
     "execution_count": 15,
     "metadata": {},
     "output_type": "execute_result"
    }
   ],
   "source": [
    "\"\"\" # density plot for rating_count\n",
    "fig, axs = plt.subplots(1,2, figsize=(10, 5))\n",
    "sns.kdeplot(df['rating_count'], ax=axs[0], label='rating_count')\n",
    "sns.kdeplot(df['rating_count'].where(df['rating_count'] < 50), ax=axs[1], label='rating_count < 50')\n",
    "\n",
    "print('Number of movies with rating_count < 50: ', df.where(df['rating_count'] < 50).count()[0])\n",
    "print('Number of all movies: ', df.shape[0]) \"\"\""
   ]
  },
  {
   "cell_type": "code",
   "execution_count": 16,
   "metadata": {},
   "outputs": [
    {
     "data": {
      "text/plain": [
       "' # plot for categories\\ncat = list(categories)\\n\\n# count the number of rows containing 1 for each category\\ncat_dict = {}\\nfor category in cat:\\n    cat_dict[category] = df[category].sum()\\n\\n# order the dictionary by value in descending order\\ncat_dict = {k: v for k, v in sorted(cat_dict.items(), key=lambda item: item[1], reverse=True)}\\n\\n# plot an histogram of the number of rows for each category\\nfig, axs = plt.subplots(1, 1, figsize=(20, 10))\\nax = sns.barplot(x=list(cat_dict.keys()), y=list(cat_dict.values()))\\nax.bar_label(container=ax.containers[0], labels=list(cat_dict.keys()))\\nplt.xticks([])\\nplt.show() '"
      ]
     },
     "execution_count": 16,
     "metadata": {},
     "output_type": "execute_result"
    }
   ],
   "source": [
    "\"\"\" # plot for categories\n",
    "cat = list(categories)\n",
    "\n",
    "# count the number of rows containing 1 for each category\n",
    "cat_dict = {}\n",
    "for category in cat:\n",
    "    cat_dict[category] = df[category].sum()\n",
    "\n",
    "# order the dictionary by value in descending order\n",
    "cat_dict = {k: v for k, v in sorted(cat_dict.items(), key=lambda item: item[1], reverse=True)}\n",
    "\n",
    "# plot an histogram of the number of rows for each category\n",
    "fig, axs = plt.subplots(1, 1, figsize=(20, 10))\n",
    "ax = sns.barplot(x=list(cat_dict.keys()), y=list(cat_dict.values()))\n",
    "ax.bar_label(container=ax.containers[0], labels=list(cat_dict.keys()))\n",
    "plt.xticks([])\n",
    "plt.show() \"\"\"\n"
   ]
  },
  {
   "cell_type": "code",
   "execution_count": 17,
   "metadata": {},
   "outputs": [
    {
     "data": {
      "text/plain": [
       "\" # plot for tags\\n\\ntag_columns = list(df.columns)\\ntag_columns = df.drop(columns=['movieId','title','mean_rating','rating_count', 'mean_timestamp']).columns\\ntag_columns = [tag for tag in tag_columns if tag not in categories]\\n\\ntag_dict = {}\\nfor tag in tag_columns:\\n    tag_dict[tag] = df[tag].mean()\\n\\n# order the dictionary by value in descending order\\ntag_dict = {k: v for k, v in sorted(tag_dict.items(), key=lambda item: item[1], reverse=True)}\\n\\ndisplay('Tag mean: ', tag_dict)\\n\\n# plot tag mean\\nfig, axs = plt.subplots(1, 1, figsize=(20, 10))\\nax = sns.barplot(x=list(tag_dict.keys()), y=list(tag_dict.values()))\\nax.bar_label(container=ax.containers[0], labels=list(tag_dict.keys()))\\nplt.xticks([])\\nplt.show() \""
      ]
     },
     "execution_count": 17,
     "metadata": {},
     "output_type": "execute_result"
    }
   ],
   "source": [
    "\"\"\" # plot for tags\n",
    "\n",
    "tag_columns = list(df.columns)\n",
    "tag_columns = df.drop(columns=['movieId','title','mean_rating','rating_count', 'mean_timestamp']).columns\n",
    "tag_columns = [tag for tag in tag_columns if tag not in categories]\n",
    "\n",
    "tag_dict = {}\n",
    "for tag in tag_columns:\n",
    "    tag_dict[tag] = df[tag].mean()\n",
    "\n",
    "# order the dictionary by value in descending order\n",
    "tag_dict = {k: v for k, v in sorted(tag_dict.items(), key=lambda item: item[1], reverse=True)}\n",
    "\n",
    "display('Tag mean: ', tag_dict)\n",
    "\n",
    "# plot tag mean\n",
    "fig, axs = plt.subplots(1, 1, figsize=(20, 10))\n",
    "ax = sns.barplot(x=list(tag_dict.keys()), y=list(tag_dict.values()))\n",
    "ax.bar_label(container=ax.containers[0], labels=list(tag_dict.keys()))\n",
    "plt.xticks([])\n",
    "plt.show() \"\"\"\n"
   ]
  },
  {
   "cell_type": "code",
   "execution_count": 18,
   "metadata": {},
   "outputs": [
    {
     "data": {
      "text/plain": [
       "\" # count the number of rows containing 1 for Film-Noir and IMAX\\nprint('Number of Film-Noir movies: ', df['Film-Noir'].sum())\\nprint('Number of IMAX movies: ', df['IMAX'].sum()) \""
      ]
     },
     "execution_count": 18,
     "metadata": {},
     "output_type": "execute_result"
    }
   ],
   "source": [
    "\"\"\" # count the number of rows containing 1 for Film-Noir and IMAX\n",
    "print('Number of Film-Noir movies: ', df['Film-Noir'].sum())\n",
    "print('Number of IMAX movies: ', df['IMAX'].sum()) \"\"\"\n"
   ]
  },
  {
   "attachments": {},
   "cell_type": "markdown",
   "metadata": {},
   "source": [
    "## Data Preprocessing"
   ]
  },
  {
   "cell_type": "code",
   "execution_count": 19,
   "metadata": {},
   "outputs": [
    {
     "data": {
      "text/html": [
       "<div>\n",
       "<style scoped>\n",
       "    .dataframe tbody tr th:only-of-type {\n",
       "        vertical-align: middle;\n",
       "    }\n",
       "\n",
       "    .dataframe tbody tr th {\n",
       "        vertical-align: top;\n",
       "    }\n",
       "\n",
       "    .dataframe thead th {\n",
       "        text-align: right;\n",
       "    }\n",
       "</style>\n",
       "<table border=\"1\" class=\"dataframe\">\n",
       "  <thead>\n",
       "    <tr style=\"text-align: right;\">\n",
       "      <th></th>\n",
       "      <th>mean_rating</th>\n",
       "      <th>rating_count</th>\n",
       "      <th>mean_timestamp</th>\n",
       "      <th>absurd</th>\n",
       "      <th>action</th>\n",
       "      <th>adaptation</th>\n",
       "      <th>adapted from:book</th>\n",
       "      <th>adventure</th>\n",
       "      <th>affectionate</th>\n",
       "      <th>allegory</th>\n",
       "      <th>...</th>\n",
       "      <th>Adventure</th>\n",
       "      <th>Comedy</th>\n",
       "      <th>Romance</th>\n",
       "      <th>Western</th>\n",
       "      <th>Musical</th>\n",
       "      <th>Film-Noir</th>\n",
       "      <th>Thriller</th>\n",
       "      <th>Documentary</th>\n",
       "      <th>Drama</th>\n",
       "      <th>year</th>\n",
       "    </tr>\n",
       "  </thead>\n",
       "  <tbody>\n",
       "    <tr>\n",
       "      <th>0</th>\n",
       "      <td>3.893708</td>\n",
       "      <td>57309</td>\n",
       "      <td>1153152210</td>\n",
       "      <td>0.10400</td>\n",
       "      <td>0.66250</td>\n",
       "      <td>0.31675</td>\n",
       "      <td>0.28600</td>\n",
       "      <td>0.89375</td>\n",
       "      <td>0.67625</td>\n",
       "      <td>0.24600</td>\n",
       "      <td>...</td>\n",
       "      <td>1</td>\n",
       "      <td>1</td>\n",
       "      <td>0</td>\n",
       "      <td>0</td>\n",
       "      <td>0</td>\n",
       "      <td>0</td>\n",
       "      <td>0</td>\n",
       "      <td>0</td>\n",
       "      <td>0</td>\n",
       "      <td>1995</td>\n",
       "    </tr>\n",
       "    <tr>\n",
       "      <th>1</th>\n",
       "      <td>3.251527</td>\n",
       "      <td>24228</td>\n",
       "      <td>1122310117</td>\n",
       "      <td>0.15925</td>\n",
       "      <td>0.64025</td>\n",
       "      <td>0.51450</td>\n",
       "      <td>0.48450</td>\n",
       "      <td>0.97600</td>\n",
       "      <td>0.12675</td>\n",
       "      <td>0.17750</td>\n",
       "      <td>...</td>\n",
       "      <td>1</td>\n",
       "      <td>0</td>\n",
       "      <td>0</td>\n",
       "      <td>0</td>\n",
       "      <td>0</td>\n",
       "      <td>0</td>\n",
       "      <td>0</td>\n",
       "      <td>0</td>\n",
       "      <td>0</td>\n",
       "      <td>1995</td>\n",
       "    </tr>\n",
       "    <tr>\n",
       "      <th>2</th>\n",
       "      <td>3.142028</td>\n",
       "      <td>11804</td>\n",
       "      <td>980602256</td>\n",
       "      <td>0.11375</td>\n",
       "      <td>0.16025</td>\n",
       "      <td>0.25200</td>\n",
       "      <td>0.19375</td>\n",
       "      <td>0.32150</td>\n",
       "      <td>0.09550</td>\n",
       "      <td>0.10775</td>\n",
       "      <td>...</td>\n",
       "      <td>0</td>\n",
       "      <td>1</td>\n",
       "      <td>1</td>\n",
       "      <td>0</td>\n",
       "      <td>0</td>\n",
       "      <td>0</td>\n",
       "      <td>0</td>\n",
       "      <td>0</td>\n",
       "      <td>0</td>\n",
       "      <td>1995</td>\n",
       "    </tr>\n",
       "    <tr>\n",
       "      <th>3</th>\n",
       "      <td>2.853547</td>\n",
       "      <td>2523</td>\n",
       "      <td>942460471</td>\n",
       "      <td>0.13375</td>\n",
       "      <td>0.14700</td>\n",
       "      <td>0.50700</td>\n",
       "      <td>0.46175</td>\n",
       "      <td>0.14875</td>\n",
       "      <td>0.13150</td>\n",
       "      <td>0.07750</td>\n",
       "      <td>...</td>\n",
       "      <td>0</td>\n",
       "      <td>1</td>\n",
       "      <td>1</td>\n",
       "      <td>0</td>\n",
       "      <td>0</td>\n",
       "      <td>0</td>\n",
       "      <td>0</td>\n",
       "      <td>0</td>\n",
       "      <td>1</td>\n",
       "      <td>1995</td>\n",
       "    </tr>\n",
       "    <tr>\n",
       "      <th>4</th>\n",
       "      <td>3.058434</td>\n",
       "      <td>11714</td>\n",
       "      <td>1004723013</td>\n",
       "      <td>0.15475</td>\n",
       "      <td>0.15575</td>\n",
       "      <td>0.28925</td>\n",
       "      <td>0.19800</td>\n",
       "      <td>0.16350</td>\n",
       "      <td>0.11875</td>\n",
       "      <td>0.06975</td>\n",
       "      <td>...</td>\n",
       "      <td>0</td>\n",
       "      <td>1</td>\n",
       "      <td>0</td>\n",
       "      <td>0</td>\n",
       "      <td>0</td>\n",
       "      <td>0</td>\n",
       "      <td>0</td>\n",
       "      <td>0</td>\n",
       "      <td>0</td>\n",
       "      <td>1995</td>\n",
       "    </tr>\n",
       "  </tbody>\n",
       "</table>\n",
       "<p>5 rows × 222 columns</p>\n",
       "</div>"
      ],
      "text/plain": [
       "   mean_rating  rating_count  mean_timestamp   absurd   action  adaptation  \\\n",
       "0     3.893708         57309      1153152210  0.10400  0.66250     0.31675   \n",
       "1     3.251527         24228      1122310117  0.15925  0.64025     0.51450   \n",
       "2     3.142028         11804       980602256  0.11375  0.16025     0.25200   \n",
       "3     2.853547          2523       942460471  0.13375  0.14700     0.50700   \n",
       "4     3.058434         11714      1004723013  0.15475  0.15575     0.28925   \n",
       "\n",
       "   adapted from:book  adventure  affectionate  allegory  ...  Adventure  \\\n",
       "0            0.28600    0.89375       0.67625   0.24600  ...          1   \n",
       "1            0.48450    0.97600       0.12675   0.17750  ...          1   \n",
       "2            0.19375    0.32150       0.09550   0.10775  ...          0   \n",
       "3            0.46175    0.14875       0.13150   0.07750  ...          0   \n",
       "4            0.19800    0.16350       0.11875   0.06975  ...          0   \n",
       "\n",
       "   Comedy  Romance  Western  Musical  Film-Noir  Thriller  Documentary  Drama  \\\n",
       "0       1        0        0        0          0         0            0      0   \n",
       "1       0        0        0        0          0         0            0      0   \n",
       "2       1        1        0        0          0         0            0      0   \n",
       "3       1        1        0        0          0         0            0      1   \n",
       "4       1        0        0        0          0         0            0      0   \n",
       "\n",
       "   year  \n",
       "0  1995  \n",
       "1  1995  \n",
       "2  1995  \n",
       "3  1995  \n",
       "4  1995  \n",
       "\n",
       "[5 rows x 222 columns]"
      ]
     },
     "metadata": {},
     "output_type": "display_data"
    }
   ],
   "source": [
    "# from title extract year\n",
    "df['year'] = df['title'].str.extract('(\\(\\d{4}\\))', expand=True)\n",
    "# remove parentheses\n",
    "df['year'] = df['year'].str.extract('(\\d{4})', expand=True)\n",
    "\n",
    "# remove movies with no year\n",
    "df = df.dropna(subset=['year'])\n",
    "\n",
    "# convert year to int\n",
    "df['year'] = df['year'].astype(int)\n",
    "\n",
    "# delete title and movieId columns\n",
    "df = df.drop(columns=['movieId', 'title'])\n",
    "\n",
    "display(df.head())"
   ]
  },
  {
   "cell_type": "code",
   "execution_count": 20,
   "metadata": {},
   "outputs": [
    {
     "data": {
      "text/plain": [
       "\" # density plot for film year\\nsns.kdeplot(df['year'])\\nplt.show() \""
      ]
     },
     "execution_count": 20,
     "metadata": {},
     "output_type": "execute_result"
    }
   ],
   "source": [
    "\"\"\" # density plot for film year\n",
    "sns.kdeplot(df['year'])\n",
    "plt.show() \"\"\""
   ]
  },
  {
   "cell_type": "code",
   "execution_count": 21,
   "metadata": {},
   "outputs": [
    {
     "data": {
      "text/plain": [
       "\" # Compute the number of unique values for each column\\nunique_values = {}\\nfor column in df.columns:\\n    if column == 'mean_rating' or column == 'mean_timestamp' or column == 'year':\\n        unique_values[column] = np.unique(df[column], return_counts=True)\\n\\n# Print the number of unique values for each column\\nfor column in unique_values:\\n    print(column, ':', unique_values[column])\\n\\n# Plot the number of unique values for each column\\nfig, axs = plt.subplots(nrows=3, ncols=1, figsize=(7, 10))\\nsns.lineplot(x=unique_values['mean_rating'][0], y=unique_values['mean_rating'][1], ax=axs[0])\\naxs[0].set_xlabel('mean rating')\\naxs[0].set_ylabel('number of unique values')\\nsns.lineplot(x=unique_values['mean_timestamp'][0], y=unique_values['mean_timestamp'][1], ax=axs[1])\\naxs[1].set_xlabel('mean timestamp')\\naxs[1].set_ylabel('number of unique values')\\nsns.lineplot(x=unique_values['year'][0], y=unique_values['year'][1], ax=axs[2])\\naxs[2].set_xlabel('year')\\naxs[2].set_ylabel('number of unique values')\\nplt.show() \""
      ]
     },
     "execution_count": 21,
     "metadata": {},
     "output_type": "execute_result"
    }
   ],
   "source": [
    "\"\"\" # Compute the number of unique values for each column\n",
    "unique_values = {}\n",
    "for column in df.columns:\n",
    "    if column == 'mean_rating' or column == 'mean_timestamp' or column == 'year':\n",
    "        unique_values[column] = np.unique(df[column], return_counts=True)\n",
    "\n",
    "# Print the number of unique values for each column\n",
    "for column in unique_values:\n",
    "    print(column, ':', unique_values[column])\n",
    "\n",
    "# Plot the number of unique values for each column\n",
    "fig, axs = plt.subplots(nrows=3, ncols=1, figsize=(7, 10))\n",
    "sns.lineplot(x=unique_values['mean_rating'][0], y=unique_values['mean_rating'][1], ax=axs[0])\n",
    "axs[0].set_xlabel('mean rating')\n",
    "axs[0].set_ylabel('number of unique values')\n",
    "sns.lineplot(x=unique_values['mean_timestamp'][0], y=unique_values['mean_timestamp'][1], ax=axs[1])\n",
    "axs[1].set_xlabel('mean timestamp')\n",
    "axs[1].set_ylabel('number of unique values')\n",
    "sns.lineplot(x=unique_values['year'][0], y=unique_values['year'][1], ax=axs[2])\n",
    "axs[2].set_xlabel('year')\n",
    "axs[2].set_ylabel('number of unique values')\n",
    "plt.show() \"\"\"\n"
   ]
  },
  {
   "cell_type": "code",
   "execution_count": 22,
   "metadata": {},
   "outputs": [
    {
     "data": {
      "text/plain": [
       "\" # show year and year_timestamp in the same plot with values from 2000 to 2020\\ndf_year = df.copy()\\ndf_year['mean_timestamp'] = pd.to_datetime(df['mean_timestamp'], unit='s')\\ndf_year['year_timestamp'] = df_year['mean_timestamp'].dt.year\\n\\nfig, axs = plt.subplots(nrows=1, ncols=2, figsize=(12, 5))\\nsns.kdeplot(df_year['year_timestamp'], ax=axs[0], label='timestamp year')\\nsns.kdeplot(df_year['year'], ax=axs[0], label='film year')\\naxs[0].set_xlabel('year')\\nsns.kdeplot(df_year['year_timestamp'], ax=axs[1], label='timestamp year')\\nsns.kdeplot(df_year['year'], ax=axs[1], label='film year')\\naxs[1].set_xlabel('year')\\naxs[1].set_xlim(2000, 2020)\\naxs[1].set_xticks(np.arange(2000, 2022, 4))\\nplt.show() \""
      ]
     },
     "execution_count": 22,
     "metadata": {},
     "output_type": "execute_result"
    }
   ],
   "source": [
    "\"\"\" # show year and year_timestamp in the same plot with values from 2000 to 2020\n",
    "df_year = df.copy()\n",
    "df_year['mean_timestamp'] = pd.to_datetime(df['mean_timestamp'], unit='s')\n",
    "df_year['year_timestamp'] = df_year['mean_timestamp'].dt.year\n",
    "\n",
    "fig, axs = plt.subplots(nrows=1, ncols=2, figsize=(12, 5))\n",
    "sns.kdeplot(df_year['year_timestamp'], ax=axs[0], label='timestamp year')\n",
    "sns.kdeplot(df_year['year'], ax=axs[0], label='film year')\n",
    "axs[0].set_xlabel('year')\n",
    "sns.kdeplot(df_year['year_timestamp'], ax=axs[1], label='timestamp year')\n",
    "sns.kdeplot(df_year['year'], ax=axs[1], label='film year')\n",
    "axs[1].set_xlabel('year')\n",
    "axs[1].set_xlim(2000, 2020)\n",
    "axs[1].set_xticks(np.arange(2000, 2022, 4))\n",
    "plt.show() \"\"\"\n"
   ]
  },
  {
   "cell_type": "code",
   "execution_count": 23,
   "metadata": {},
   "outputs": [
    {
     "name": "stdout",
     "output_type": "stream",
     "text": [
      "Dropped column Sci-Fi\n",
      "Dropped column Mystery\n",
      "Dropped column Children\n",
      "Dropped column War\n",
      "Dropped column Crime\n",
      "Dropped column Action\n",
      "Dropped column Animation\n",
      "Dropped column Fantasy\n",
      "Dropped column Horror\n",
      "Dropped column Adventure\n",
      "Dropped column Comedy\n",
      "Dropped column Romance\n",
      "Dropped column Western\n",
      "Dropped column Musical\n",
      "Dropped column Thriller\n",
      "Dropped column Documentary\n",
      "Dropped column Drama\n"
     ]
    },
    {
     "data": {
      "text/html": [
       "<div>\n",
       "<style scoped>\n",
       "    .dataframe tbody tr th:only-of-type {\n",
       "        vertical-align: middle;\n",
       "    }\n",
       "\n",
       "    .dataframe tbody tr th {\n",
       "        vertical-align: top;\n",
       "    }\n",
       "\n",
       "    .dataframe thead th {\n",
       "        text-align: right;\n",
       "    }\n",
       "</style>\n",
       "<table border=\"1\" class=\"dataframe\">\n",
       "  <thead>\n",
       "    <tr style=\"text-align: right;\">\n",
       "      <th></th>\n",
       "      <th>mean_rating</th>\n",
       "      <th>rating_count</th>\n",
       "      <th>mean_timestamp</th>\n",
       "      <th>absurd</th>\n",
       "      <th>action</th>\n",
       "      <th>adaptation</th>\n",
       "      <th>adapted from:book</th>\n",
       "      <th>adventure</th>\n",
       "      <th>affectionate</th>\n",
       "      <th>allegory</th>\n",
       "      <th>...</th>\n",
       "      <th>visually stunning</th>\n",
       "      <th>weapons</th>\n",
       "      <th>weird</th>\n",
       "      <th>whimsical</th>\n",
       "      <th>witty</th>\n",
       "      <th>women</th>\n",
       "      <th>writers</th>\n",
       "      <th>IMAX</th>\n",
       "      <th>Film-Noir</th>\n",
       "      <th>year</th>\n",
       "    </tr>\n",
       "  </thead>\n",
       "  <tbody>\n",
       "    <tr>\n",
       "      <th>0</th>\n",
       "      <td>3.893708</td>\n",
       "      <td>57309</td>\n",
       "      <td>1153152210</td>\n",
       "      <td>0.10400</td>\n",
       "      <td>0.66250</td>\n",
       "      <td>0.31675</td>\n",
       "      <td>0.28600</td>\n",
       "      <td>0.89375</td>\n",
       "      <td>0.67625</td>\n",
       "      <td>0.24600</td>\n",
       "      <td>...</td>\n",
       "      <td>0.67325</td>\n",
       "      <td>0.26375</td>\n",
       "      <td>0.42700</td>\n",
       "      <td>0.58700</td>\n",
       "      <td>0.69400</td>\n",
       "      <td>0.08925</td>\n",
       "      <td>0.14125</td>\n",
       "      <td>0</td>\n",
       "      <td>0</td>\n",
       "      <td>1995</td>\n",
       "    </tr>\n",
       "    <tr>\n",
       "      <th>1</th>\n",
       "      <td>3.251527</td>\n",
       "      <td>24228</td>\n",
       "      <td>1122310117</td>\n",
       "      <td>0.15925</td>\n",
       "      <td>0.64025</td>\n",
       "      <td>0.51450</td>\n",
       "      <td>0.48450</td>\n",
       "      <td>0.97600</td>\n",
       "      <td>0.12675</td>\n",
       "      <td>0.17750</td>\n",
       "      <td>...</td>\n",
       "      <td>0.21700</td>\n",
       "      <td>0.17800</td>\n",
       "      <td>0.38650</td>\n",
       "      <td>0.29250</td>\n",
       "      <td>0.18725</td>\n",
       "      <td>0.13525</td>\n",
       "      <td>0.12225</td>\n",
       "      <td>0</td>\n",
       "      <td>0</td>\n",
       "      <td>1995</td>\n",
       "    </tr>\n",
       "    <tr>\n",
       "      <th>2</th>\n",
       "      <td>3.142028</td>\n",
       "      <td>11804</td>\n",
       "      <td>980602256</td>\n",
       "      <td>0.11375</td>\n",
       "      <td>0.16025</td>\n",
       "      <td>0.25200</td>\n",
       "      <td>0.19375</td>\n",
       "      <td>0.32150</td>\n",
       "      <td>0.09550</td>\n",
       "      <td>0.10775</td>\n",
       "      <td>...</td>\n",
       "      <td>0.09850</td>\n",
       "      <td>0.14125</td>\n",
       "      <td>0.24350</td>\n",
       "      <td>0.13025</td>\n",
       "      <td>0.22325</td>\n",
       "      <td>0.35075</td>\n",
       "      <td>0.12200</td>\n",
       "      <td>0</td>\n",
       "      <td>0</td>\n",
       "      <td>1995</td>\n",
       "    </tr>\n",
       "    <tr>\n",
       "      <th>3</th>\n",
       "      <td>2.853547</td>\n",
       "      <td>2523</td>\n",
       "      <td>942460471</td>\n",
       "      <td>0.13375</td>\n",
       "      <td>0.14700</td>\n",
       "      <td>0.50700</td>\n",
       "      <td>0.46175</td>\n",
       "      <td>0.14875</td>\n",
       "      <td>0.13150</td>\n",
       "      <td>0.07750</td>\n",
       "      <td>...</td>\n",
       "      <td>0.11625</td>\n",
       "      <td>0.28950</td>\n",
       "      <td>0.21975</td>\n",
       "      <td>0.14775</td>\n",
       "      <td>0.10725</td>\n",
       "      <td>0.97525</td>\n",
       "      <td>0.18200</td>\n",
       "      <td>0</td>\n",
       "      <td>0</td>\n",
       "      <td>1995</td>\n",
       "    </tr>\n",
       "    <tr>\n",
       "      <th>4</th>\n",
       "      <td>3.058434</td>\n",
       "      <td>11714</td>\n",
       "      <td>1004723013</td>\n",
       "      <td>0.15475</td>\n",
       "      <td>0.15575</td>\n",
       "      <td>0.28925</td>\n",
       "      <td>0.19800</td>\n",
       "      <td>0.16350</td>\n",
       "      <td>0.11875</td>\n",
       "      <td>0.06975</td>\n",
       "      <td>...</td>\n",
       "      <td>0.11875</td>\n",
       "      <td>0.12025</td>\n",
       "      <td>0.29350</td>\n",
       "      <td>0.16425</td>\n",
       "      <td>0.10475</td>\n",
       "      <td>0.40225</td>\n",
       "      <td>0.19225</td>\n",
       "      <td>0</td>\n",
       "      <td>0</td>\n",
       "      <td>1995</td>\n",
       "    </tr>\n",
       "  </tbody>\n",
       "</table>\n",
       "<p>5 rows × 205 columns</p>\n",
       "</div>"
      ],
      "text/plain": [
       "   mean_rating  rating_count  mean_timestamp   absurd   action  adaptation  \\\n",
       "0     3.893708         57309      1153152210  0.10400  0.66250     0.31675   \n",
       "1     3.251527         24228      1122310117  0.15925  0.64025     0.51450   \n",
       "2     3.142028         11804       980602256  0.11375  0.16025     0.25200   \n",
       "3     2.853547          2523       942460471  0.13375  0.14700     0.50700   \n",
       "4     3.058434         11714      1004723013  0.15475  0.15575     0.28925   \n",
       "\n",
       "   adapted from:book  adventure  affectionate  allegory  ...  \\\n",
       "0            0.28600    0.89375       0.67625   0.24600  ...   \n",
       "1            0.48450    0.97600       0.12675   0.17750  ...   \n",
       "2            0.19375    0.32150       0.09550   0.10775  ...   \n",
       "3            0.46175    0.14875       0.13150   0.07750  ...   \n",
       "4            0.19800    0.16350       0.11875   0.06975  ...   \n",
       "\n",
       "   visually stunning  weapons    weird  whimsical    witty    women  writers  \\\n",
       "0            0.67325  0.26375  0.42700    0.58700  0.69400  0.08925  0.14125   \n",
       "1            0.21700  0.17800  0.38650    0.29250  0.18725  0.13525  0.12225   \n",
       "2            0.09850  0.14125  0.24350    0.13025  0.22325  0.35075  0.12200   \n",
       "3            0.11625  0.28950  0.21975    0.14775  0.10725  0.97525  0.18200   \n",
       "4            0.11875  0.12025  0.29350    0.16425  0.10475  0.40225  0.19225   \n",
       "\n",
       "   IMAX  Film-Noir  year  \n",
       "0     0          0  1995  \n",
       "1     0          0  1995  \n",
       "2     0          0  1995  \n",
       "3     0          0  1995  \n",
       "4     0          0  1995  \n",
       "\n",
       "[5 rows x 205 columns]"
      ]
     },
     "metadata": {},
     "output_type": "display_data"
    }
   ],
   "source": [
    "# Drop columns that are in cat but not in lower_case_tags\n",
    "lower_case_tags = [str.lower(t) for t in genome_tags['tag'].values]\n",
    "cat = list(categories)\n",
    "for c in cat:\n",
    "    if c.lower() in lower_case_tags:\n",
    "        df = df.drop(columns=[c])\n",
    "        print('Dropped column', c)\n",
    "\n",
    "display(df.head())\n"
   ]
  },
  {
   "cell_type": "code",
   "execution_count": 24,
   "metadata": {},
   "outputs": [
    {
     "data": {
      "text/plain": [
       "\" # TODO - balancing dataset only for training set\\n# remove samples_to_drop movies with mean_rating between 2.5 and 4\\nsamples_to_drop = 25000\\ndf_preprocessed = df.copy()\\ndf_preprocessed = df_preprocessed.drop(df_preprocessed[(df_preprocessed['mean_rating'] >= 2.5) & (df_preprocessed['mean_rating'] <= 4)].sample(samples_to_drop).index)\\n\\n# rating distribution from df\\nfig, axs = plt.subplots(1, 2, figsize=(10, 5))\\nsns.kdeplot(df['mean_rating'], ax=axs[0])\\nsns.kdeplot(df_preprocessed['mean_rating'], ax=axs[1])\\nplt.xlabel('rating mean for film')\\nplt.title('Rating distribution in dataframe')\\nplt.show()\\n\\n# number of samples in df and df_preprocessed\\nprint('Number of samples in df: ', df.shape[0])\\nprint('Number of samples in df_preprocessed: ', df_preprocessed.shape[0]) \""
      ]
     },
     "execution_count": 24,
     "metadata": {},
     "output_type": "execute_result"
    }
   ],
   "source": [
    "\"\"\" # TODO - balancing dataset only for training set\n",
    "# remove samples_to_drop movies with mean_rating between 2.5 and 4\n",
    "samples_to_drop = 25000\n",
    "df_preprocessed = df.copy()\n",
    "df_preprocessed = df_preprocessed.drop(df_preprocessed[(df_preprocessed['mean_rating'] >= 2.5) & (df_preprocessed['mean_rating'] <= 4)].sample(samples_to_drop).index)\n",
    "\n",
    "# rating distribution from df\n",
    "fig, axs = plt.subplots(1, 2, figsize=(10, 5))\n",
    "sns.kdeplot(df['mean_rating'], ax=axs[0])\n",
    "sns.kdeplot(df_preprocessed['mean_rating'], ax=axs[1])\n",
    "plt.xlabel('rating mean for film')\n",
    "plt.title('Rating distribution in dataframe')\n",
    "plt.show()\n",
    "\n",
    "# number of samples in df and df_preprocessed\n",
    "print('Number of samples in df: ', df.shape[0])\n",
    "print('Number of samples in df_preprocessed: ', df_preprocessed.shape[0]) \"\"\"\n"
   ]
  },
  {
   "attachments": {},
   "cell_type": "markdown",
   "metadata": {},
   "source": [
    "### Normalization"
   ]
  },
  {
   "cell_type": "code",
   "execution_count": 25,
   "metadata": {},
   "outputs": [
    {
     "data": {
      "text/plain": [
       "\" # TODO - fit the model to raw, scaled and standardized data and compare the performance for best results\\n\\nmean_rating_column = df['mean_rating']\\n\\nscaler = MinMaxScaler()\\nnormalized_data = scaler.fit_transform(df.drop(columns=['mean_rating']))\\n\\n# show normalized data\\ndf = pd.DataFrame(normalized_data, columns=df.columns[:-1])\\ndf['mean_rating'] = mean_rating_column\\ndf = df.dropna()\\nmean_rating_column = df['mean_rating']\\ndisplay(df.shape)\\n \""
      ]
     },
     "execution_count": 25,
     "metadata": {},
     "output_type": "execute_result"
    }
   ],
   "source": [
    "\"\"\" # TODO - fit the model to raw, scaled and standardized data and compare the performance for best results\n",
    "\n",
    "mean_rating_column = df['mean_rating']\n",
    "\n",
    "scaler = MinMaxScaler()\n",
    "normalized_data = scaler.fit_transform(df.drop(columns=['mean_rating']))\n",
    "\n",
    "# show normalized data\n",
    "df = pd.DataFrame(normalized_data, columns=df.columns[:-1])\n",
    "df['mean_rating'] = mean_rating_column\n",
    "df = df.dropna()\n",
    "mean_rating_column = df['mean_rating']\n",
    "display(df.shape)\n",
    " \"\"\""
   ]
  },
  {
   "attachments": {},
   "cell_type": "markdown",
   "metadata": {},
   "source": [
    "### Correlation results\n",
    "This correlation table shows the relationship between different movie genres and several movie characteristics such as mean rating, rating count, and year of release. The values in the table represent the Pearson correlation coefficient, which ranges from -1 to 1 and measures the linear association between two variables. Positive values indicate a positive association, meaning that as one variable increases, the other variable also increases. Negative values indicate a negative association, meaning that as one variable increases, the other variable decreases.\n",
    "\n",
    "<!-- Some observations from the table:\n",
    "\n",
    "There is a positive correlation between the mean rating and rating count of a movie (0.13). This indicates that movies with higher ratings tend to have more ratings.\n",
    "Film-Noir has a moderate positive correlation with Crime (0.15) and Mystery (0.06). This suggests that movies classified as Film-Noir often have elements of crime and mystery.\n",
    "Horror movies have a negative correlation with mean rating (-0.22), indicating that they tend to have lower ratings.\n",
    "Drama movies have a moderate positive correlation with mean rating (0.15) and a moderate positive correlation with Thriller movies (0.24).\n",
    "There is a negative correlation between year of release and rating count (-0.27), which suggests that older movies tend to have fewer ratings.\n",
    "In conclusion, this table provides useful information about the relationship between different movie genres and movie characteristics, and can be used to make informed decisions about movie selection and production. -->\n",
    "\n",
    "### Covariance results\n",
    "Covariance is a measure of the linear relationship between two variables. It measures how changes in one variable are associated with changes in the other variable. Covariance is expressed as a numerical value and can range from negative to positive values. A positive covariance means that the two variables are positively related, while a negative covariance means that they are inversely related. A covariance of zero means that there is no linear relationship between the variables (i.e. variables are indipendent).\n",
    "\n",
    "<!-- In the table provided, the covariance between two variables can be found in the entries of the matrix. For example, the covariance between \"mean_rating\" and \"Film-Noir\" is 0.001774, indicating a very small positive relationship between the two variables. The covariance between \"rating_count\" and \"Crime\" is 43.331685, indicating a stronger positive relationship between these two variables.\n",
    "\n",
    "It's important to keep in mind that covariance only measures linear relationships, so it may not be able to fully capture more complex relationships between variables.\n",
    "\n",
    "As it's possible to see in the table, variables tend to be indipendent from each others, this is not valid only for two variables: rating_count and mean_timestamp. These two attributes are highly dipendent with all other attributes. -->\n",
    "\n",
    "### Dataset Describe\n",
    "The describe() function applied on the Pandas DataFrame provides statistical information about the features in the DataFrame. According to the results, the mean rating for the movies is 3.110263, with a standard deviation of 0.653225. The minimum and maximum ratings are 0.5 and 5, respectively. The mean count of ratings for each movie is 596.81, with a standard deviation of 2929.96.\n",
    "\n",
    "<!-- The genre columns (Film-Noir, Crime, Mystery, Animation, etc.) are binary, with a mean of either 0 or 0.01 to 0.28. The 25th, 50th, and 75th percentiles for these features are either 0 or close to 0, indicating that the majority of the movies belong to a particular genre. The year_timestamp feature has a mean of 2014.22, with a standard deviation of 4.7. The year feature has a mean of 1991.57 and a standard deviation of 25.09. -->\n"
   ]
  },
  {
   "cell_type": "code",
   "execution_count": 26,
   "metadata": {},
   "outputs": [
    {
     "data": {
      "text/plain": [
       "' # compute analysis for \\'mean_rating\\', \\'rating_count\\', \\'mean_timestamp\\', \\'Film-Noir\\', \\'IMAX\\'\\ncorr = df[[\\'mean_rating\\', \\'rating_count\\', \\'mean_timestamp\\', \\'Film-Noir\\', \\'IMAX\\']].corr()\\nprint(corr)\\ncov = df[[\\'mean_rating\\', \\'rating_count\\', \\'mean_timestamp\\', \\'Film-Noir\\', \\'IMAX\\']].cov()\\nprint(cov)\\ndesc = df[[\\'mean_rating\\', \\'rating_count\\', \\'mean_timestamp\\', \\'Film-Noir\\', \\'IMAX\\']].describe()\\nprint(desc)\\n\\n# follow examples from slides on Data Visualization (pages 6-8)\\nfig, axs = plt.subplots(2, 1, figsize=(10, 10))\\n# show results of correlation in a graphic way\\n# Plot the heatmap of the correlation matrix\\nsns.heatmap(corr, annot=True, cmap=\"YlGnBu\", ax=axs[0])\\n# show results of covariance in a graphic way\\n# Plot the heatmap of the covariance matrix\\nsns.heatmap(cov, annot=True, cmap=\"YlGnBu\", ax=axs[1], vmax=1, vmin=-1)\\n\\nplt.show()\\n\\n# Plot the table\\nplt.figure(figsize=(10, 5))\\nsns.heatmap(desc, annot=True, cmap=\\'Reds\\', vmax=1, vmin=0)\\nplt.show() '"
      ]
     },
     "execution_count": 26,
     "metadata": {},
     "output_type": "execute_result"
    }
   ],
   "source": [
    "\"\"\" # compute analysis for 'mean_rating', 'rating_count', 'mean_timestamp', 'Film-Noir', 'IMAX'\n",
    "corr = df[['mean_rating', 'rating_count', 'mean_timestamp', 'Film-Noir', 'IMAX']].corr()\n",
    "print(corr)\n",
    "cov = df[['mean_rating', 'rating_count', 'mean_timestamp', 'Film-Noir', 'IMAX']].cov()\n",
    "print(cov)\n",
    "desc = df[['mean_rating', 'rating_count', 'mean_timestamp', 'Film-Noir', 'IMAX']].describe()\n",
    "print(desc)\n",
    "\n",
    "# follow examples from slides on Data Visualization (pages 6-8)\n",
    "fig, axs = plt.subplots(2, 1, figsize=(10, 10))\n",
    "# show results of correlation in a graphic way\n",
    "# Plot the heatmap of the correlation matrix\n",
    "sns.heatmap(corr, annot=True, cmap=\"YlGnBu\", ax=axs[0])\n",
    "# show results of covariance in a graphic way\n",
    "# Plot the heatmap of the covariance matrix\n",
    "sns.heatmap(cov, annot=True, cmap=\"YlGnBu\", ax=axs[1], vmax=1, vmin=-1)\n",
    "\n",
    "plt.show()\n",
    "\n",
    "# Plot the table\n",
    "plt.figure(figsize=(10, 5))\n",
    "sns.heatmap(desc, annot=True, cmap='Reds', vmax=1, vmin=0)\n",
    "plt.show() \"\"\"\n",
    "\n",
    "\n"
   ]
  },
  {
   "cell_type": "code",
   "execution_count": 27,
   "metadata": {},
   "outputs": [
    {
     "data": {
      "text/plain": [
       "' # compute analysis for other attributes\\ncorr = df.corr()\\ncov = df.cov()\\ndesc = df.describe()\\n\\n# Plot the heatmap of the correlation matrix\\nplt.figure(figsize=(50, 50))\\nsns.heatmap(corr, cmap=\"YlGnBu\")\\nplt.show()\\n\\n# Plot the heatmap of the covariance matrix\\nplt.figure(figsize=(50, 50))\\nsns.heatmap(cov, cmap=\"YlGnBu\", vmax=1, vmin=-1)\\nplt.show()\\n\\n# Plot the table\\nplt.figure(figsize=(50, 50))\\nsns.heatmap(desc, cmap=\\'Reds\\', vmax=1, vmin=0)\\nplt.show() '"
      ]
     },
     "execution_count": 27,
     "metadata": {},
     "output_type": "execute_result"
    }
   ],
   "source": [
    "\"\"\" # compute analysis for other attributes\n",
    "corr = df.corr()\n",
    "cov = df.cov()\n",
    "desc = df.describe()\n",
    "\n",
    "# Plot the heatmap of the correlation matrix\n",
    "plt.figure(figsize=(50, 50))\n",
    "sns.heatmap(corr, cmap=\"YlGnBu\")\n",
    "plt.show()\n",
    "\n",
    "# Plot the heatmap of the covariance matrix\n",
    "plt.figure(figsize=(50, 50))\n",
    "sns.heatmap(cov, cmap=\"YlGnBu\", vmax=1, vmin=-1)\n",
    "plt.show()\n",
    "\n",
    "# Plot the table\n",
    "plt.figure(figsize=(50, 50))\n",
    "sns.heatmap(desc, cmap='Reds', vmax=1, vmin=0)\n",
    "plt.show() \"\"\"\n",
    "\n"
   ]
  },
  {
   "attachments": {},
   "cell_type": "markdown",
   "metadata": {},
   "source": [
    "### PCA (Principal Component Analysis)"
   ]
  },
  {
   "cell_type": "code",
   "execution_count": 28,
   "metadata": {},
   "outputs": [
    {
     "name": "stdout",
     "output_type": "stream",
     "text": [
      "X shape: (58675, 204)\n",
      "y shape: (58675,)\n",
      "X_train shape: (52807, 204)\n",
      "y_train shape: (52807,)\n",
      "X_test shape: (5868, 204)\n",
      "y_test shape: (5868,)\n",
      "pca.mean_: [4.26031587e+02 1.43981160e+09 5.90852775e-02 6.13691319e-02\n",
      " 8.23799875e-02 6.85264359e-02 5.11137397e-02 5.83643693e-02\n",
      " 5.46696981e-02 5.38204925e-02 6.67809145e-02 5.05818121e-02\n",
      " 5.40013919e-02 6.07143466e-02 5.93097695e-02 5.56857424e-02\n",
      " 5.32503645e-02 7.99043403e-02 5.24155557e-02 5.42855445e-02\n",
      " 5.10086305e-02 4.84627938e-02 4.76728417e-02 9.00050135e-02\n",
      " 1.12063207e-01 6.33265097e-02 9.71890706e-02 6.37935596e-02\n",
      " 8.39103765e-02 5.68314759e-02 7.80439620e-02 5.62540336e-02\n",
      " 6.94480940e-02 4.80051792e-02 7.62336811e-02 7.15509970e-02\n",
      " 4.93802905e-02 9.15782330e-02 5.32584695e-02 5.29107836e-02\n",
      " 6.79351506e-02 8.60119492e-02 7.39436296e-02 4.99483402e-02\n",
      " 7.60353173e-02 1.04994054e-01 4.73502329e-02 4.77326396e-02\n",
      " 4.86337275e-02 8.97487123e-02 6.56767143e-02 5.39100025e-02\n",
      " 6.84593046e-02 5.65849745e-02 4.81130532e-02 5.04239684e-02\n",
      " 7.57249796e-02 6.05008332e-02 7.20866646e-02 6.51149090e-02\n",
      " 5.19590016e-02 6.14668747e-02 7.24681198e-02 7.95616112e-02\n",
      " 5.32507196e-02 6.53563637e-02 7.17694198e-02 6.12887496e-02\n",
      " 6.13864118e-02 5.22961302e-02 7.41598699e-02 6.64671256e-02\n",
      " 5.68518899e-02 9.62296429e-02 5.73452809e-02 5.20007149e-02\n",
      " 1.00811649e-01 9.48138883e-02 8.09030858e-02 1.11587555e-01\n",
      " 6.93822410e-02 8.97575511e-02 6.17924328e-02 5.41277435e-02\n",
      " 5.93391596e-02 6.85994139e-02 7.16533177e-02 4.97643068e-02\n",
      " 5.19546651e-02 4.98896264e-02 4.88298000e-02 5.10966349e-02\n",
      " 4.75068504e-02 8.09622777e-02 7.20792414e-02 4.97831443e-02\n",
      " 7.54924631e-02 7.04628648e-02 5.93321435e-02 6.89343269e-02\n",
      " 7.50995228e-02 8.86972040e-02 7.52042722e-02 6.26419083e-02\n",
      " 6.92404179e-02 4.99974388e-02 5.39835249e-02 4.80022251e-02\n",
      " 5.63667175e-02 4.76906991e-02 9.34271877e-02 4.98213068e-02\n",
      " 1.27362523e-01 4.84413525e-02 4.99481792e-02 6.44482455e-02\n",
      " 6.44849310e-02 5.73010870e-02 5.13557625e-02 7.39971027e-02\n",
      " 6.06651912e-02 5.67710720e-02 5.05910154e-02 6.52572860e-02\n",
      " 1.70231996e-01 5.26368332e-02 5.70917019e-02 5.33417208e-02\n",
      " 7.48533812e-02 5.81692626e-02 5.26622417e-02 5.05489992e-02\n",
      " 6.51341820e-02 7.87515670e-02 6.18292556e-02 5.86314409e-02\n",
      " 6.97780408e-02 7.70439809e-02 5.10584724e-02 8.22326065e-02\n",
      " 5.84744163e-02 4.85399426e-02 4.69562416e-02 6.76468650e-02\n",
      " 7.62573428e-02 6.39122228e-02 6.96949931e-02 6.92700826e-02\n",
      " 5.04809164e-02 4.84403441e-02 1.05179096e-01 5.89838184e-02\n",
      " 4.85494158e-02 6.27819986e-02 6.24900960e-02 6.09984519e-02\n",
      " 5.41420692e-02 4.90686083e-02 6.62311862e-02 7.41251349e-02\n",
      " 5.41091380e-02 5.13230869e-02 4.79538366e-02 5.89884059e-02\n",
      " 9.38493050e-02 1.05793934e-01 5.00445585e-02 7.41059235e-02\n",
      " 7.55425796e-02 5.49627938e-02 8.08624330e-02 4.91374202e-02\n",
      " 8.16106198e-02 5.30278088e-02 5.50370689e-02 5.08094760e-02\n",
      " 4.82792243e-02 4.98584563e-02 7.22937111e-02 4.78967940e-02\n",
      " 7.57506628e-02 5.39298341e-02 5.78135853e-02 6.42563391e-02\n",
      " 7.57653815e-02 9.93219649e-02 6.92578588e-02 5.65650813e-02\n",
      " 6.84909908e-02 6.86544019e-02 6.08230490e-02 4.94882497e-02\n",
      " 6.01234117e-02 8.88670347e-02 5.04239069e-02 6.16536870e-02\n",
      " 9.92463783e-02 4.88236313e-02 5.50345314e-02 5.98748698e-02\n",
      " 5.75997358e-02 3.40863901e-03 5.83256008e-03 1.99323705e+03]\n",
      "pca.explained_variance_: [1.94746661e+16 5.62413861e+06 5.98033355e+02 1.80979968e+00\n",
      " 2.12842433e-01 1.14542437e-01 8.59416863e-02 5.39145719e-02\n",
      " 4.74495412e-02 3.85225736e-02 3.38567182e-02 2.97895673e-02\n",
      " 2.84797824e-02 2.45053477e-02 2.26334598e-02 1.99988276e-02\n",
      " 1.65265871e-02 1.49092306e-02 1.42199476e-02 1.30480204e-02\n",
      " 1.17734784e-02 1.09599860e-02 1.06630731e-02 1.00932062e-02\n",
      " 9.45376013e-03 8.97459456e-03 7.79190834e-03 7.43544974e-03\n",
      " 7.18740648e-03 6.92072881e-03 6.41436604e-03 6.21169303e-03\n",
      " 5.88035507e-03 5.64345514e-03 5.37399042e-03 5.26726803e-03\n",
      " 5.13653817e-03 4.89196469e-03 4.79595959e-03 4.68547056e-03\n",
      " 4.59199249e-03 4.44267994e-03 4.35099806e-03 4.19872868e-03\n",
      " 4.04675769e-03 3.89356334e-03 3.79009818e-03 3.73714484e-03\n",
      " 3.58733105e-03 3.57275830e-03 3.53148853e-03 3.42267055e-03\n",
      " 3.33944959e-03 3.26636196e-03 3.25324399e-03 3.21657523e-03\n",
      " 3.16710572e-03 3.12103268e-03 3.10009667e-03 2.93707050e-03\n",
      " 2.90158643e-03 2.86382585e-03 2.82667701e-03 2.78663612e-03\n",
      " 2.74506548e-03 2.71061133e-03 2.67046217e-03 2.57850649e-03\n",
      " 2.52304864e-03 2.50379959e-03 2.45854513e-03 2.42566264e-03\n",
      " 2.40173487e-03 2.38734220e-03 2.33041001e-03 2.32522370e-03\n",
      " 2.30873906e-03 2.26926431e-03 2.26084356e-03 2.24565971e-03\n",
      " 2.21024675e-03 2.17209189e-03 2.15874217e-03 2.10695728e-03\n",
      " 2.09658415e-03 2.08773514e-03 2.05632573e-03 2.02273092e-03\n",
      " 1.97424959e-03 1.95045113e-03 1.92809992e-03 1.89123903e-03\n",
      " 1.88090376e-03 1.86123523e-03 1.85335919e-03 1.82987756e-03\n",
      " 1.81635419e-03 1.80255511e-03 1.79151283e-03 1.75900668e-03\n",
      " 1.74984898e-03 1.73474547e-03 1.68652775e-03 1.66865861e-03\n",
      " 1.65977248e-03 1.64129139e-03 1.62661551e-03 1.60575648e-03\n",
      " 1.58316986e-03 1.56116670e-03 1.55018066e-03 1.53284631e-03\n",
      " 1.51461808e-03 1.49525343e-03 1.48811059e-03 1.46921913e-03\n",
      " 1.46277304e-03 1.44805950e-03 1.44556892e-03 1.43398477e-03\n",
      " 1.42585640e-03 1.41010519e-03 1.39571343e-03 1.37355686e-03\n",
      " 1.35150560e-03 1.34013583e-03 1.32903155e-03 1.31984318e-03\n",
      " 1.30538312e-03 1.29324620e-03 1.26997042e-03 1.26567031e-03\n",
      " 1.25646413e-03 1.25224799e-03 1.23777398e-03 1.23210382e-03\n",
      " 1.21807819e-03 1.20736263e-03 1.19938545e-03 1.19228793e-03\n",
      " 1.18345921e-03 1.17213995e-03 1.16742699e-03 1.15995476e-03\n",
      " 1.13158505e-03 1.11559913e-03 1.10677420e-03 1.09778500e-03\n",
      " 1.08890218e-03 1.07174631e-03 1.06389224e-03 1.05301710e-03\n",
      " 1.04241206e-03 1.02738333e-03 1.00842155e-03 1.00409334e-03\n",
      " 9.92992717e-04 9.76744003e-04 9.66499466e-04 9.59627544e-04\n",
      " 9.55441971e-04 9.36215397e-04 9.31570118e-04 9.21970022e-04\n",
      " 9.10010736e-04 8.97684699e-04 8.94184787e-04 8.82721146e-04\n",
      " 8.76219240e-04 8.45022136e-04 8.39192043e-04 8.26434344e-04\n",
      " 8.19925564e-04 7.98175461e-04 7.82030476e-04 7.75780071e-04\n",
      " 7.64689808e-04 7.58109994e-04 7.48026499e-04 7.45778677e-04\n",
      " 7.32180766e-04 7.26295156e-04 7.02369214e-04 6.88773767e-04\n",
      " 6.78303753e-04 6.71949265e-04 6.48154524e-04 6.35671394e-04\n",
      " 6.29147478e-04 6.09232875e-04 6.03103534e-04 5.74011900e-04\n",
      " 5.66941321e-04 5.34898943e-04 5.15207470e-04 4.95099318e-04\n",
      " 4.47970732e-04 4.20837667e-04 3.74624690e-04 3.36657009e-04\n",
      " 3.06180928e-04 2.75076271e-04 2.54874519e-04 1.67674265e-04]\n",
      "pca.explained_variance_ratio_: [1.00000000e+00 2.88792556e-10 3.07082725e-14 9.29309734e-17\n",
      " 1.09291954e-17 5.88161237e-18 4.41299921e-18 2.76844653e-18\n",
      " 2.43647520e-18 1.97808647e-18 1.73850057e-18 1.52965740e-18\n",
      " 1.46240157e-18 1.25831927e-18 1.16220015e-18 1.02691504e-18\n",
      " 8.48619791e-19 7.65570534e-19 7.30176707e-19 6.69999694e-19\n",
      " 6.04553543e-19 5.62781716e-19 5.47535604e-19 5.18273643e-19\n",
      " 4.85438880e-19 4.60834321e-19 4.00104848e-19 3.81801140e-19\n",
      " 3.69064426e-19 3.55370858e-19 3.29369756e-19 3.18962748e-19\n",
      " 3.01948954e-19 2.89784436e-19 2.75947756e-19 2.70467693e-19\n",
      " 2.63754877e-19 2.51196331e-19 2.46266588e-19 2.40593113e-19\n",
      " 2.35793130e-19 2.28126116e-19 2.23418364e-19 2.15599521e-19\n",
      " 2.07795998e-19 1.99929658e-19 1.94616850e-19 1.91897761e-19\n",
      " 1.84205009e-19 1.83456716e-19 1.81337564e-19 1.75749896e-19\n",
      " 1.71476603e-19 1.67723644e-19 1.67050052e-19 1.65167156e-19\n",
      " 1.62626958e-19 1.60261165e-19 1.59186127e-19 1.50814935e-19\n",
      " 1.48992872e-19 1.47053912e-19 1.45146365e-19 1.43090316e-19\n",
      " 1.40955715e-19 1.39186537e-19 1.37124927e-19 1.32403117e-19\n",
      " 1.29555425e-19 1.28567010e-19 1.26243249e-19 1.24554774e-19\n",
      " 1.23326113e-19 1.22587067e-19 1.19663669e-19 1.19397359e-19\n",
      " 1.18550893e-19 1.16523913e-19 1.16091518e-19 1.15311846e-19\n",
      " 1.13493435e-19 1.11534230e-19 1.10848738e-19 1.08189648e-19\n",
      " 1.07657001e-19 1.07202615e-19 1.05589781e-19 1.03864729e-19\n",
      " 1.01375272e-19 1.00153251e-19 9.90055442e-20 9.71127833e-20\n",
      " 9.65820795e-20 9.55721253e-20 9.51677002e-20 9.39619477e-20\n",
      " 9.32675391e-20 9.25589735e-20 9.19919660e-20 9.03228154e-20\n",
      " 8.98525792e-20 8.90770327e-20 8.66011123e-20 8.56835542e-20\n",
      " 8.52272622e-20 8.42782810e-20 8.35246927e-20 8.24536075e-20\n",
      " 8.12938127e-20 8.01639775e-20 7.95998579e-20 7.87097604e-20\n",
      " 7.77737635e-20 7.67794129e-20 7.64126368e-20 7.54425837e-20\n",
      " 7.51115848e-20 7.43560626e-20 7.42281744e-20 7.36333427e-20\n",
      " 7.32159614e-20 7.24071561e-20 7.16681572e-20 7.05304446e-20\n",
      " 6.93981397e-20 6.88143162e-20 6.82441248e-20 6.77723138e-20\n",
      " 6.70298074e-20 6.64065913e-20 6.52114090e-20 6.49906039e-20\n",
      " 6.45178778e-20 6.43013843e-20 6.35581615e-20 6.32670062e-20\n",
      " 6.25468074e-20 6.19965764e-20 6.15869580e-20 6.12225096e-20\n",
      " 6.07691656e-20 6.01879353e-20 5.99459307e-20 5.95622411e-20\n",
      " 5.81054917e-20 5.72846346e-20 5.68314849e-20 5.63699007e-20\n",
      " 5.59137792e-20 5.50328464e-20 5.46295496e-20 5.40711245e-20\n",
      " 5.35265689e-20 5.27548620e-20 5.17811984e-20 5.15589500e-20\n",
      " 5.09889468e-20 5.01545955e-20 4.96285512e-20 4.92756865e-20\n",
      " 4.90607625e-20 4.80735017e-20 4.78349724e-20 4.73420194e-20\n",
      " 4.67279248e-20 4.60949981e-20 4.59152819e-20 4.53266382e-20\n",
      " 4.49927733e-20 4.33908407e-20 4.30914726e-20 4.24363805e-20\n",
      " 4.21021628e-20 4.09853219e-20 4.01562969e-20 3.98353463e-20\n",
      " 3.92658751e-20 3.89280098e-20 3.84102348e-20 3.82948119e-20\n",
      " 3.75965760e-20 3.72943572e-20 3.60657897e-20 3.53676803e-20\n",
      " 3.48300581e-20 3.45037630e-20 3.32819325e-20 3.26409392e-20\n",
      " 3.23059442e-20 3.12833540e-20 3.09686199e-20 2.94748005e-20\n",
      " 2.91117350e-20 2.74663986e-20 2.64552658e-20 2.54227371e-20\n",
      " 2.30027426e-20 2.16094933e-20 1.92365141e-20 1.72869207e-20\n",
      " 1.57220116e-20 1.41248260e-20 1.30874910e-20 8.60986593e-21]\n",
      "pca.components_: [[ 4.89588499e-06 -1.00000000e+00  4.56327386e-10 ...  7.14269633e-12\n",
      "   2.55624303e-11 -2.68196911e-08]\n",
      " [ 9.99999830e-01  4.89587043e-06  9.83741933e-06 ...  3.03630729e-06\n",
      "  -2.10136450e-07  5.57505192e-04]\n",
      " [ 5.58696443e-04  2.94944896e-08 -5.62280649e-04 ... -7.66940212e-05\n",
      "   3.37443895e-04 -9.99966265e-01]\n",
      " ...\n",
      " [ 2.26334990e-07  3.23062840e-12 -1.51721355e-02 ...  4.91853304e-03\n",
      "  -1.61539877e-03 -7.53810542e-06]\n",
      " [-6.86256959e-07  3.85412673e-12  1.59786389e-02 ...  4.13181532e-03\n",
      "  -1.98945176e-04  7.04451579e-06]\n",
      " [ 1.45003103e-07  6.09249470e-12  6.05762146e-02 ... -1.78944140e-03\n",
      "   5.93906512e-03  7.61102177e-07]]\n"
     ]
    },
    {
     "data": {
      "image/png": "[encoded data removed]",
      "text/plain": [
       "<Figure size 640x480 with 1 Axes>"
      ]
     },
     "metadata": {},
     "output_type": "display_data"
    },
    {
     "data": {
      "image/png": "[encoded data removed]",
      "text/plain": [
       "<Figure size 640x480 with 1 Axes>"
      ]
     },
     "metadata": {},
     "output_type": "display_data"
    }
   ],
   "source": [
    "df_PCA = df.copy()\n",
    "\n",
    "mean_rating_column = df_PCA['mean_rating']\n",
    "X_train_PCA, X_test_PCA, y_train_PCA, y_test_PCA = train_test_split(df.drop(columns=['mean_rating']), mean_rating_column, test_size=0.1, random_state=42)\n",
    "print('X shape:',df.drop(columns=['mean_rating']).shape)\n",
    "print('y shape:',mean_rating_column.shape)\n",
    "print('X_train shape:',X_train_PCA.shape)\n",
    "print('y_train shape:',y_train_PCA.shape)\n",
    "print('X_test shape:',X_test_PCA.shape)\n",
    "print('y_test shape:',y_test_PCA.shape)\n",
    "\n",
    "pca = decomposition.PCA()\n",
    "pca.fit(X_train_PCA)\n",
    "print('pca.mean_:', pca.mean_)\n",
    "print('pca.explained_variance_:', pca.explained_variance_)\n",
    "print('pca.explained_variance_ratio_:', pca.explained_variance_ratio_)\n",
    "print('pca.components_:', pca.components_)\n",
    "\n",
    "X_train_PCA = pca.transform(X_train_PCA)\n",
    "plt.scatter(X_train_PCA[:, 0], X_train_PCA[:, 1], c=y_train_PCA)\n",
    "plt.show()\n",
    "X_test_PCA = pca.transform(X_test_PCA)\n",
    "plt.scatter(X_test_PCA[:, 0], X_test_PCA[:, 1], c=y_test_PCA)\n",
    "plt.show()\n"
   ]
  },
  {
   "attachments": {},
   "cell_type": "markdown",
   "metadata": {},
   "source": [
    "## Modeling"
   ]
  },
  {
   "cell_type": "code",
   "execution_count": 29,
   "metadata": {},
   "outputs": [],
   "source": [
    "# Split data\n",
    "X = df.drop(columns=['mean_rating'])\n",
    "y = df['mean_rating']\n",
    "\n",
    "# Split the data into training and testing sets\n",
    "X_train, X_test, y_train, y_test = train_test_split(X, y, test_size=0.2, random_state=42)\n",
    "X_train, X_val, y_train, y_val = train_test_split(X_train, y_train, test_size=0.2, random_state=42)\n"
   ]
  },
  {
   "attachments": {},
   "cell_type": "markdown",
   "metadata": {},
   "source": [
    "#### Linear Regressor"
   ]
  },
  {
   "cell_type": "code",
   "execution_count": 30,
   "metadata": {},
   "outputs": [
    {
     "name": "stdout",
     "output_type": "stream",
     "text": [
      "Coefficients:  [ 3.61416457e-06  1.68313052e-10  6.46858514e-02 -1.44709388e-02\n",
      " -4.00040501e-02  1.86499873e-02 -8.73316326e-03  2.94775465e-02\n",
      " -1.52267363e-02 -4.14603669e-02  2.80008776e-02 -8.54500306e-03\n",
      " -2.52345914e-01 -6.08832946e-02  1.95640017e-02  6.00973144e-02\n",
      "  5.99911443e-02  1.08657613e-02  2.87921875e-01 -4.03538044e-02\n",
      "  9.16683670e-03  5.61655219e-02  1.70967288e-02  1.34319906e-02\n",
      "  5.09404189e-01 -1.55404742e-02  7.88577442e-02  3.55788238e-02\n",
      " -8.40445325e-02 -4.78431611e-02  6.34701524e-02  2.41465864e-02\n",
      " -4.96493649e-02 -5.54481136e-02  6.76683224e-04  7.61352082e-02\n",
      "  2.44011460e-03  5.30446334e-02 -1.03944690e-01  5.43722262e-02\n",
      " -6.84701387e-02  7.89373711e-02 -2.51209392e-02 -2.61861300e-02\n",
      " -1.82833618e-02  9.84522871e-02  2.07058775e-02  3.76365284e-02\n",
      "  1.20766237e-02 -1.69332057e-02 -2.33818542e-02 -1.82115767e-01\n",
      "  2.97262270e-02 -2.71140507e-02  4.80576798e-02 -7.48060309e-02\n",
      "  8.12491365e-02  1.76367894e-02 -1.05127332e-01 -9.67664919e-03\n",
      " -3.11111974e-02  7.46308568e-04 -8.65812274e-02 -8.07041161e-02\n",
      " -1.52846296e-01  1.54159544e-01 -1.18449109e-02 -1.18326404e-01\n",
      " -3.87451453e-02 -1.35824824e-01  1.94170534e-02 -7.39537097e-02\n",
      " -1.64820206e-02  1.34397530e-01  5.88952469e-02 -5.80492536e-03\n",
      "  1.06707079e-02  1.82348609e-01  1.07758285e-01  6.22736914e-02\n",
      " -8.88272315e-02  7.79322241e-03  4.90913468e-02  2.13535031e-02\n",
      " -1.91782736e-03  4.88875065e-02  4.54697440e-03 -5.81349777e-02\n",
      " -3.01447661e-02  3.51263650e-02 -4.39125002e-02 -3.41896587e-02\n",
      "  1.09457358e-02 -4.53840297e-02 -1.97272164e-02  5.29716846e-02\n",
      " -6.03095268e-02 -3.85505487e-02  2.74060849e-02 -4.58114900e-02\n",
      "  3.73686298e-02  6.26883605e-02 -1.19155157e-02 -2.92219857e-02\n",
      "  1.94163430e-02  5.47625125e-02 -2.80822810e-02 -2.05792503e-02\n",
      " -1.30774898e-02  1.29808351e-01 -3.77784836e-02  1.73446098e-01\n",
      "  2.56292498e-02 -1.51966100e-02 -1.29392629e-01  2.39205746e-02\n",
      " -3.98115936e-02 -7.97659690e-02 -8.45992529e-02  3.65719673e-01\n",
      "  2.59738518e-02 -4.30898008e-02 -3.95201780e-03 -2.29165341e-02\n",
      " -5.14609694e-02  4.21259024e-03  2.37114603e-02 -1.25862006e-02\n",
      " -4.80592801e-02  1.14073303e-02 -2.80849820e-02 -4.75516828e-01\n",
      " -9.86100393e-02  7.42913056e-02  1.21115864e-01 -1.98424726e-01\n",
      " -1.10225368e-02  3.89718854e-03 -1.55992065e-02 -8.25827727e-01\n",
      " -4.85481705e-02 -6.13156135e-02  1.57805084e-02 -1.35205195e-01\n",
      " -2.33952136e-02  1.89250640e-02  6.30135626e-02  2.51599852e-02\n",
      "  1.53848878e-02  1.40834502e-02  6.38642595e-02  9.95151435e-03\n",
      " -7.54885954e-02  5.84572057e-04 -3.88094654e-02  1.90524100e-02\n",
      " -5.55275456e-02 -1.39973973e-01 -1.02902338e-01  7.81395587e-02\n",
      " -4.01533076e-02 -2.43231533e-04 -1.40136014e-01  4.87498804e-02\n",
      " -3.57085964e-03  5.40356478e-02 -8.86150930e-03  6.12680967e-02\n",
      "  6.28648607e-01 -1.93795015e-02  7.19876179e-03  2.38883319e-02\n",
      "  4.87554837e-02 -2.52667596e-02 -7.06441040e-03 -4.34748027e-03\n",
      "  1.24849852e-02 -5.46473558e-03  2.03992626e-01  1.86816572e-02\n",
      " -2.52493749e-02  1.23570386e-01  1.91250043e-01  5.80273738e-03\n",
      " -7.92896860e-02  3.94472889e-03  8.46337008e-02  7.44570267e-02\n",
      " -1.50883646e-02  1.77602006e-02  1.01494000e-03  4.12501151e-02\n",
      " -7.06961759e-03  1.45530319e-02  3.66289703e-02 -6.60699563e-02\n",
      "  7.01869544e-02 -4.44560993e-02  1.00661895e-01 -4.14445871e-02\n",
      " -7.93000656e-02 -1.30366881e-04  9.56400313e-02  7.58116351e-04]\n",
      "Mean squared error: 0.48\n",
      "Coefficient of determination: 0.12\n"
     ]
    },
    {
     "data": {
      "text/plain": [
       "16145    3.000000\n",
       "5205     2.606136\n",
       "12547    3.170886\n",
       "15268    2.000000\n",
       "54793    3.333333\n",
       "Name: mean_rating, dtype: float64"
      ]
     },
     "metadata": {},
     "output_type": "display_data"
    },
    {
     "data": {
      "text/plain": [
       "array([3.01168595, 2.50185328, 3.14806515, 3.02858468, 2.98673921])"
      ]
     },
     "metadata": {},
     "output_type": "display_data"
    }
   ],
   "source": [
    "# Create Linear Regression model in sklearn\n",
    "\n",
    "# Create the model\n",
    "LR_model = LinearRegression()\n",
    "\n",
    "# Train the model on the training data\n",
    "LR_model.fit(X_train, y_train)\n",
    "\n",
    "# Evaluate the model on the test data\n",
    "y_pred = LR_model.predict(X_test)\n",
    "print('Coefficients: ', LR_model.coef_)\n",
    "print('Mean squared error: %.2f' % mean_squared_error(y_test, y_pred))\n",
    "print('Coefficient of determination: %.2f' % r2_score(y_test, y_pred))\n",
    "\n",
    "display(y_test[:5])\n",
    "display(y_pred[:5])\n"
   ]
  },
  {
   "attachments": {},
   "cell_type": "markdown",
   "metadata": {},
   "source": [
    "#### Stochastic Gradient Descent"
   ]
  },
  {
   "cell_type": "code",
   "execution_count": 31,
   "metadata": {},
   "outputs": [
    {
     "name": "stdout",
     "output_type": "stream",
     "text": [
      "Coefficients:  [-1.17071005e+14  1.15505969e+17 -1.06040148e+11  2.82103782e+10\n",
      " -1.01998810e+11 -1.21528411e+11 -4.88881569e+09  1.41241462e+10\n",
      " -8.59783000e+10 -1.54365615e+10 -7.10754922e+10 -9.64372568e+10\n",
      " -2.27165089e+09 -5.57204722e+10 -8.99445093e+10 -5.10892887e+10\n",
      " -1.76077730e+10 -7.76612648e+10 -4.34447340e+10  4.04379151e+10\n",
      " -5.22355226e+09 -1.20610343e+11 -3.54981630e+10 -5.84571800e+10\n",
      " -1.29469727e+11 -9.17585615e+09 -7.45252540e+10 -4.42168443e+10\n",
      " -6.00281849e+10 -2.89988861e+10 -9.11046663e+10 -9.47415412e+10\n",
      " -3.37006973e+09 -7.87979521e+10 -5.68595850e+10 -8.02034509e+10\n",
      " -1.05539131e+10 -2.87435836e+10 -1.07192796e+11 -2.94949353e+10\n",
      " -5.64331730e+10 -8.34070168e+10 -6.76441716e+09  3.46714533e+10\n",
      " -3.53694107e+10 -5.77682919e+10 -8.46370237e+10 -1.94034317e+10\n",
      "  2.65170806e+10 -3.62356527e+09  3.15209968e+10 -5.21632937e+10\n",
      " -7.06614853e+10 -3.23320468e+10  1.28105161e+10  2.81377853e+10\n",
      " -3.28426028e+10 -7.91514838e+10 -4.68247352e+10 -5.97194428e+10\n",
      " -1.47690746e+10 -3.64138931e+10 -4.48026336e+10 -6.51583710e+10\n",
      " -5.30417887e+09  3.36900786e+09  3.80164675e+09 -8.75153276e+10\n",
      "  2.00465292e+10 -3.41371291e+10 -2.87361521e+10 -2.23362695e+09\n",
      "  6.66404560e+09 -8.82317502e+10 -3.04581260e+10 -1.03350829e+10\n",
      " -8.42787068e+10 -9.86382805e+10  2.43781959e+10 -4.84853991e+10\n",
      " -8.81941819e+10 -1.19674092e+11 -1.51769602e+10  2.22140402e+10\n",
      " -4.60254937e+10 -1.21222185e+10 -3.57929684e+10 -3.73967288e+10\n",
      " -1.83745469e+10 -2.73600355e+10 -5.46360239e+10 -4.37166611e+10\n",
      " -8.88710817e+09 -2.49532711e+10 -3.38358554e+10 -2.36849139e+10\n",
      " -4.63116566e+10 -7.38241345e+10 -5.35611628e+10 -6.99844082e+09\n",
      "  3.64650488e+10 -7.98273809e+10 -8.66106787e+10 -4.18694701e+10\n",
      " -3.78699851e+10  3.42805350e+10  2.85683763e+10 -1.20485223e+10\n",
      " -1.43107302e+11 -5.71764069e+09  2.74073469e+10 -3.62728087e+08\n",
      " -6.89160574e+10 -4.13936173e+09 -8.75355316e+10 -4.32470192e+10\n",
      " -6.56230166e+10 -1.04522699e+11 -8.54206583e+10 -4.08974635e+10\n",
      " -1.19093293e+11 -8.64280770e+10 -1.34528102e+11 -1.80123431e+10\n",
      " -1.49230729e+11 -1.94410006e+10 -3.83123564e+10 -7.51534639e+09\n",
      " -8.28833439e+10 -1.89860946e+10 -3.82362967e+10 -1.56253079e+10\n",
      " -1.50508866e+10 -3.44096042e+10 -4.99728919e+10 -5.60041626e+10\n",
      " -8.16243944e+10 -8.51072196e+10  2.08645059e+10 -6.66155466e+10\n",
      " -3.52587446e+10 -4.27249623e+10 -1.61156927e+10 -2.95008520e+10\n",
      "  3.59300933e+10 -2.37079442e+09 -2.82975999e+10 -6.31341302e+10\n",
      "  2.56704857e+10 -4.25667870e+09 -9.20119138e+10 -8.68170303e+10\n",
      " -8.22251597e+10 -5.69614906e+10 -1.09509090e+11 -7.02532893e+10\n",
      " -1.00251957e+11 -3.31017945e+10  1.60562302e+09 -7.74122631e+10\n",
      " -1.00835125e+10 -8.58429558e+10 -4.04358872e+08 -1.05639650e+11\n",
      " -8.69924748e+10 -7.45482488e+10  2.02717981e+10 -4.90560834e+10\n",
      " -7.10198535e+10 -3.09017521e+10 -1.13675676e+11 -9.62640420e+10\n",
      " -3.87143662e+09 -1.02445675e+11 -7.25511044e+10 -5.84899115e+10\n",
      "  8.00587919e+10 -1.09000688e+10 -9.60406193e+10 -4.95885364e+10\n",
      " -5.26125451e+10 -1.09768088e+11 -6.98921076e+10  4.91163790e+10\n",
      " -4.59886266e+10 -7.61899689e+10 -1.36974075e+11 -2.80562281e+10\n",
      " -5.32920811e+10 -1.75482054e+10  1.65193687e+10 -4.11708711e+10\n",
      " -6.92984595e+10 -7.42925653e+10 -8.17094447e+10 -5.06391753e+10\n",
      " -1.07017051e+11 -5.00465410e+10 -3.80615565e+10 -4.95205742e+10\n",
      " -1.80065221e+10 -2.49227052e+10  6.81840258e+09  8.69570820e+12]\n",
      "Mean squared error: 27892005931841985842004630903971401488817995615567872.00\n",
      "Coefficient of determination: -51140082918749895445628129201586977525381510486556672.00\n"
     ]
    },
    {
     "data": {
      "text/plain": [
       "16145    3.000000\n",
       "5205     2.606136\n",
       "12547    3.170886\n",
       "15268    2.000000\n",
       "54793    3.333333\n",
       "Name: mean_rating, dtype: float64"
      ]
     },
     "metadata": {},
     "output_type": "display_data"
    },
    {
     "data": {
      "text/plain": [
       "array([1.67890433e+26, 1.48245659e+26, 1.64419022e+26, 1.81070410e+26,\n",
       "       1.80435446e+26])"
      ]
     },
     "metadata": {},
     "output_type": "display_data"
    }
   ],
   "source": [
    "# Create Stochastic Gradient Descent model in sklearn\n",
    "\n",
    "# Create the model\n",
    "SGD_model = SGDRegressor()\n",
    "\n",
    "# Train the model on the training data\n",
    "SGD_model.fit(X_train, y_train)\n",
    "\n",
    "# Evaluate the model on the test data\n",
    "y_pred = SGD_model.predict(X_test)\n",
    "print('Coefficients: ', SGD_model.coef_)\n",
    "print('Mean squared error: %.2f' % mean_squared_error(y_test, y_pred))\n",
    "print('Coefficient of determination: %.2f' % r2_score(y_test, y_pred))\n",
    "\n",
    "display(y_test[:5])\n",
    "display(y_pred[:5])\n"
   ]
  },
  {
   "attachments": {},
   "cell_type": "markdown",
   "metadata": {},
   "source": [
    "#### SVM"
   ]
  },
  {
   "cell_type": "code",
   "execution_count": 32,
   "metadata": {
    "tags": [
     "no_run"
    ]
   },
   "outputs": [
    {
     "data": {
      "text/plain": [
       "\" # Create SVM model in sklearn\\n\\n# Create the model\\nSVM_model = SVR()\\n\\n# Train the model on the training data\\nSVM_model.fit(X_train, y_train)\\n\\n# Evaluate the model on the test data\\ny_pred = SVM_model.predict(X_test)\\nprint('Mean squared error: %.2f' % mean_squared_error(y_test, y_pred))\\nprint('Coefficient of determination: %.2f' % r2_score(y_test, y_pred))\\n\\ndisplay(y_test[:5])\\ndisplay(y_pred[:5]) \""
      ]
     },
     "execution_count": 32,
     "metadata": {},
     "output_type": "execute_result"
    }
   ],
   "source": [
    "\"\"\" # Create SVM model in sklearn\n",
    "\n",
    "# Create the model\n",
    "SVM_model = SVR()\n",
    "\n",
    "# Train the model on the training data\n",
    "SVM_model.fit(X_train, y_train)\n",
    "\n",
    "# Evaluate the model on the test data\n",
    "y_pred = SVM_model.predict(X_test)\n",
    "print('Mean squared error: %.2f' % mean_squared_error(y_test, y_pred))\n",
    "print('Coefficient of determination: %.2f' % r2_score(y_test, y_pred))\n",
    "\n",
    "display(y_test[:5])\n",
    "display(y_pred[:5]) \"\"\"\n"
   ]
  },
  {
   "attachments": {},
   "cell_type": "markdown",
   "metadata": {},
   "source": [
    "### KNN"
   ]
  },
  {
   "cell_type": "code",
   "execution_count": 33,
   "metadata": {},
   "outputs": [
    {
     "data": {
      "text/plain": [
       "\" KNN_model = KNeighborsRegressor(n_neighbors=5)\\nKNN_model.fit(X_train, y_train)\\n\\n# Evaluate the model on the test data\\ny_pred = KNN_model.predict(X_test)\\nprint('Mean squared error: %.2f' % mean_squared_error(y_test, y_pred))\\nprint('Coefficient of determination: %.2f' % r2_score(y_test, y_pred))\\n\\ndisplay(y_test[:5])\\ndisplay(y_pred[:5]) \""
      ]
     },
     "execution_count": 33,
     "metadata": {},
     "output_type": "execute_result"
    }
   ],
   "source": [
    "\"\"\" KNN_model = KNeighborsRegressor(n_neighbors=5)\n",
    "KNN_model.fit(X_train, y_train)\n",
    "\n",
    "# Evaluate the model on the test data\n",
    "y_pred = KNN_model.predict(X_test)\n",
    "print('Mean squared error: %.2f' % mean_squared_error(y_test, y_pred))\n",
    "print('Coefficient of determination: %.2f' % r2_score(y_test, y_pred))\n",
    "\n",
    "display(y_test[:5])\n",
    "display(y_pred[:5]) \"\"\"\n"
   ]
  },
  {
   "attachments": {},
   "cell_type": "markdown",
   "metadata": {},
   "source": [
    "### Decision Trees"
   ]
  },
  {
   "cell_type": "code",
   "execution_count": 34,
   "metadata": {},
   "outputs": [
    {
     "name": "stdout",
     "output_type": "stream",
     "text": [
      "Mean squared error: 0.79\n",
      "Coefficient of determination: -0.44\n"
     ]
    },
    {
     "data": {
      "text/plain": [
       "16145    3.000000\n",
       "5205     2.606136\n",
       "12547    3.170886\n",
       "15268    2.000000\n",
       "54793    3.333333\n",
       "Name: mean_rating, dtype: float64"
      ]
     },
     "metadata": {},
     "output_type": "display_data"
    },
    {
     "data": {
      "text/plain": [
       "array([2.95      , 2.49166667, 3.24778761, 3.        , 3.16666667])"
      ]
     },
     "metadata": {},
     "output_type": "display_data"
    }
   ],
   "source": [
    "DT_model = DecisionTreeRegressor()\n",
    "DT_model.fit(X_train, y_train)\n",
    "\n",
    "# Evaluate the model on the test data\n",
    "y_pred = DT_model.predict(X_test)\n",
    "print('Mean squared error: %.2f' % mean_squared_error(y_test, y_pred))\n",
    "print('Coefficient of determination: %.2f' % r2_score(y_test, y_pred))\n",
    "\n",
    "display(y_test[:5])\n",
    "display(y_pred[:5])\n"
   ]
  },
  {
   "attachments": {},
   "cell_type": "markdown",
   "metadata": {},
   "source": [
    "### Modeling the problem as classification"
   ]
  },
  {
   "cell_type": "code",
   "execution_count": 35,
   "metadata": {},
   "outputs": [
    {
     "name": "stdout",
     "output_type": "stream",
     "text": [
      "Binned values: [0 1 2 3 4 5 6 7 8 9]\n"
     ]
    },
    {
     "data": {
      "text/plain": [
       "37521    4\n",
       "12549    5\n",
       "51490    6\n",
       "33604    7\n",
       "17758    4\n",
       "Name: mean_rating, dtype: int64"
      ]
     },
     "metadata": {},
     "output_type": "display_data"
    },
    {
     "name": "stdout",
     "output_type": "stream",
     "text": [
      "Accuracy: 0.37\n",
      "Recall: 0.26\n",
      "Precision: 0.27\n"
     ]
    },
    {
     "data": {
      "text/plain": [
       "16145    5\n",
       "5205     4\n",
       "12547    5\n",
       "15268    3\n",
       "54793    6\n",
       "Name: mean_rating, dtype: int64"
      ]
     },
     "metadata": {},
     "output_type": "display_data"
    },
    {
     "data": {
      "text/plain": [
       "array([5, 4, 6, 5, 5])"
      ]
     },
     "metadata": {},
     "output_type": "display_data"
    }
   ],
   "source": [
    "# bin y_train and y_test into 10 bins\n",
    "y_train_binned = pd.cut(y_train, 10, labels=False)\n",
    "y_test_binned = pd.cut(y_test, 10, labels=False)\n",
    "\n",
    "print('Binned values:', np.unique(y_train_binned))\n",
    "display(y_train_binned[:5])\n",
    "\n",
    "# use the binned values to train the model\n",
    "\n",
    "RFC_classifier = RandomForestClassifier()\n",
    "RFC_classifier.fit(X_train, y_train_binned)\n",
    "\n",
    "y_pred = RFC_classifier.predict(X_test)\n",
    "\n",
    "# evaluation of y_pred\n",
    "print('Accuracy: %.2f' % accuracy_score(y_test_binned, y_pred))\n",
    "print('Recall: %.2f' % recall_score(y_test_binned, y_pred, average='macro'))\n",
    "print('Precision: %.2f' % precision_score(y_test_binned, y_pred, average='macro'))\n",
    "\n",
    "display(y_test_binned[:5])\n",
    "display(y_pred[:5])"
   ]
  },
  {
   "attachments": {},
   "cell_type": "markdown",
   "metadata": {},
   "source": [
    "### NN"
   ]
  },
  {
   "cell_type": "code",
   "execution_count": null,
   "metadata": {},
   "outputs": [],
   "source": []
  },
  {
   "attachments": {},
   "cell_type": "markdown",
   "metadata": {},
   "source": [
    "### Tabular"
   ]
  },
  {
   "cell_type": "code",
   "execution_count": 36,
   "metadata": {},
   "outputs": [],
   "source": [
    "def print_metrics(y_true, y_pred, tag):\n",
    "    if isinstance(y_true, pd.DataFrame) or isinstance(y_true, pd.Series):\n",
    "        y_true = y_true.values\n",
    "    if isinstance(y_pred, pd.DataFrame) or isinstance(y_pred, pd.Series):\n",
    "        y_pred = y_pred.values\n",
    "    if y_true.ndim>1:\n",
    "        y_true=y_true.ravel()\n",
    "    if y_pred.ndim>1:\n",
    "        y_pred=y_pred.ravel()\n",
    "    val_acc = accuracy_score(y_true, y_pred)\n",
    "    val_f1 = f1_score(y_true, y_pred)\n",
    "    print(f\"{tag} Acc: {val_acc} | {tag} F1: {val_f1}\")\n"
   ]
  },
  {
   "cell_type": "code",
   "execution_count": 37,
   "metadata": {},
   "outputs": [],
   "source": [
    "#data, cat_col_names, num_col_names = make_mixed_classification(n_samples=10000, n_features=20, n_categories=4)\n",
    "train_tabular, test_tabular = train_test_split(df, random_state=42)\n",
    "train_tabular, val_tabular = train_test_split(train_tabular, random_state=42)\n"
   ]
  },
  {
   "cell_type": "code",
   "execution_count": 43,
   "metadata": {},
   "outputs": [
    {
     "name": "stdout",
     "output_type": "stream",
     "text": [
      "df.columns: ['mean_rating', 'rating_count', 'mean_timestamp', 'absurd', 'action', 'adaptation', 'adapted from:book', 'adventure', 'affectionate', 'allegory', 'art', 'atmospheric', 'bad ending', 'bad plot', 'based on a book', 'based on book', 'beautiful scenery', 'beautifully filmed', 'betrayal', 'better than expected', 'bittersweet', 'bleak', 'books', 'breathtaking', 'brutality', 'catastrophe', 'cerebral', 'chase', 'childhood', 'cinematography', 'classic car', 'clever', 'comedy', 'complex', 'computer animation', 'corruption', 'creativity', 'crime gone awry', 'criterion', 'crude humor', 'cult classic', 'cult film', 'culture clash', 'death', 'depression', 'destiny', 'dialogue', 'distopia', 'disturbing', 'downbeat', 'drama', 'dramatic', 'dreamlike', 'drinking', 'dysfunctional family', 'earnest', 'emotional', 'enigmatic', 'entertaining', 'entirely dialogue', 'excellent script', 'exceptional acting', 'existentialism', 'family', 'fantasy world', 'feel good movie', 'feel-good', 'fight scenes', 'first contact', 'friendship', 'fun', 'fun movie', 'gangsters', 'golden palm', 'good', 'good acting', 'good action', 'good soundtrack', 'great', 'great acting', 'great ending', 'great movie', 'greed', 'grindhouse', 'guilt', 'gunfight', 'happy ending', 'harsh', 'highly quotable', 'honest', 'hospital', 'humorous', 'idealism', 'identity', 'imdb top 250', 'independent film', 'insanity', 'intense', 'interesting', 'intimate', 'justice', 'life & death', 'life philosophy', 'light', 'lone hero', 'loneliness', 'love', 'love story', 'macabre', 'male nudity', 'masterpiece', 'melancholic', 'melancholy', 'mentor', 'movielens top pick', 'multiple storylines', 'murder', 'narrated', 'natural disaster', 'nocturnal', 'not funny', 'nudity (full frontal - brief)', 'nudity (full frontal - notable)', 'nudity (topless - notable)', 'obsession', 'original', 'original plot', 'oscar', 'oscar (best actress)', 'oscar (best directing)', 'oscar (best supporting actress)', 'oscar winner', 'overrated', 'passionate', 'pg-13', 'plot', 'pointless', 'police investigation', 'pornography', 'powerful ending', 'predictable', 'psychological', 'pulp', 'queer', 'quirky', 'redemption', 'reflective', 'relationships', 'revenge', 'romance', 'romantic', 'runaway', 'sacrifice', 'sci fi', 'secrets', 'sexualized violence', 'sexy', 'silly fun', 'slapstick', \"so bad it's funny\", 'social commentary', 'solitude', 'special effects', 'splatter', 'stereotypes', 'story', 'storytelling', 'stylish', 'stylized', 'suprisingly clever', 'surreal', 'suspense', 'suspenseful', 'talky', 'teen movie', 'tense', 'thought-provoking', 'touching', 'tragedy', 'transformation', 'twist ending', 'twists & turns', 'underrated', 'unfunny', 'unlikely friendships', 'unusual plot structure', 'vengeance', 'very funny', 'very good', 'very interesting', 'violence', 'violent', 'visceral', 'visual', 'visually appealing', 'visually stunning', 'weapons', 'weird', 'whimsical', 'witty', 'women', 'writers', 'IMAX', 'Film-Noir', 'year']\n",
      "continuous_columns: ['rating_count', 'mean_timestamp', 'absurd', 'action', 'adaptation', 'adapted from:book', 'adventure', 'affectionate', 'allegory', 'art', 'atmospheric', 'bad ending', 'bad plot', 'based on a book', 'based on book', 'beautiful scenery', 'beautifully filmed', 'betrayal', 'better than expected', 'bittersweet', 'bleak', 'books', 'breathtaking', 'brutality', 'catastrophe', 'cerebral', 'chase', 'childhood', 'cinematography', 'classic car', 'clever', 'comedy', 'complex', 'computer animation', 'corruption', 'creativity', 'crime gone awry', 'criterion', 'crude humor', 'cult classic', 'cult film', 'culture clash', 'death', 'depression', 'destiny', 'dialogue', 'distopia', 'disturbing', 'downbeat', 'drama', 'dramatic', 'dreamlike', 'drinking', 'dysfunctional family', 'earnest', 'emotional', 'enigmatic', 'entertaining', 'entirely dialogue', 'excellent script', 'exceptional acting', 'existentialism', 'family', 'fantasy world', 'feel good movie', 'feel-good', 'fight scenes', 'first contact', 'friendship', 'fun', 'fun movie', 'gangsters', 'golden palm', 'good', 'good acting', 'good action', 'good soundtrack', 'great', 'great acting', 'great ending', 'great movie', 'greed', 'grindhouse', 'guilt', 'gunfight', 'happy ending', 'harsh', 'highly quotable', 'honest', 'hospital', 'humorous', 'idealism', 'identity', 'imdb top 250', 'independent film', 'insanity', 'intense', 'interesting', 'intimate', 'justice', 'life & death', 'life philosophy', 'light', 'lone hero', 'loneliness', 'love', 'love story', 'macabre', 'male nudity', 'masterpiece', 'melancholic', 'melancholy', 'mentor', 'movielens top pick', 'multiple storylines', 'murder', 'narrated', 'natural disaster', 'nocturnal', 'not funny', 'nudity (full frontal - brief)', 'nudity (full frontal - notable)', 'nudity (topless - notable)', 'obsession', 'original', 'original plot', 'oscar', 'oscar (best actress)', 'oscar (best directing)', 'oscar (best supporting actress)', 'oscar winner', 'overrated', 'passionate', 'pg-13', 'plot', 'pointless', 'police investigation', 'pornography', 'powerful ending', 'predictable', 'psychological', 'pulp', 'queer', 'quirky', 'redemption', 'reflective', 'relationships', 'revenge', 'romance', 'romantic', 'runaway', 'sacrifice', 'sci fi', 'secrets', 'sexualized violence', 'sexy', 'silly fun', 'slapstick', \"so bad it's funny\", 'social commentary', 'solitude', 'special effects', 'splatter', 'stereotypes', 'story', 'storytelling', 'stylish', 'stylized', 'suprisingly clever', 'surreal', 'suspense', 'suspenseful', 'talky', 'teen movie', 'tense', 'thought-provoking', 'touching', 'tragedy', 'transformation', 'twist ending', 'twists & turns', 'underrated', 'unfunny', 'unlikely friendships', 'unusual plot structure', 'vengeance', 'very funny', 'very good', 'very interesting', 'violence', 'violent', 'visceral', 'visual', 'visually appealing', 'visually stunning', 'weapons', 'weird', 'whimsical', 'witty', 'women', 'writers', 'year']\n"
     ]
    }
   ],
   "source": [
    "label = ['mean_rating']\n",
    "# continuous_columns is df.columns - (mean_rating, IMAX, Film-Noir)\n",
    "categorical_columns = ['IMAX', 'Film-Noir']\n",
    "continuous_columns = list(df.columns)\n",
    "continuous_columns.remove('mean_rating')\n",
    "continuous_columns.remove('IMAX')\n",
    "continuous_columns.remove('Film-Noir')\n",
    "\n",
    "print('df.columns:', list(df.columns))\n",
    "print('continuous_columns:', continuous_columns)\n"
   ]
  },
  {
   "cell_type": "code",
   "execution_count": 44,
   "metadata": {},
   "outputs": [
    {
     "name": "stderr",
     "output_type": "stream",
     "text": [
      "2023-03-09 15:19:14,321 - {pytorch_tabular.tabular_model:102} - INFO - Experiment Tracking is turned off\n"
     ]
    }
   ],
   "source": [
    "batch_size = 1024 #Will set the same in the Trainer YAML file\n",
    "steps_per_epoch = int(train_tabular.shape[0]/1024)\n",
    "epochs = 20\n",
    "\n",
    "data_config = DataConfig(\n",
    "    target=label, #target should always be a list. Multi-targets are only supported for regression. Multi-Task Classification is not implemented\n",
    "    continuous_cols=continuous_columns,\n",
    "    categorical_cols=categorical_columns,\n",
    ")\n",
    "\n",
    "optimizer_config = OptimizerConfig(lr_scheduler=\"OneCycleLR\", lr_scheduler_params={\"max_lr\":0.00478, \"epochs\": epochs, \"steps_per_epoch\":steps_per_epoch})\n",
    "\n",
    "head_config = LinearHeadConfig(\n",
    "    layers=\"\", # No additional layer in head, just a mapping layer to output_dim\n",
    "    dropout=0.1,\n",
    "    initialization=\"kaiming\"\n",
    ").__dict__ # Convert to dict to pass to the model config (OmegaConf doesn't accept objects)\n",
    "\n",
    "model_config = CategoryEmbeddingModelConfig(\n",
    "    task=\"regression\",\n",
    "    layers=\"1024-512-512\",\n",
    "    activation=\"LeakyReLU\",\n",
    "    dropout=0.1,\n",
    "    initialization=\"kaiming\",\n",
    "    head = \"LinearHead\", #Linear Head\n",
    "    head_config = head_config, # Linear Head Config\n",
    "    learning_rate = 1e-3\n",
    ")\n",
    "\n",
    "tabular_model = TabularModel(\n",
    "    data_config=data_config,\n",
    "    model_config=model_config,\n",
    "    optimizer_config=optimizer_config,\n",
    "    trainer_config=\"trainer_config.yaml\",\n",
    ")\n"
   ]
  },
  {
   "cell_type": "code",
   "execution_count": 45,
   "metadata": {},
   "outputs": [
    {
     "name": "stderr",
     "output_type": "stream",
     "text": [
      "2023-03-09 15:19:17,490 - {pytorch_tabular.tabular_model:465} - INFO - Preparing the DataLoaders\n",
      "2023-03-09 15:19:17,532 - {pytorch_tabular.tabular_datamodule:286} - INFO - Setting up the datamodule for regression task\n",
      "2023-03-09 15:19:19,282 - {pytorch_tabular.tabular_model:508} - INFO - Preparing the Model: CategoryEmbeddingModel\n",
      "/opt/anaconda3/lib/python3.9/site-packages/pytorch_tabular/models/base_model.py:126: UserWarning: Wandb is not installed. Please install wandb to log logits. You can install wandb using pip install wandb or install PyTorch Tabular using pip install pytorch-tabular[all]\n",
      "  warnings.warn(\n",
      "/opt/anaconda3/lib/python3.9/site-packages/pytorch_tabular/models/base_model.py:132: UserWarning: Plotly is not installed. Please install plotly to log logits. You can install plotly using pip install plotly or install PyTorch Tabular using pip install pytorch-tabular[all]\n",
      "  warnings.warn(\n",
      "2023-03-09 15:19:19,365 - {pytorch_tabular.tabular_model:264} - INFO - Preparing the Trainer\n",
      "GPU available: False, used: False\n",
      "TPU available: False, using: 0 TPU cores\n",
      "IPU available: False, using: 0 IPUs\n",
      "HPU available: False, using: 0 HPUs\n",
      "2023-03-09 15:19:19,617 - {pytorch_tabular.tabular_model:558} - INFO - Auto LR Find Started\n",
      "/opt/anaconda3/lib/python3.9/site-packages/pytorch_lightning/callbacks/model_checkpoint.py:604: UserWarning: Checkpoint directory /Users/biancaraimondi/Desktop/esami/DataAnalytics/progetto/data-analytics/saved_models exists and is not empty.\n",
      "  rank_zero_warn(f\"Checkpoint directory {dirpath} exists and is not empty.\")\n",
      "/opt/anaconda3/lib/python3.9/site-packages/pytorch_lightning/trainer/connectors/data_connector.py:224: PossibleUserWarning: The dataloader, train_dataloader, does not have many workers which may be a bottleneck. Consider increasing the value of the `num_workers` argument` (try 16 which is the number of cpus on this machine) in the `DataLoader` init to improve performance.\n",
      "  rank_zero_warn(\n",
      "/opt/anaconda3/lib/python3.9/site-packages/pytorch_lightning/trainer/connectors/data_connector.py:224: PossibleUserWarning: The dataloader, val_dataloader 0, does not have many workers which may be a bottleneck. Consider increasing the value of the `num_workers` argument` (try 16 which is the number of cpus on this machine) in the `DataLoader` init to improve performance.\n",
      "  rank_zero_warn(\n"
     ]
    },
    {
     "data": {
      "application/vnd.jupyter.widget-view+json": {
       "model_id": "14f81ffe540d45cfa2e36a0efd3d5db6",
       "version_major": 2,
       "version_minor": 0
      },
      "text/plain": [
       "Finding best initial lr:   0%|          | 0/100 [00:00<?, ?it/s]"
      ]
     },
     "metadata": {},
     "output_type": "display_data"
    },
    {
     "name": "stderr",
     "output_type": "stream",
     "text": [
      "`Trainer.fit` stopped: `max_steps=88` reached.\n",
      "LR finder stopped early after 88 steps due to diverging loss.\n",
      "Learning rate set to 0.0010964781961431851\n",
      "Restoring states from the checkpoint path at /Users/biancaraimondi/Desktop/esami/DataAnalytics/progetto/data-analytics/.lr_find_a729538a-ac4e-4a5d-853c-c917413858d0.ckpt\n",
      "Restored all states from the checkpoint file at /Users/biancaraimondi/Desktop/esami/DataAnalytics/progetto/data-analytics/.lr_find_a729538a-ac4e-4a5d-853c-c917413858d0.ckpt\n",
      "2023-03-09 15:19:28,087 - {pytorch_tabular.tabular_model:560} - INFO - Suggested LR: 0.0010964781961431851. For plot and detailed analysis, use `find_learning_rate` method.\n",
      "2023-03-09 15:19:28,088 - {pytorch_tabular.tabular_model:566} - INFO - Training Started\n"
     ]
    },
    {
     "data": {
      "text/html": [
       "<pre style=\"white-space:pre;overflow-x:auto;line-height:normal;font-family:Menlo,'DejaVu Sans Mono',consolas,'Courier New',monospace\">┏━━━┳━━━━━━━━━━━━━━━━━━┳━━━━━━━━━━━━━━━━━━━━━━━━━━━┳━━━━━━━━┓\n",
       "┃<span style=\"color: #800080; text-decoration-color: #800080; font-weight: bold\">   </span>┃<span style=\"color: #800080; text-decoration-color: #800080; font-weight: bold\"> Name             </span>┃<span style=\"color: #800080; text-decoration-color: #800080; font-weight: bold\"> Type                      </span>┃<span style=\"color: #800080; text-decoration-color: #800080; font-weight: bold\"> Params </span>┃\n",
       "┡━━━╇━━━━━━━━━━━━━━━━━━╇━━━━━━━━━━━━━━━━━━━━━━━━━━━╇━━━━━━━━┩\n",
       "│<span style=\"color: #7f7f7f; text-decoration-color: #7f7f7f\"> 0 </span>│ _backbone        │ CategoryEmbeddingBackbone │  999 K │\n",
       "│<span style=\"color: #7f7f7f; text-decoration-color: #7f7f7f\"> 1 </span>│ _embedding_layer │ Embedding1dLayer          │    416 │\n",
       "│<span style=\"color: #7f7f7f; text-decoration-color: #7f7f7f\"> 2 </span>│ head             │ LinearHead                │    513 │\n",
       "│<span style=\"color: #7f7f7f; text-decoration-color: #7f7f7f\"> 3 </span>│ loss             │ MSELoss                   │      0 │\n",
       "└───┴──────────────────┴───────────────────────────┴────────┘\n",
       "</pre>\n"
      ],
      "text/plain": [
       "┏━━━┳━━━━━━━━━━━━━━━━━━┳━━━━━━━━━━━━━━━━━━━━━━━━━━━┳━━━━━━━━┓\n",
       "┃\u001b[1;35m \u001b[0m\u001b[1;35m \u001b[0m\u001b[1;35m \u001b[0m┃\u001b[1;35m \u001b[0m\u001b[1;35mName            \u001b[0m\u001b[1;35m \u001b[0m┃\u001b[1;35m \u001b[0m\u001b[1;35mType                     \u001b[0m\u001b[1;35m \u001b[0m┃\u001b[1;35m \u001b[0m\u001b[1;35mParams\u001b[0m\u001b[1;35m \u001b[0m┃\n",
       "┡━━━╇━━━━━━━━━━━━━━━━━━╇━━━━━━━━━━━━━━━━━━━━━━━━━━━╇━━━━━━━━┩\n",
       "│\u001b[2m \u001b[0m\u001b[2m0\u001b[0m\u001b[2m \u001b[0m│ _backbone        │ CategoryEmbeddingBackbone │  999 K │\n",
       "│\u001b[2m \u001b[0m\u001b[2m1\u001b[0m\u001b[2m \u001b[0m│ _embedding_layer │ Embedding1dLayer          │    416 │\n",
       "│\u001b[2m \u001b[0m\u001b[2m2\u001b[0m\u001b[2m \u001b[0m│ head             │ LinearHead                │    513 │\n",
       "│\u001b[2m \u001b[0m\u001b[2m3\u001b[0m\u001b[2m \u001b[0m│ loss             │ MSELoss                   │      0 │\n",
       "└───┴──────────────────┴───────────────────────────┴────────┘\n"
      ]
     },
     "metadata": {},
     "output_type": "display_data"
    },
    {
     "data": {
      "text/html": [
       "<pre style=\"white-space:pre;overflow-x:auto;line-height:normal;font-family:Menlo,'DejaVu Sans Mono',consolas,'Courier New',monospace\"><span style=\"font-weight: bold\">Trainable params</span>: 1.0 M                                                                                            \n",
       "<span style=\"font-weight: bold\">Non-trainable params</span>: 0                                                                                            \n",
       "<span style=\"font-weight: bold\">Total params</span>: 1.0 M                                                                                                \n",
       "<span style=\"font-weight: bold\">Total estimated model params size (MB)</span>: 4                                                                          \n",
       "</pre>\n"
      ],
      "text/plain": [
       "\u001b[1mTrainable params\u001b[0m: 1.0 M                                                                                            \n",
       "\u001b[1mNon-trainable params\u001b[0m: 0                                                                                            \n",
       "\u001b[1mTotal params\u001b[0m: 1.0 M                                                                                                \n",
       "\u001b[1mTotal estimated model params size (MB)\u001b[0m: 4                                                                          \n"
      ]
     },
     "metadata": {},
     "output_type": "display_data"
    },
    {
     "data": {
      "application/vnd.jupyter.widget-view+json": {
       "model_id": "81d339ce71654f1293faeae0023dc99b",
       "version_major": 2,
       "version_minor": 0
      },
      "text/plain": [
       "Output()"
      ]
     },
     "metadata": {},
     "output_type": "display_data"
    },
    {
     "name": "stderr",
     "output_type": "stream",
     "text": [
      "`Trainer.fit` stopped: `max_epochs=20` reached.\n"
     ]
    },
    {
     "data": {
      "text/html": [
       "<pre style=\"white-space:pre;overflow-x:auto;line-height:normal;font-family:Menlo,'DejaVu Sans Mono',consolas,'Courier New',monospace\"></pre>\n"
      ],
      "text/plain": []
     },
     "metadata": {},
     "output_type": "display_data"
    },
    {
     "data": {
      "text/html": [
       "<pre style=\"white-space:pre;overflow-x:auto;line-height:normal;font-family:Menlo,'DejaVu Sans Mono',consolas,'Courier New',monospace\">\n",
       "</pre>\n"
      ],
      "text/plain": [
       "\n"
      ]
     },
     "metadata": {},
     "output_type": "display_data"
    },
    {
     "name": "stderr",
     "output_type": "stream",
     "text": [
      "2023-03-09 15:20:47,829 - {pytorch_tabular.tabular_model:568} - INFO - Training the model completed\n",
      "2023-03-09 15:20:47,830 - {pytorch_tabular.tabular_model:1207} - INFO - Loading the best model\n"
     ]
    },
    {
     "data": {
      "text/plain": [
       "<pytorch_lightning.trainer.trainer.Trainer at 0x7fb8d34375e0>"
      ]
     },
     "execution_count": 45,
     "metadata": {},
     "output_type": "execute_result"
    }
   ],
   "source": [
    "#tabular_model.fit(train=train, validation=val)\n",
    "datamodule = tabular_model.prepare_dataloader(\n",
    "                train=train_tabular, validation=val_tabular, seed=42\n",
    "            )\n",
    "model = tabular_model.prepare_model(\n",
    "            datamodule\n",
    "        )\n",
    "tabular_model.train(model, datamodule)\n"
   ]
  },
  {
   "cell_type": "code",
   "execution_count": 46,
   "metadata": {},
   "outputs": [
    {
     "data": {
      "application/vnd.jupyter.widget-view+json": {
       "model_id": "19e8c354e0ee473d83ce918845160fbf",
       "version_major": 2,
       "version_minor": 0
      },
      "text/plain": [
       "Output()"
      ]
     },
     "metadata": {},
     "output_type": "display_data"
    },
    {
     "name": "stderr",
     "output_type": "stream",
     "text": [
      "/opt/anaconda3/lib/python3.9/site-packages/pytorch_lightning/trainer/connectors/data_connector.py:224: PossibleUserWarning: The dataloader, test_dataloader 0, does not have many workers which may be a bottleneck. Consider increasing the value of the `num_workers` argument` (try 16 which is the number of cpus on this machine) in the `DataLoader` init to improve performance.\n",
      "  rank_zero_warn(\n"
     ]
    },
    {
     "data": {
      "text/html": [
       "<pre style=\"white-space:pre;overflow-x:auto;line-height:normal;font-family:Menlo,'DejaVu Sans Mono',consolas,'Courier New',monospace\">┏━━━━━━━━━━━━━━━━━━━━━━━━━━━┳━━━━━━━━━━━━━━━━━━━━━━━━━━━┓\n",
       "┃<span style=\"font-weight: bold\">        Test metric        </span>┃<span style=\"font-weight: bold\">       DataLoader 0        </span>┃\n",
       "┡━━━━━━━━━━━━━━━━━━━━━━━━━━━╇━━━━━━━━━━━━━━━━━━━━━━━━━━━┩\n",
       "│<span style=\"color: #008080; text-decoration-color: #008080\">         test_loss         </span>│<span style=\"color: #800080; text-decoration-color: #800080\">     0.542113721370697     </span>│\n",
       "│<span style=\"color: #008080; text-decoration-color: #008080\">  test_mean_squared_error  </span>│<span style=\"color: #800080; text-decoration-color: #800080\">     0.542113721370697     </span>│\n",
       "└───────────────────────────┴───────────────────────────┘\n",
       "</pre>\n"
      ],
      "text/plain": [
       "┏━━━━━━━━━━━━━━━━━━━━━━━━━━━┳━━━━━━━━━━━━━━━━━━━━━━━━━━━┓\n",
       "┃\u001b[1m \u001b[0m\u001b[1m       Test metric       \u001b[0m\u001b[1m \u001b[0m┃\u001b[1m \u001b[0m\u001b[1m      DataLoader 0       \u001b[0m\u001b[1m \u001b[0m┃\n",
       "┡━━━━━━━━━━━━━━━━━━━━━━━━━━━╇━━━━━━━━━━━━━━━━━━━━━━━━━━━┩\n",
       "│\u001b[36m \u001b[0m\u001b[36m        test_loss        \u001b[0m\u001b[36m \u001b[0m│\u001b[35m \u001b[0m\u001b[35m    0.542113721370697    \u001b[0m\u001b[35m \u001b[0m│\n",
       "│\u001b[36m \u001b[0m\u001b[36m test_mean_squared_error \u001b[0m\u001b[36m \u001b[0m│\u001b[35m \u001b[0m\u001b[35m    0.542113721370697    \u001b[0m\u001b[35m \u001b[0m│\n",
       "└───────────────────────────┴───────────────────────────┘\n"
      ]
     },
     "metadata": {},
     "output_type": "display_data"
    },
    {
     "data": {
      "text/html": [
       "<pre style=\"white-space:pre;overflow-x:auto;line-height:normal;font-family:Menlo,'DejaVu Sans Mono',consolas,'Courier New',monospace\"></pre>\n"
      ],
      "text/plain": []
     },
     "metadata": {},
     "output_type": "display_data"
    },
    {
     "data": {
      "text/html": [
       "<pre style=\"white-space:pre;overflow-x:auto;line-height:normal;font-family:Menlo,'DejaVu Sans Mono',consolas,'Courier New',monospace\">\n",
       "</pre>\n"
      ],
      "text/plain": [
       "\n"
      ]
     },
     "metadata": {},
     "output_type": "display_data"
    }
   ],
   "source": [
    "result = tabular_model.evaluate(test_tabular)\n"
   ]
  },
  {
   "cell_type": "code",
   "execution_count": 47,
   "metadata": {},
   "outputs": [
    {
     "data": {
      "application/vnd.jupyter.widget-view+json": {
       "model_id": "ff4d75cb74ff4da3b305871b04563ca5",
       "version_major": 2,
       "version_minor": 0
      },
      "text/plain": [
       "Output()"
      ]
     },
     "metadata": {},
     "output_type": "display_data"
    },
    {
     "data": {
      "text/html": [
       "<pre style=\"white-space:pre;overflow-x:auto;line-height:normal;font-family:Menlo,'DejaVu Sans Mono',consolas,'Courier New',monospace\"></pre>\n"
      ],
      "text/plain": []
     },
     "metadata": {},
     "output_type": "display_data"
    },
    {
     "data": {
      "text/html": [
       "<pre style=\"white-space:pre;overflow-x:auto;line-height:normal;font-family:Menlo,'DejaVu Sans Mono',consolas,'Courier New',monospace\">\n",
       "</pre>\n"
      ],
      "text/plain": [
       "\n"
      ]
     },
     "metadata": {},
     "output_type": "display_data"
    },
    {
     "data": {
      "text/html": [
       "<div>\n",
       "<style scoped>\n",
       "    .dataframe tbody tr th:only-of-type {\n",
       "        vertical-align: middle;\n",
       "    }\n",
       "\n",
       "    .dataframe tbody tr th {\n",
       "        vertical-align: top;\n",
       "    }\n",
       "\n",
       "    .dataframe thead th {\n",
       "        text-align: right;\n",
       "    }\n",
       "</style>\n",
       "<table border=\"1\" class=\"dataframe\">\n",
       "  <thead>\n",
       "    <tr style=\"text-align: right;\">\n",
       "      <th></th>\n",
       "      <th>mean_rating</th>\n",
       "      <th>rating_count</th>\n",
       "      <th>mean_timestamp</th>\n",
       "      <th>absurd</th>\n",
       "      <th>action</th>\n",
       "      <th>adaptation</th>\n",
       "      <th>adapted from:book</th>\n",
       "      <th>adventure</th>\n",
       "      <th>affectionate</th>\n",
       "      <th>allegory</th>\n",
       "      <th>...</th>\n",
       "      <th>weapons</th>\n",
       "      <th>weird</th>\n",
       "      <th>whimsical</th>\n",
       "      <th>witty</th>\n",
       "      <th>women</th>\n",
       "      <th>writers</th>\n",
       "      <th>IMAX</th>\n",
       "      <th>Film-Noir</th>\n",
       "      <th>year</th>\n",
       "      <th>mean_rating_prediction</th>\n",
       "    </tr>\n",
       "  </thead>\n",
       "  <tbody>\n",
       "    <tr>\n",
       "      <th>16145</th>\n",
       "      <td>3.000000</td>\n",
       "      <td>10</td>\n",
       "      <td>1453521699</td>\n",
       "      <td>0.00000</td>\n",
       "      <td>0.00000</td>\n",
       "      <td>0.0000</td>\n",
       "      <td>0.00000</td>\n",
       "      <td>0.00000</td>\n",
       "      <td>0.00000</td>\n",
       "      <td>0.00000</td>\n",
       "      <td>...</td>\n",
       "      <td>0.00000</td>\n",
       "      <td>0.000</td>\n",
       "      <td>0.00000</td>\n",
       "      <td>0.00000</td>\n",
       "      <td>0.00000</td>\n",
       "      <td>0.0000</td>\n",
       "      <td>0</td>\n",
       "      <td>0</td>\n",
       "      <td>2007</td>\n",
       "      <td>3.027894</td>\n",
       "    </tr>\n",
       "    <tr>\n",
       "      <th>5205</th>\n",
       "      <td>2.606136</td>\n",
       "      <td>3618</td>\n",
       "      <td>1283445866</td>\n",
       "      <td>0.15325</td>\n",
       "      <td>0.99200</td>\n",
       "      <td>0.3345</td>\n",
       "      <td>0.18125</td>\n",
       "      <td>0.89550</td>\n",
       "      <td>0.07100</td>\n",
       "      <td>0.09475</td>\n",
       "      <td>...</td>\n",
       "      <td>0.45875</td>\n",
       "      <td>0.184</td>\n",
       "      <td>0.13125</td>\n",
       "      <td>0.12475</td>\n",
       "      <td>0.25375</td>\n",
       "      <td>0.2025</td>\n",
       "      <td>0</td>\n",
       "      <td>0</td>\n",
       "      <td>2002</td>\n",
       "      <td>2.763931</td>\n",
       "    </tr>\n",
       "    <tr>\n",
       "      <th>12547</th>\n",
       "      <td>3.170886</td>\n",
       "      <td>79</td>\n",
       "      <td>1423467750</td>\n",
       "      <td>0.09475</td>\n",
       "      <td>0.09425</td>\n",
       "      <td>0.2485</td>\n",
       "      <td>0.31800</td>\n",
       "      <td>0.15025</td>\n",
       "      <td>0.38625</td>\n",
       "      <td>0.27500</td>\n",
       "      <td>...</td>\n",
       "      <td>0.19925</td>\n",
       "      <td>0.339</td>\n",
       "      <td>0.38200</td>\n",
       "      <td>0.20150</td>\n",
       "      <td>0.13425</td>\n",
       "      <td>0.1520</td>\n",
       "      <td>0</td>\n",
       "      <td>0</td>\n",
       "      <td>1968</td>\n",
       "      <td>2.786211</td>\n",
       "    </tr>\n",
       "    <tr>\n",
       "      <th>15268</th>\n",
       "      <td>2.000000</td>\n",
       "      <td>1</td>\n",
       "      <td>1567628155</td>\n",
       "      <td>0.00000</td>\n",
       "      <td>0.00000</td>\n",
       "      <td>0.0000</td>\n",
       "      <td>0.00000</td>\n",
       "      <td>0.00000</td>\n",
       "      <td>0.00000</td>\n",
       "      <td>0.00000</td>\n",
       "      <td>...</td>\n",
       "      <td>0.00000</td>\n",
       "      <td>0.000</td>\n",
       "      <td>0.00000</td>\n",
       "      <td>0.00000</td>\n",
       "      <td>0.00000</td>\n",
       "      <td>0.0000</td>\n",
       "      <td>0</td>\n",
       "      <td>0</td>\n",
       "      <td>2004</td>\n",
       "      <td>3.036146</td>\n",
       "    </tr>\n",
       "    <tr>\n",
       "      <th>54793</th>\n",
       "      <td>3.333333</td>\n",
       "      <td>6</td>\n",
       "      <td>1562130915</td>\n",
       "      <td>0.00000</td>\n",
       "      <td>0.00000</td>\n",
       "      <td>0.0000</td>\n",
       "      <td>0.00000</td>\n",
       "      <td>0.00000</td>\n",
       "      <td>0.00000</td>\n",
       "      <td>0.00000</td>\n",
       "      <td>...</td>\n",
       "      <td>0.00000</td>\n",
       "      <td>0.000</td>\n",
       "      <td>0.00000</td>\n",
       "      <td>0.00000</td>\n",
       "      <td>0.00000</td>\n",
       "      <td>0.0000</td>\n",
       "      <td>0</td>\n",
       "      <td>0</td>\n",
       "      <td>1950</td>\n",
       "      <td>2.982107</td>\n",
       "    </tr>\n",
       "  </tbody>\n",
       "</table>\n",
       "<p>5 rows × 206 columns</p>\n",
       "</div>"
      ],
      "text/plain": [
       "       mean_rating  rating_count  mean_timestamp   absurd   action  \\\n",
       "16145     3.000000            10      1453521699  0.00000  0.00000   \n",
       "5205      2.606136          3618      1283445866  0.15325  0.99200   \n",
       "12547     3.170886            79      1423467750  0.09475  0.09425   \n",
       "15268     2.000000             1      1567628155  0.00000  0.00000   \n",
       "54793     3.333333             6      1562130915  0.00000  0.00000   \n",
       "\n",
       "       adaptation  adapted from:book  adventure  affectionate  allegory  ...  \\\n",
       "16145      0.0000            0.00000    0.00000       0.00000   0.00000  ...   \n",
       "5205       0.3345            0.18125    0.89550       0.07100   0.09475  ...   \n",
       "12547      0.2485            0.31800    0.15025       0.38625   0.27500  ...   \n",
       "15268      0.0000            0.00000    0.00000       0.00000   0.00000  ...   \n",
       "54793      0.0000            0.00000    0.00000       0.00000   0.00000  ...   \n",
       "\n",
       "       weapons  weird  whimsical    witty    women  writers  IMAX  Film-Noir  \\\n",
       "16145  0.00000  0.000    0.00000  0.00000  0.00000   0.0000     0          0   \n",
       "5205   0.45875  0.184    0.13125  0.12475  0.25375   0.2025     0          0   \n",
       "12547  0.19925  0.339    0.38200  0.20150  0.13425   0.1520     0          0   \n",
       "15268  0.00000  0.000    0.00000  0.00000  0.00000   0.0000     0          0   \n",
       "54793  0.00000  0.000    0.00000  0.00000  0.00000   0.0000     0          0   \n",
       "\n",
       "       year  mean_rating_prediction  \n",
       "16145  2007                3.027894  \n",
       "5205   2002                2.763931  \n",
       "12547  1968                2.786211  \n",
       "15268  2004                3.036146  \n",
       "54793  1950                2.982107  \n",
       "\n",
       "[5 rows x 206 columns]"
      ]
     },
     "execution_count": 47,
     "metadata": {},
     "output_type": "execute_result"
    }
   ],
   "source": [
    "pred_df = tabular_model.predict(test_tabular)\n",
    "pred_df.head()\n"
   ]
  },
  {
   "cell_type": "code",
   "execution_count": 48,
   "metadata": {},
   "outputs": [],
   "source": [
    "#print_metrics(test[label], pred_df[\"prediction\"], tag=\"Holdout\")\n"
   ]
  },
  {
   "cell_type": "code",
   "execution_count": 49,
   "metadata": {},
   "outputs": [
    {
     "name": "stderr",
     "output_type": "stream",
     "text": [
      "2023-03-09 15:21:01,451 - {pytorch_tabular.tabular_model:1238} - WARNING - Directory is not empty. Overwriting the contents.\n"
     ]
    }
   ],
   "source": [
    "tabular_model.save_model(\"examples/basic\")\n"
   ]
  },
  {
   "cell_type": "code",
   "execution_count": 50,
   "metadata": {},
   "outputs": [
    {
     "name": "stderr",
     "output_type": "stream",
     "text": [
      "/opt/anaconda3/lib/python3.9/site-packages/pytorch_tabular/models/base_model.py:126: UserWarning: Wandb is not installed. Please install wandb to log logits. You can install wandb using pip install wandb or install PyTorch Tabular using pip install pytorch-tabular[all]\n",
      "  warnings.warn(\n",
      "/opt/anaconda3/lib/python3.9/site-packages/pytorch_tabular/models/base_model.py:132: UserWarning: Plotly is not installed. Please install plotly to log logits. You can install plotly using pip install plotly or install PyTorch Tabular using pip install pytorch-tabular[all]\n",
      "  warnings.warn(\n",
      "2023-03-09 15:21:03,598 - {pytorch_tabular.tabular_model:126} - INFO - Experiment Tracking is turned off\n",
      "2023-03-09 15:21:03,601 - {pytorch_tabular.tabular_model:264} - INFO - Preparing the Trainer\n",
      "Trainer already configured with model summary callbacks: [<class 'pytorch_lightning.callbacks.rich_model_summary.RichModelSummary'>]. Skipping setting a default `ModelSummary` callback.\n",
      "GPU available: False, used: False\n",
      "TPU available: False, using: 0 TPU cores\n",
      "IPU available: False, using: 0 IPUs\n",
      "HPU available: False, using: 0 HPUs\n"
     ]
    }
   ],
   "source": [
    "loaded_model = TabularModel.load_from_checkpoint(\"examples/basic\")\n"
   ]
  },
  {
   "cell_type": "code",
   "execution_count": 51,
   "metadata": {},
   "outputs": [
    {
     "data": {
      "application/vnd.jupyter.widget-view+json": {
       "model_id": "e0d5b06accc9423caa757ebcdb10c487",
       "version_major": 2,
       "version_minor": 0
      },
      "text/plain": [
       "Output()"
      ]
     },
     "metadata": {},
     "output_type": "display_data"
    },
    {
     "name": "stderr",
     "output_type": "stream",
     "text": [
      "/opt/anaconda3/lib/python3.9/site-packages/pytorch_lightning/trainer/connectors/data_connector.py:224: PossibleUserWarning: The dataloader, test_dataloader 0, does not have many workers which may be a bottleneck. Consider increasing the value of the `num_workers` argument` (try 16 which is the number of cpus on this machine) in the `DataLoader` init to improve performance.\n",
      "  rank_zero_warn(\n"
     ]
    },
    {
     "data": {
      "text/html": [
       "<pre style=\"white-space:pre;overflow-x:auto;line-height:normal;font-family:Menlo,'DejaVu Sans Mono',consolas,'Courier New',monospace\">┏━━━━━━━━━━━━━━━━━━━━━━━━━━━┳━━━━━━━━━━━━━━━━━━━━━━━━━━━┓\n",
       "┃<span style=\"font-weight: bold\">        Test metric        </span>┃<span style=\"font-weight: bold\">       DataLoader 0        </span>┃\n",
       "┡━━━━━━━━━━━━━━━━━━━━━━━━━━━╇━━━━━━━━━━━━━━━━━━━━━━━━━━━┩\n",
       "│<span style=\"color: #008080; text-decoration-color: #008080\">         test_loss         </span>│<span style=\"color: #800080; text-decoration-color: #800080\">     0.542113721370697     </span>│\n",
       "│<span style=\"color: #008080; text-decoration-color: #008080\">  test_mean_squared_error  </span>│<span style=\"color: #800080; text-decoration-color: #800080\">     0.542113721370697     </span>│\n",
       "└───────────────────────────┴───────────────────────────┘\n",
       "</pre>\n"
      ],
      "text/plain": [
       "┏━━━━━━━━━━━━━━━━━━━━━━━━━━━┳━━━━━━━━━━━━━━━━━━━━━━━━━━━┓\n",
       "┃\u001b[1m \u001b[0m\u001b[1m       Test metric       \u001b[0m\u001b[1m \u001b[0m┃\u001b[1m \u001b[0m\u001b[1m      DataLoader 0       \u001b[0m\u001b[1m \u001b[0m┃\n",
       "┡━━━━━━━━━━━━━━━━━━━━━━━━━━━╇━━━━━━━━━━━━━━━━━━━━━━━━━━━┩\n",
       "│\u001b[36m \u001b[0m\u001b[36m        test_loss        \u001b[0m\u001b[36m \u001b[0m│\u001b[35m \u001b[0m\u001b[35m    0.542113721370697    \u001b[0m\u001b[35m \u001b[0m│\n",
       "│\u001b[36m \u001b[0m\u001b[36m test_mean_squared_error \u001b[0m\u001b[36m \u001b[0m│\u001b[35m \u001b[0m\u001b[35m    0.542113721370697    \u001b[0m\u001b[35m \u001b[0m│\n",
       "└───────────────────────────┴───────────────────────────┘\n"
      ]
     },
     "metadata": {},
     "output_type": "display_data"
    },
    {
     "data": {
      "text/html": [
       "<pre style=\"white-space:pre;overflow-x:auto;line-height:normal;font-family:Menlo,'DejaVu Sans Mono',consolas,'Courier New',monospace\"></pre>\n"
      ],
      "text/plain": []
     },
     "metadata": {},
     "output_type": "display_data"
    },
    {
     "data": {
      "text/html": [
       "<pre style=\"white-space:pre;overflow-x:auto;line-height:normal;font-family:Menlo,'DejaVu Sans Mono',consolas,'Courier New',monospace\">\n",
       "</pre>\n"
      ],
      "text/plain": [
       "\n"
      ]
     },
     "metadata": {},
     "output_type": "display_data"
    }
   ],
   "source": [
    "result = loaded_model.evaluate(test_tabular)\n"
   ]
  },
  {
   "cell_type": "code",
   "execution_count": null,
   "metadata": {},
   "outputs": [],
   "source": []
  }
 ],
 "metadata": {
  "kernelspec": {
   "display_name": ".venv",
   "language": "python",
   "name": "python3"
  },
  "language_info": {
   "codemirror_mode": {
    "name": "ipython",
    "version": 3
   },
   "file_extension": ".py",
   "mimetype": "text/x-python",
   "name": "python",
   "nbconvert_exporter": "python",
   "pygments_lexer": "ipython3",
   "version": "3.9.16"
  },
  "orig_nbformat": 4,
  "vscode": {
   "interpreter": {
    "hash": "ce5a35b82e3a4a7572376ce546f2ed9882e8aef9bb5481274d0fa465e4956b41"
   }
  }
 },
 "nbformat": 4,
 "nbformat_minor": 2
}
