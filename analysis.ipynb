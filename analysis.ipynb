{
 "cells": [
  {
   "cell_type": "code",
   "execution_count": 253,
   "metadata": {},
   "outputs": [],
   "source": [
    "import pandas as pd\n",
    "import matplotlib.pyplot as plt\n",
    "import seaborn as sns\n",
    "import numpy as np\n",
    "import torch\n",
    "from sklearn.model_selection import train_test_split\n",
    "from sklearn import tree\n"
   ]
  },
  {
   "attachments": {},
   "cell_type": "markdown",
   "metadata": {},
   "source": [
    "## Data Acquisition\n",
    "##### Flat Acquisition using csv files"
   ]
  },
  {
   "cell_type": "code",
   "execution_count": 254,
   "metadata": {},
   "outputs": [],
   "source": [
    "movies = pd.read_csv('./data/movies.csv')\n",
    "# genome_scores = pd.read_csv('./data/genome-scores.csv')\n",
    "# genome_tags = pd.read_csv('./data/genome-tags.csv')\n",
    "ratings = pd.read_csv('./data/ratings.csv')\n",
    "tags = pd.read_csv('./data/tags.csv')"
   ]
  },
  {
   "cell_type": "code",
   "execution_count": 255,
   "metadata": {},
   "outputs": [
    {
     "data": {
      "text/html": [
       "<div>\n",
       "<style scoped>\n",
       "    .dataframe tbody tr th:only-of-type {\n",
       "        vertical-align: middle;\n",
       "    }\n",
       "\n",
       "    .dataframe tbody tr th {\n",
       "        vertical-align: top;\n",
       "    }\n",
       "\n",
       "    .dataframe thead th {\n",
       "        text-align: right;\n",
       "    }\n",
       "</style>\n",
       "<table border=\"1\" class=\"dataframe\">\n",
       "  <thead>\n",
       "    <tr style=\"text-align: right;\">\n",
       "      <th></th>\n",
       "      <th>movieId</th>\n",
       "      <th>title</th>\n",
       "      <th>genres</th>\n",
       "    </tr>\n",
       "  </thead>\n",
       "  <tbody>\n",
       "    <tr>\n",
       "      <th>0</th>\n",
       "      <td>1</td>\n",
       "      <td>Toy Story (1995)</td>\n",
       "      <td>Adventure|Animation|Children|Comedy|Fantasy</td>\n",
       "    </tr>\n",
       "    <tr>\n",
       "      <th>1</th>\n",
       "      <td>2</td>\n",
       "      <td>Jumanji (1995)</td>\n",
       "      <td>Adventure|Children|Fantasy</td>\n",
       "    </tr>\n",
       "    <tr>\n",
       "      <th>2</th>\n",
       "      <td>3</td>\n",
       "      <td>Grumpier Old Men (1995)</td>\n",
       "      <td>Comedy|Romance</td>\n",
       "    </tr>\n",
       "    <tr>\n",
       "      <th>3</th>\n",
       "      <td>4</td>\n",
       "      <td>Waiting to Exhale (1995)</td>\n",
       "      <td>Comedy|Drama|Romance</td>\n",
       "    </tr>\n",
       "    <tr>\n",
       "      <th>4</th>\n",
       "      <td>5</td>\n",
       "      <td>Father of the Bride Part II (1995)</td>\n",
       "      <td>Comedy</td>\n",
       "    </tr>\n",
       "  </tbody>\n",
       "</table>\n",
       "</div>"
      ],
      "text/plain": [
       "   movieId                               title  \\\n",
       "0        1                    Toy Story (1995)   \n",
       "1        2                      Jumanji (1995)   \n",
       "2        3             Grumpier Old Men (1995)   \n",
       "3        4            Waiting to Exhale (1995)   \n",
       "4        5  Father of the Bride Part II (1995)   \n",
       "\n",
       "                                        genres  \n",
       "0  Adventure|Animation|Children|Comedy|Fantasy  \n",
       "1                   Adventure|Children|Fantasy  \n",
       "2                               Comedy|Romance  \n",
       "3                         Comedy|Drama|Romance  \n",
       "4                                       Comedy  "
      ]
     },
     "metadata": {},
     "output_type": "display_data"
    },
    {
     "data": {
      "text/html": [
       "<div>\n",
       "<style scoped>\n",
       "    .dataframe tbody tr th:only-of-type {\n",
       "        vertical-align: middle;\n",
       "    }\n",
       "\n",
       "    .dataframe tbody tr th {\n",
       "        vertical-align: top;\n",
       "    }\n",
       "\n",
       "    .dataframe thead th {\n",
       "        text-align: right;\n",
       "    }\n",
       "</style>\n",
       "<table border=\"1\" class=\"dataframe\">\n",
       "  <thead>\n",
       "    <tr style=\"text-align: right;\">\n",
       "      <th></th>\n",
       "      <th>userId</th>\n",
       "      <th>movieId</th>\n",
       "      <th>rating</th>\n",
       "      <th>timestamp</th>\n",
       "    </tr>\n",
       "  </thead>\n",
       "  <tbody>\n",
       "    <tr>\n",
       "      <th>0</th>\n",
       "      <td>1</td>\n",
       "      <td>296</td>\n",
       "      <td>5.0</td>\n",
       "      <td>1147880044</td>\n",
       "    </tr>\n",
       "    <tr>\n",
       "      <th>1</th>\n",
       "      <td>1</td>\n",
       "      <td>306</td>\n",
       "      <td>3.5</td>\n",
       "      <td>1147868817</td>\n",
       "    </tr>\n",
       "    <tr>\n",
       "      <th>2</th>\n",
       "      <td>1</td>\n",
       "      <td>307</td>\n",
       "      <td>5.0</td>\n",
       "      <td>1147868828</td>\n",
       "    </tr>\n",
       "    <tr>\n",
       "      <th>3</th>\n",
       "      <td>1</td>\n",
       "      <td>665</td>\n",
       "      <td>5.0</td>\n",
       "      <td>1147878820</td>\n",
       "    </tr>\n",
       "    <tr>\n",
       "      <th>4</th>\n",
       "      <td>1</td>\n",
       "      <td>899</td>\n",
       "      <td>3.5</td>\n",
       "      <td>1147868510</td>\n",
       "    </tr>\n",
       "  </tbody>\n",
       "</table>\n",
       "</div>"
      ],
      "text/plain": [
       "   userId  movieId  rating   timestamp\n",
       "0       1      296     5.0  1147880044\n",
       "1       1      306     3.5  1147868817\n",
       "2       1      307     5.0  1147868828\n",
       "3       1      665     5.0  1147878820\n",
       "4       1      899     3.5  1147868510"
      ]
     },
     "metadata": {},
     "output_type": "display_data"
    },
    {
     "data": {
      "text/html": [
       "<div>\n",
       "<style scoped>\n",
       "    .dataframe tbody tr th:only-of-type {\n",
       "        vertical-align: middle;\n",
       "    }\n",
       "\n",
       "    .dataframe tbody tr th {\n",
       "        vertical-align: top;\n",
       "    }\n",
       "\n",
       "    .dataframe thead th {\n",
       "        text-align: right;\n",
       "    }\n",
       "</style>\n",
       "<table border=\"1\" class=\"dataframe\">\n",
       "  <thead>\n",
       "    <tr style=\"text-align: right;\">\n",
       "      <th></th>\n",
       "      <th>userId</th>\n",
       "      <th>movieId</th>\n",
       "      <th>tag</th>\n",
       "      <th>timestamp</th>\n",
       "    </tr>\n",
       "  </thead>\n",
       "  <tbody>\n",
       "    <tr>\n",
       "      <th>0</th>\n",
       "      <td>3</td>\n",
       "      <td>260</td>\n",
       "      <td>classic</td>\n",
       "      <td>1439472355</td>\n",
       "    </tr>\n",
       "    <tr>\n",
       "      <th>1</th>\n",
       "      <td>3</td>\n",
       "      <td>260</td>\n",
       "      <td>sci-fi</td>\n",
       "      <td>1439472256</td>\n",
       "    </tr>\n",
       "    <tr>\n",
       "      <th>2</th>\n",
       "      <td>4</td>\n",
       "      <td>1732</td>\n",
       "      <td>dark comedy</td>\n",
       "      <td>1573943598</td>\n",
       "    </tr>\n",
       "    <tr>\n",
       "      <th>3</th>\n",
       "      <td>4</td>\n",
       "      <td>1732</td>\n",
       "      <td>great dialogue</td>\n",
       "      <td>1573943604</td>\n",
       "    </tr>\n",
       "    <tr>\n",
       "      <th>4</th>\n",
       "      <td>4</td>\n",
       "      <td>7569</td>\n",
       "      <td>so bad it's good</td>\n",
       "      <td>1573943455</td>\n",
       "    </tr>\n",
       "  </tbody>\n",
       "</table>\n",
       "</div>"
      ],
      "text/plain": [
       "   userId  movieId               tag   timestamp\n",
       "0       3      260           classic  1439472355\n",
       "1       3      260            sci-fi  1439472256\n",
       "2       4     1732       dark comedy  1573943598\n",
       "3       4     1732    great dialogue  1573943604\n",
       "4       4     7569  so bad it's good  1573943455"
      ]
     },
     "metadata": {},
     "output_type": "display_data"
    }
   ],
   "source": [
    "# print the first 5 rows of the movies, ratings, and tags dataframes\n",
    "display(movies.head())\n",
    "display(ratings.head())\n",
    "display(tags.head())"
   ]
  },
  {
   "cell_type": "code",
   "execution_count": 256,
   "metadata": {},
   "outputs": [
    {
     "data": {
      "text/plain": [
       "\" # show scatter plot of rating\\nfig, ax = plt.subplots(figsize=(5, 5))\\nsns.scatterplot(y='rating', x='movieId', data=ratings, ax=ax)\\nplt.show() \""
      ]
     },
     "execution_count": 256,
     "metadata": {},
     "output_type": "execute_result"
    }
   ],
   "source": [
    "\"\"\" # show scatter plot of rating\n",
    "fig, ax = plt.subplots(figsize=(5, 5))\n",
    "sns.scatterplot(y='rating', x='movieId', data=ratings, ax=ax)\n",
    "plt.show() \"\"\""
   ]
  },
  {
   "cell_type": "code",
   "execution_count": 257,
   "metadata": {},
   "outputs": [
    {
     "data": {
      "text/plain": [
       "\" # show scatter plot of rating\\nfig, ax = plt.subplots(figsize=(5, 5))\\nsns.scatterplot(y='timestamp', x='movieId', data=ratings, ax=ax)\\nplt.show() \""
      ]
     },
     "execution_count": 257,
     "metadata": {},
     "output_type": "execute_result"
    }
   ],
   "source": [
    "\"\"\" # show scatter plot of rating\n",
    "fig, ax = plt.subplots(figsize=(5, 5))\n",
    "sns.scatterplot(y='timestamp', x='movieId', data=ratings, ax=ax)\n",
    "plt.show() \"\"\""
   ]
  },
  {
   "cell_type": "code",
   "execution_count": 258,
   "metadata": {},
   "outputs": [
    {
     "data": {
      "text/plain": [
       "\" # show scatter plot of rating\\nfig, ax = plt.subplots(figsize=(5, 5))\\nsns.scatterplot(y='timestamp', x='movieId', data=tags, ax=ax)\\nplt.show() \""
      ]
     },
     "execution_count": 258,
     "metadata": {},
     "output_type": "execute_result"
    }
   ],
   "source": [
    "\"\"\" # show scatter plot of rating\n",
    "fig, ax = plt.subplots(figsize=(5, 5))\n",
    "sns.scatterplot(y='timestamp', x='movieId', data=tags, ax=ax)\n",
    "plt.show() \"\"\""
   ]
  },
  {
   "attachments": {},
   "cell_type": "markdown",
   "metadata": {},
   "source": [
    "### Data Wrangling"
   ]
  },
  {
   "cell_type": "code",
   "execution_count": 259,
   "metadata": {},
   "outputs": [
    {
     "data": {
      "text/html": [
       "<div>\n",
       "<style scoped>\n",
       "    .dataframe tbody tr th:only-of-type {\n",
       "        vertical-align: middle;\n",
       "    }\n",
       "\n",
       "    .dataframe tbody tr th {\n",
       "        vertical-align: top;\n",
       "    }\n",
       "\n",
       "    .dataframe thead th {\n",
       "        text-align: right;\n",
       "    }\n",
       "</style>\n",
       "<table border=\"1\" class=\"dataframe\">\n",
       "  <thead>\n",
       "    <tr style=\"text-align: right;\">\n",
       "      <th></th>\n",
       "      <th>movieId</th>\n",
       "      <th>title</th>\n",
       "      <th>genres</th>\n",
       "      <th>mean_rating</th>\n",
       "      <th>rating_count</th>\n",
       "      <th>mean_timestamp</th>\n",
       "      <th>tag</th>\n",
       "    </tr>\n",
       "  </thead>\n",
       "  <tbody>\n",
       "    <tr>\n",
       "      <th>0</th>\n",
       "      <td>1</td>\n",
       "      <td>Toy Story (1995)</td>\n",
       "      <td>Adventure|Animation|Children|Comedy|Fantasy</td>\n",
       "      <td>3.893708</td>\n",
       "      <td>57309</td>\n",
       "      <td>1153152210</td>\n",
       "      <td>[jealousy, mission, fantasy, unny, friends, fu...</td>\n",
       "    </tr>\n",
       "    <tr>\n",
       "      <th>1</th>\n",
       "      <td>2</td>\n",
       "      <td>Jumanji (1995)</td>\n",
       "      <td>Adventure|Children|Fantasy</td>\n",
       "      <td>3.251527</td>\n",
       "      <td>24228</td>\n",
       "      <td>1122310117</td>\n",
       "      <td>[see also:Zathura, fantasy, kids, Kirsten Duns...</td>\n",
       "    </tr>\n",
       "    <tr>\n",
       "      <th>2</th>\n",
       "      <td>3</td>\n",
       "      <td>Grumpier Old Men (1995)</td>\n",
       "      <td>Comedy|Romance</td>\n",
       "      <td>3.142028</td>\n",
       "      <td>11804</td>\n",
       "      <td>980602256</td>\n",
       "      <td>[best friend, moldy, Jack Lemmon, fishing, NO_...</td>\n",
       "    </tr>\n",
       "    <tr>\n",
       "      <th>3</th>\n",
       "      <td>4</td>\n",
       "      <td>Waiting to Exhale (1995)</td>\n",
       "      <td>Comedy|Drama|Romance</td>\n",
       "      <td>2.853547</td>\n",
       "      <td>2523</td>\n",
       "      <td>942460471</td>\n",
       "      <td>[based on novel or book, interracial relations...</td>\n",
       "    </tr>\n",
       "    <tr>\n",
       "      <th>4</th>\n",
       "      <td>5</td>\n",
       "      <td>Father of the Bride Part II (1995)</td>\n",
       "      <td>Comedy</td>\n",
       "      <td>3.058434</td>\n",
       "      <td>11714</td>\n",
       "      <td>1004723013</td>\n",
       "      <td>[daughter, Comedy, family, gynecologist, aging...</td>\n",
       "    </tr>\n",
       "  </tbody>\n",
       "</table>\n",
       "</div>"
      ],
      "text/plain": [
       "   movieId                               title  \\\n",
       "0        1                    Toy Story (1995)   \n",
       "1        2                      Jumanji (1995)   \n",
       "2        3             Grumpier Old Men (1995)   \n",
       "3        4            Waiting to Exhale (1995)   \n",
       "4        5  Father of the Bride Part II (1995)   \n",
       "\n",
       "                                        genres  mean_rating  rating_count  \\\n",
       "0  Adventure|Animation|Children|Comedy|Fantasy     3.893708         57309   \n",
       "1                   Adventure|Children|Fantasy     3.251527         24228   \n",
       "2                               Comedy|Romance     3.142028         11804   \n",
       "3                         Comedy|Drama|Romance     2.853547          2523   \n",
       "4                                       Comedy     3.058434         11714   \n",
       "\n",
       "   mean_timestamp                                                tag  \n",
       "0      1153152210  [jealousy, mission, fantasy, unny, friends, fu...  \n",
       "1      1122310117  [see also:Zathura, fantasy, kids, Kirsten Duns...  \n",
       "2       980602256  [best friend, moldy, Jack Lemmon, fishing, NO_...  \n",
       "3       942460471  [based on novel or book, interracial relations...  \n",
       "4      1004723013  [daughter, Comedy, family, gynecologist, aging...  "
      ]
     },
     "metadata": {},
     "output_type": "display_data"
    }
   ],
   "source": [
    "grouped_ratings = ratings.groupby('movieId').agg({'rating': ['mean', 'count'], 'timestamp': ['mean']})\n",
    "grouped_ratings.columns = ['mean_rating', 'rating_count', 'mean_timestamp']\n",
    "grouped_ratings = grouped_ratings.astype({'mean_timestamp': 'int'})\n",
    "\n",
    "# Merge dei dataset movies e ratings\n",
    "# rimuove i film che non hanno rating\n",
    "movies_ratings = pd.merge(movies, grouped_ratings, on='movieId')\n",
    "\n",
    "# mantiene i duplicati, per rimuoverli usare .apply[set, list]\n",
    "# tags.groupby('movieId')['tag'].apply(set)\n",
    "new_tags = tags.groupby('movieId')['tag'].apply(set).apply(list)\n",
    "\n",
    "df = pd.merge(movies_ratings, new_tags, on='movieId')\n",
    "\n",
    "display(df.head())\n"
   ]
  },
  {
   "attachments": {},
   "cell_type": "markdown",
   "metadata": {},
   "source": [
    "### Data Preparation (Data cleaning, Duplicates filtering, Data encoding)"
   ]
  },
  {
   "attachments": {},
   "cell_type": "markdown",
   "metadata": {},
   "source": [
    "##### Data Cleaning\n",
    "The following results show that there are no NaN values in the dataset."
   ]
  },
  {
   "cell_type": "code",
   "execution_count": 260,
   "metadata": {},
   "outputs": [
    {
     "name": "stdout",
     "output_type": "stream",
     "text": [
      "Number of rows:  41875\n",
      "Number of rows after dropping missing values:  41875\n"
     ]
    }
   ],
   "source": [
    "# print number of rows\n",
    "print('Number of rows: ', df.shape[0])\n",
    "\n",
    "# drop rows with missing values\n",
    "df = df.dropna()\n",
    "\n",
    "# print number of rows after dropping missing values\n",
    "print('Number of rows after dropping missing values: ', df.shape[0])\n"
   ]
  },
  {
   "attachments": {},
   "cell_type": "markdown",
   "metadata": {},
   "source": [
    "##### Data Encoding\n",
    "Multicategorical One-Hot encoding for film genres"
   ]
  },
  {
   "cell_type": "code",
   "execution_count": 261,
   "metadata": {},
   "outputs": [
    {
     "data": {
      "text/html": [
       "<div>\n",
       "<style scoped>\n",
       "    .dataframe tbody tr th:only-of-type {\n",
       "        vertical-align: middle;\n",
       "    }\n",
       "\n",
       "    .dataframe tbody tr th {\n",
       "        vertical-align: top;\n",
       "    }\n",
       "\n",
       "    .dataframe thead th {\n",
       "        text-align: right;\n",
       "    }\n",
       "</style>\n",
       "<table border=\"1\" class=\"dataframe\">\n",
       "  <thead>\n",
       "    <tr style=\"text-align: right;\">\n",
       "      <th></th>\n",
       "      <th>movieId</th>\n",
       "      <th>title</th>\n",
       "      <th>mean_rating</th>\n",
       "      <th>rating_count</th>\n",
       "      <th>mean_timestamp</th>\n",
       "      <th>tag</th>\n",
       "      <th>War</th>\n",
       "      <th>Documentary</th>\n",
       "      <th>Action</th>\n",
       "      <th>Children</th>\n",
       "      <th>...</th>\n",
       "      <th>IMAX</th>\n",
       "      <th>Romance</th>\n",
       "      <th>Mystery</th>\n",
       "      <th>Film-Noir</th>\n",
       "      <th>Musical</th>\n",
       "      <th>Crime</th>\n",
       "      <th>Fantasy</th>\n",
       "      <th>Drama</th>\n",
       "      <th>Western</th>\n",
       "      <th>Animation</th>\n",
       "    </tr>\n",
       "  </thead>\n",
       "  <tbody>\n",
       "    <tr>\n",
       "      <th>0</th>\n",
       "      <td>1</td>\n",
       "      <td>Toy Story (1995)</td>\n",
       "      <td>3.893708</td>\n",
       "      <td>57309</td>\n",
       "      <td>1153152210</td>\n",
       "      <td>[jealousy, mission, fantasy, unny, friends, fu...</td>\n",
       "      <td>0</td>\n",
       "      <td>0</td>\n",
       "      <td>0</td>\n",
       "      <td>1</td>\n",
       "      <td>...</td>\n",
       "      <td>0</td>\n",
       "      <td>0</td>\n",
       "      <td>0</td>\n",
       "      <td>0</td>\n",
       "      <td>0</td>\n",
       "      <td>0</td>\n",
       "      <td>1</td>\n",
       "      <td>0</td>\n",
       "      <td>0</td>\n",
       "      <td>1</td>\n",
       "    </tr>\n",
       "    <tr>\n",
       "      <th>1</th>\n",
       "      <td>2</td>\n",
       "      <td>Jumanji (1995)</td>\n",
       "      <td>3.251527</td>\n",
       "      <td>24228</td>\n",
       "      <td>1122310117</td>\n",
       "      <td>[see also:Zathura, fantasy, kids, Kirsten Duns...</td>\n",
       "      <td>0</td>\n",
       "      <td>0</td>\n",
       "      <td>0</td>\n",
       "      <td>1</td>\n",
       "      <td>...</td>\n",
       "      <td>0</td>\n",
       "      <td>0</td>\n",
       "      <td>0</td>\n",
       "      <td>0</td>\n",
       "      <td>0</td>\n",
       "      <td>0</td>\n",
       "      <td>1</td>\n",
       "      <td>0</td>\n",
       "      <td>0</td>\n",
       "      <td>0</td>\n",
       "    </tr>\n",
       "    <tr>\n",
       "      <th>2</th>\n",
       "      <td>3</td>\n",
       "      <td>Grumpier Old Men (1995)</td>\n",
       "      <td>3.142028</td>\n",
       "      <td>11804</td>\n",
       "      <td>980602256</td>\n",
       "      <td>[best friend, moldy, Jack Lemmon, fishing, NO_...</td>\n",
       "      <td>0</td>\n",
       "      <td>0</td>\n",
       "      <td>0</td>\n",
       "      <td>0</td>\n",
       "      <td>...</td>\n",
       "      <td>0</td>\n",
       "      <td>1</td>\n",
       "      <td>0</td>\n",
       "      <td>0</td>\n",
       "      <td>0</td>\n",
       "      <td>0</td>\n",
       "      <td>0</td>\n",
       "      <td>0</td>\n",
       "      <td>0</td>\n",
       "      <td>0</td>\n",
       "    </tr>\n",
       "    <tr>\n",
       "      <th>3</th>\n",
       "      <td>4</td>\n",
       "      <td>Waiting to Exhale (1995)</td>\n",
       "      <td>2.853547</td>\n",
       "      <td>2523</td>\n",
       "      <td>942460471</td>\n",
       "      <td>[based on novel or book, interracial relations...</td>\n",
       "      <td>0</td>\n",
       "      <td>0</td>\n",
       "      <td>0</td>\n",
       "      <td>0</td>\n",
       "      <td>...</td>\n",
       "      <td>0</td>\n",
       "      <td>1</td>\n",
       "      <td>0</td>\n",
       "      <td>0</td>\n",
       "      <td>0</td>\n",
       "      <td>0</td>\n",
       "      <td>0</td>\n",
       "      <td>1</td>\n",
       "      <td>0</td>\n",
       "      <td>0</td>\n",
       "    </tr>\n",
       "    <tr>\n",
       "      <th>4</th>\n",
       "      <td>5</td>\n",
       "      <td>Father of the Bride Part II (1995)</td>\n",
       "      <td>3.058434</td>\n",
       "      <td>11714</td>\n",
       "      <td>1004723013</td>\n",
       "      <td>[daughter, Comedy, family, gynecologist, aging...</td>\n",
       "      <td>0</td>\n",
       "      <td>0</td>\n",
       "      <td>0</td>\n",
       "      <td>0</td>\n",
       "      <td>...</td>\n",
       "      <td>0</td>\n",
       "      <td>0</td>\n",
       "      <td>0</td>\n",
       "      <td>0</td>\n",
       "      <td>0</td>\n",
       "      <td>0</td>\n",
       "      <td>0</td>\n",
       "      <td>0</td>\n",
       "      <td>0</td>\n",
       "      <td>0</td>\n",
       "    </tr>\n",
       "  </tbody>\n",
       "</table>\n",
       "<p>5 rows × 25 columns</p>\n",
       "</div>"
      ],
      "text/plain": [
       "   movieId                               title  mean_rating  rating_count  \\\n",
       "0        1                    Toy Story (1995)     3.893708         57309   \n",
       "1        2                      Jumanji (1995)     3.251527         24228   \n",
       "2        3             Grumpier Old Men (1995)     3.142028         11804   \n",
       "3        4            Waiting to Exhale (1995)     2.853547          2523   \n",
       "4        5  Father of the Bride Part II (1995)     3.058434         11714   \n",
       "\n",
       "   mean_timestamp                                                tag  War  \\\n",
       "0      1153152210  [jealousy, mission, fantasy, unny, friends, fu...    0   \n",
       "1      1122310117  [see also:Zathura, fantasy, kids, Kirsten Duns...    0   \n",
       "2       980602256  [best friend, moldy, Jack Lemmon, fishing, NO_...    0   \n",
       "3       942460471  [based on novel or book, interracial relations...    0   \n",
       "4      1004723013  [daughter, Comedy, family, gynecologist, aging...    0   \n",
       "\n",
       "   Documentary  Action  Children  ...  IMAX  Romance  Mystery  Film-Noir  \\\n",
       "0            0       0         1  ...     0        0        0          0   \n",
       "1            0       0         1  ...     0        0        0          0   \n",
       "2            0       0         0  ...     0        1        0          0   \n",
       "3            0       0         0  ...     0        1        0          0   \n",
       "4            0       0         0  ...     0        0        0          0   \n",
       "\n",
       "   Musical  Crime  Fantasy  Drama  Western  Animation  \n",
       "0        0      0        1      0        0          1  \n",
       "1        0      0        1      0        0          0  \n",
       "2        0      0        0      0        0          0  \n",
       "3        0      0        0      1        0          0  \n",
       "4        0      0        0      0        0          0  \n",
       "\n",
       "[5 rows x 25 columns]"
      ]
     },
     "metadata": {},
     "output_type": "display_data"
    }
   ],
   "source": [
    "# one hot encoding for genres\n",
    "# print every category in movies dataset\n",
    "categories = set()\n",
    "for s in df['genres'].str.split('|').values:\n",
    "    categories = categories.union(set(s))\n",
    "\n",
    "# remove (no genres listed) from categories\n",
    "categories.remove('(no genres listed)')\n",
    "\n",
    "# add columns for each category\n",
    "for category in categories:\n",
    "    df[category] = df['genres'].str.contains(category).astype(int)\n",
    "\n",
    "# delete genres column\n",
    "df = df.drop(columns=['genres'])\n",
    "\n",
    "display(df.head())"
   ]
  },
  {
   "attachments": {},
   "cell_type": "markdown",
   "metadata": {},
   "source": [
    "##### Duplicates Filtering\n",
    "The following results show that there are no duplicates in the dataset (as expected after merge operation)."
   ]
  },
  {
   "cell_type": "code",
   "execution_count": 262,
   "metadata": {},
   "outputs": [
    {
     "name": "stdout",
     "output_type": "stream",
     "text": [
      "Number of rows:  41875\n",
      "Number of rows after dropping duplicated rows:  41875\n"
     ]
    }
   ],
   "source": [
    "df = df.copy()\n",
    "\n",
    "# drop tag column TODO: find a way to use tag\n",
    "df = df.drop(columns=['tag'])\n",
    "\n",
    "# print number of rows\n",
    "print('Number of rows: ', df.shape[0])\n",
    "\n",
    "# drop duplicated rows\n",
    "df = df.drop_duplicates()\n",
    "\n",
    "# print number of rows after dropping missing values\n",
    "print('Number of rows after dropping duplicated rows: ', df.shape[0])\n"
   ]
  },
  {
   "attachments": {},
   "cell_type": "markdown",
   "metadata": {},
   "source": [
    "## Data Visualization"
   ]
  },
  {
   "cell_type": "code",
   "execution_count": 263,
   "metadata": {},
   "outputs": [
    {
     "data": {
      "text/plain": [
       "\" # rating distribution from ratings.csv\\nsns.countplot(x='rating', data=ratings)\\nplt.show()\\n\\nsns.boxplot(x='rating', data=ratings)\\nplt.show() \""
      ]
     },
     "execution_count": 263,
     "metadata": {},
     "output_type": "execute_result"
    }
   ],
   "source": [
    "\"\"\" # rating distribution from ratings.csv\n",
    "sns.countplot(x='rating', data=ratings)\n",
    "plt.show()\n",
    "\n",
    "sns.boxplot(x='rating', data=ratings)\n",
    "plt.show() \"\"\""
   ]
  },
  {
   "attachments": {},
   "cell_type": "markdown",
   "metadata": {},
   "source": [
    "Rather than using discrete bins, a KDE plot smooths the observations with a Gaussian kernel, producing a continuous density estimate. This is used for continuous attributes like rating mean.\n",
    "\n",
    "It is done to show differences after data aggregation in calculating mean for each film."
   ]
  },
  {
   "cell_type": "code",
   "execution_count": 264,
   "metadata": {},
   "outputs": [
    {
     "data": {
      "text/plain": [
       "\" # rating distribution from df\\nsns.kdeplot(df['mean_rating'])\\nplt.xlabel('rating mean for film')\\nplt.title('Rating distribution in dataframe')\\nplt.show() \""
      ]
     },
     "execution_count": 264,
     "metadata": {},
     "output_type": "execute_result"
    }
   ],
   "source": [
    "\"\"\" # rating distribution from df\n",
    "sns.kdeplot(df['mean_rating'])\n",
    "plt.xlabel('rating mean for film')\n",
    "plt.title('Rating distribution in dataframe')\n",
    "plt.show() \"\"\""
   ]
  },
  {
   "attachments": {},
   "cell_type": "markdown",
   "metadata": {},
   "source": [
    "Observing the distribution of all attributes for every file.\n",
    "\n",
    "This is useful to show data trends, to reveal outliers and leverage points, to provide hints about modeling techniques to apply.\n"
   ]
  },
  {
   "cell_type": "code",
   "execution_count": 265,
   "metadata": {},
   "outputs": [
    {
     "data": {
      "text/plain": [
       "\" # print distribution for ratings\\nfig, axs = plt.subplots(3)\\nsns.kdeplot(ratings['timestamp'], ax=axs[0], color='r', label='timestamp')\\nsns.kdeplot(ratings['rating'], ax=axs[1], color='b', label='rating')\\nsns.kdeplot(ratings['movieId'], ax=axs[2], color='g', label='movieId')\\n\\naxs[0].set_xlabel('timestamp')\\naxs[1].set_xlabel('rating')\\naxs[2].set_xlabel('movieId')\\nplt.show() \""
      ]
     },
     "execution_count": 265,
     "metadata": {},
     "output_type": "execute_result"
    }
   ],
   "source": [
    "\"\"\" # print distribution for ratings\n",
    "fig, axs = plt.subplots(3)\n",
    "sns.kdeplot(ratings['timestamp'], ax=axs[0], color='r', label='timestamp')\n",
    "sns.kdeplot(ratings['rating'], ax=axs[1], color='b', label='rating')\n",
    "sns.kdeplot(ratings['movieId'], ax=axs[2], color='g', label='movieId')\n",
    "\n",
    "axs[0].set_xlabel('timestamp')\n",
    "axs[1].set_xlabel('rating')\n",
    "axs[2].set_xlabel('movieId')\n",
    "plt.show() \"\"\""
   ]
  },
  {
   "cell_type": "code",
   "execution_count": 266,
   "metadata": {},
   "outputs": [
    {
     "data": {
      "text/plain": [
       "' movies_to_show = 5\\nfig, axs = plt.subplots(movies_to_show, sharex=True, sharey=True, figsize=(10, 10))\\n\\nmost_rated_movies = ratings.groupby(\\'movieId\\').count().sort_values(\\'rating\\', ascending=False).head(movies_to_show).index\\n\\nto_line_plot = []\\nfor i in range(movies_to_show):\\n    tmp = ratings.where(ratings[\\'movieId\\'] == most_rated_movies[i]).dropna()\\n    tmp[\\'date\\'] = pd.to_datetime(tmp[\\'timestamp\\'], unit=\\'s\\')\\n    \\n    # Computing the mean for each month\\n    tmp = tmp.resample(\"M\", on=\\'date\\').mean()[[\\'movieId\\', \\'rating\\']].dropna()\\n    to_line_plot.append(tmp)\\n    movie_title = movies.where(movies[\\'movieId\\'] == most_rated_movies[i]).dropna()[\\'title\\'].values[0]\\n    axs[i].set_title(\"Movie: \\'\" + movie_title + \"\\'\")\\n    \\n\\nfor i in range(movies_to_show):\\n    sns.lineplot(x=\\'date\\', y=\\'rating\\', ax=axs[i], data=to_line_plot[i])\\n\\nfig.suptitle(\\'Rating evolution for the 5 most rated movies\\')\\nplt.show() '"
      ]
     },
     "execution_count": 266,
     "metadata": {},
     "output_type": "execute_result"
    }
   ],
   "source": [
    "\"\"\" movies_to_show = 5\n",
    "fig, axs = plt.subplots(movies_to_show, sharex=True, sharey=True, figsize=(10, 10))\n",
    "\n",
    "most_rated_movies = ratings.groupby('movieId').count().sort_values('rating', ascending=False).head(movies_to_show).index\n",
    "\n",
    "to_line_plot = []\n",
    "for i in range(movies_to_show):\n",
    "    tmp = ratings.where(ratings['movieId'] == most_rated_movies[i]).dropna()\n",
    "    tmp['date'] = pd.to_datetime(tmp['timestamp'], unit='s')\n",
    "    \n",
    "    # Computing the mean for each month\n",
    "    tmp = tmp.resample(\"M\", on='date').mean()[['movieId', 'rating']].dropna()\n",
    "    to_line_plot.append(tmp)\n",
    "    movie_title = movies.where(movies['movieId'] == most_rated_movies[i]).dropna()['title'].values[0]\n",
    "    axs[i].set_title(\"Movie: '\" + movie_title + \"'\")\n",
    "    \n",
    "\n",
    "for i in range(movies_to_show):\n",
    "    sns.lineplot(x='date', y='rating', ax=axs[i], data=to_line_plot[i])\n",
    "\n",
    "fig.suptitle('Rating evolution for the 5 most rated movies')\n",
    "plt.show() \"\"\""
   ]
  },
  {
   "cell_type": "code",
   "execution_count": 267,
   "metadata": {},
   "outputs": [
    {
     "data": {
      "text/plain": [
       "' # Same as above cell but the 3 movies with the highest standard deviation\\nmovies_to_show = 3\\nfig, axs = plt.subplots(movies_to_show, sharex=True, sharey=True, figsize=(10, 10))\\n\\n# Take movies with at least 1000 ratings\\nhigh_std_movies = ratings.where(\\n    ratings[\\'movieId\\']\\n    .isin(ratings.groupby(\\'movieId\\')\\n          .count()\\n          .where(ratings.groupby(\\'movieId\\').count()[\\'rating\\'] > 1000)\\n          .dropna().index)\\n    ).dropna()\\n\\n# most_rated_movies = ratings.groupby(\\'movieId\\').count().sort_values(\\'rating\\', ascending=False).head(movies_to_show).index\\nhigh_std_movies = high_std_movies.groupby(\\'movieId\\').std().sort_values(\\'rating\\', ascending=False).head(movies_to_show).index\\n\\nto_line_plot = []\\nfor i in range(movies_to_show):\\n    tmp = ratings.where(ratings[\\'movieId\\'] == high_std_movies[i]).dropna()\\n    tmp[\\'date\\'] = pd.to_datetime(tmp[\\'timestamp\\'], unit=\\'s\\')\\n    \\n    # Computing the mean for each month\\n    tmp = tmp.resample(\"M\", on=\\'date\\').mean()[[\\'movieId\\', \\'rating\\']].dropna()\\n    to_line_plot.append(tmp)\\n    movie_title = movies.where(movies[\\'movieId\\'] == high_std_movies[i]).dropna()[\\'title\\'].values[0]\\n    axs[i].set_title(\"Movie: \\'\" + movie_title + \"\\'\")\\n\\nfor i in range(movies_to_show):\\n    sns.lineplot(x=\\'date\\', y=\\'rating\\', ax=axs[i], data=to_line_plot[i])\\n\\n# Print the titles of the movies\\nplt.show() '"
      ]
     },
     "execution_count": 267,
     "metadata": {},
     "output_type": "execute_result"
    }
   ],
   "source": [
    "\"\"\" # Same as above cell but the 3 movies with the highest standard deviation\n",
    "movies_to_show = 3\n",
    "fig, axs = plt.subplots(movies_to_show, sharex=True, sharey=True, figsize=(10, 10))\n",
    "\n",
    "# Take movies with at least 1000 ratings\n",
    "high_std_movies = ratings.where(\n",
    "    ratings['movieId']\n",
    "    .isin(ratings.groupby('movieId')\n",
    "          .count()\n",
    "          .where(ratings.groupby('movieId').count()['rating'] > 1000)\n",
    "          .dropna().index)\n",
    "    ).dropna()\n",
    "\n",
    "# most_rated_movies = ratings.groupby('movieId').count().sort_values('rating', ascending=False).head(movies_to_show).index\n",
    "high_std_movies = high_std_movies.groupby('movieId').std().sort_values('rating', ascending=False).head(movies_to_show).index\n",
    "\n",
    "to_line_plot = []\n",
    "for i in range(movies_to_show):\n",
    "    tmp = ratings.where(ratings['movieId'] == high_std_movies[i]).dropna()\n",
    "    tmp['date'] = pd.to_datetime(tmp['timestamp'], unit='s')\n",
    "    \n",
    "    # Computing the mean for each month\n",
    "    tmp = tmp.resample(\"M\", on='date').mean()[['movieId', 'rating']].dropna()\n",
    "    to_line_plot.append(tmp)\n",
    "    movie_title = movies.where(movies['movieId'] == high_std_movies[i]).dropna()['title'].values[0]\n",
    "    axs[i].set_title(\"Movie: '\" + movie_title + \"'\")\n",
    "\n",
    "for i in range(movies_to_show):\n",
    "    sns.lineplot(x='date', y='rating', ax=axs[i], data=to_line_plot[i])\n",
    "\n",
    "# Print the titles of the movies\n",
    "plt.show() \"\"\""
   ]
  },
  {
   "attachments": {},
   "cell_type": "markdown",
   "metadata": {},
   "source": [
    "Plot density for every attribute of dataset"
   ]
  },
  {
   "cell_type": "code",
   "execution_count": 268,
   "metadata": {},
   "outputs": [
    {
     "data": {
      "text/plain": [
       "\" # density plot for rating_count\\nfig, axs = plt.subplots(1,2, figsize=(10, 5))\\nsns.kdeplot(df['rating_count'], ax=axs[0], label='rating_count')\\nsns.kdeplot(df['rating_count'].where(df['rating_count'] < 50), ax=axs[1], label='rating_count < 50')\\n\\nprint('Number of movies with rating_count < 50: ', df.where(df['rating_count'] < 50).count()[0])\\nprint('Number of all movies: ', df.shape[0]) \""
      ]
     },
     "execution_count": 268,
     "metadata": {},
     "output_type": "execute_result"
    }
   ],
   "source": [
    "\"\"\" # density plot for rating_count\n",
    "fig, axs = plt.subplots(1,2, figsize=(10, 5))\n",
    "sns.kdeplot(df['rating_count'], ax=axs[0], label='rating_count')\n",
    "sns.kdeplot(df['rating_count'].where(df['rating_count'] < 50), ax=axs[1], label='rating_count < 50')\n",
    "\n",
    "print('Number of movies with rating_count < 50: ', df.where(df['rating_count'] < 50).count()[0])\n",
    "print('Number of all movies: ', df.shape[0]) \"\"\""
   ]
  },
  {
   "cell_type": "code",
   "execution_count": 269,
   "metadata": {},
   "outputs": [
    {
     "data": {
      "text/plain": [
       "\" # density plot for rating year\\n\\ndf_timestamp = df.copy()\\n\\n# convert timestamp to year\\ndf_timestamp['year_timestamp'] = pd.to_datetime(df_timestamp['mean_timestamp'], unit='s').dt.year\\n\\n# delete mean_timestamp column to avoid redundancy - TODO check if it is better to keep it\\ndf_timestamp = df_timestamp.drop(columns=['mean_timestamp'])\\n\\nsns.kdeplot(df['year_timestamp'])\\nplt.show() \""
      ]
     },
     "execution_count": 269,
     "metadata": {},
     "output_type": "execute_result"
    }
   ],
   "source": [
    "\"\"\" # density plot for rating year\n",
    "\n",
    "df_timestamp = df.copy()\n",
    "\n",
    "# convert timestamp to year\n",
    "df_timestamp['year_timestamp'] = pd.to_datetime(df_timestamp['mean_timestamp'], unit='s').dt.year\n",
    "\n",
    "# delete mean_timestamp column to avoid redundancy - TODO check if it is better to keep it\n",
    "df_timestamp = df_timestamp.drop(columns=['mean_timestamp'])\n",
    "\n",
    "sns.kdeplot(df['year_timestamp'])\n",
    "plt.show() \"\"\""
   ]
  },
  {
   "cell_type": "code",
   "execution_count": 270,
   "metadata": {},
   "outputs": [
    {
     "data": {
      "text/plain": [
       "\" \\n# TODO - change visualization to show the relevance for each movie-tag\\n# plot for categories\\ncat = list(categories)\\n\\n# count the number of rows containing 1 for each category\\ncat_dict = {}\\nfor category in cat:\\n    cat_dict[category] = df[category].sum()\\n\\n# order the dictionary by value in descending order\\ncat_dict = {k: v for k, v in sorted(cat_dict.items(), key=lambda item: item[1], reverse=True)}\\n\\n# plot an histogram of the number of rows for each category\\nfig, axs = plt.subplots(1, 1, figsize=(20, 10))\\nax = sns.barplot(x=list(cat_dict.keys()), y=list(cat_dict.values()))\\nax.bar_label(container=ax.containers[0], labels=list(cat_dict.keys()))\\nplt.xticks([])\\nplt.show()\\n\\nprint('List of attributes: ', list(df.columns))\\n \""
      ]
     },
     "execution_count": 270,
     "metadata": {},
     "output_type": "execute_result"
    }
   ],
   "source": [
    "\"\"\" \n",
    "# TODO - change visualization to show the relevance for each movie-tag\n",
    "# plot for categories\n",
    "cat = list(categories)\n",
    "\n",
    "# count the number of rows containing 1 for each category\n",
    "cat_dict = {}\n",
    "for category in cat:\n",
    "    cat_dict[category] = df[category].sum()\n",
    "\n",
    "# order the dictionary by value in descending order\n",
    "cat_dict = {k: v for k, v in sorted(cat_dict.items(), key=lambda item: item[1], reverse=True)}\n",
    "\n",
    "# plot an histogram of the number of rows for each category\n",
    "fig, axs = plt.subplots(1, 1, figsize=(20, 10))\n",
    "ax = sns.barplot(x=list(cat_dict.keys()), y=list(cat_dict.values()))\n",
    "ax.bar_label(container=ax.containers[0], labels=list(cat_dict.keys()))\n",
    "plt.xticks([])\n",
    "plt.show()\n",
    "\n",
    "print('List of attributes: ', list(df.columns))\n",
    " \"\"\""
   ]
  },
  {
   "cell_type": "code",
   "execution_count": 271,
   "metadata": {},
   "outputs": [
    {
     "data": {
      "text/plain": [
       "\" # count the number of rows containing 1 for Film-Noir and IMAX\\nprint('Number of Film-Noir movies: ', df['Film-Noir'].sum())\\nprint('Number of IMAX movies: ', df['IMAX'].sum())\\n \""
      ]
     },
     "execution_count": 271,
     "metadata": {},
     "output_type": "execute_result"
    }
   ],
   "source": [
    "\"\"\" # count the number of rows containing 1 for Film-Noir and IMAX\n",
    "print('Number of Film-Noir movies: ', df['Film-Noir'].sum())\n",
    "print('Number of IMAX movies: ', df['IMAX'].sum())\n",
    " \"\"\""
   ]
  },
  {
   "cell_type": "code",
   "execution_count": 272,
   "metadata": {},
   "outputs": [
    {
     "data": {
      "text/plain": [
       "\" # compute the ratio of mismatches for each category\\n\\n# count the number of rows\\ntotal_rows = df.shape[0]\\n\\nmismatches = {}\\n# remove (no genres listed) from list categories\\ncat = list(categories)\\n\\nfor category1 in cat:\\n    for category2 in cat:\\n        if category1 != category2:\\n            # count the number of rows where category1 and category2 are both 1\\n            count = df.where((df[category1] == 1) & (df[category2] == 1)).count()[0]\\n            if count > 0:\\n                # if there are rows where category1 and category2 are both 1, add the ratio to the dictionary\\n                mismatches[category1 + ' - ' + category2] = (total_rows - count) / total_rows\\n\\n# order the dictionary by value in descending order and print it\\nmismatches = {k: v for k, v in sorted(mismatches.items(), key=lambda item: item[1], reverse=False)}\\ndisplay('Mismatches: ', mismatches) \""
      ]
     },
     "execution_count": 272,
     "metadata": {},
     "output_type": "execute_result"
    }
   ],
   "source": [
    "\"\"\" # compute the ratio of mismatches for each category\n",
    "\n",
    "# count the number of rows\n",
    "total_rows = df.shape[0]\n",
    "\n",
    "mismatches = {}\n",
    "# remove (no genres listed) from list categories\n",
    "cat = list(categories)\n",
    "\n",
    "for category1 in cat:\n",
    "    for category2 in cat:\n",
    "        if category1 != category2:\n",
    "            # count the number of rows where category1 and category2 are both 1\n",
    "            count = df.where((df[category1] == 1) & (df[category2] == 1)).count()[0]\n",
    "            if count > 0:\n",
    "                # if there are rows where category1 and category2 are both 1, add the ratio to the dictionary\n",
    "                mismatches[category1 + ' - ' + category2] = (total_rows - count) / total_rows\n",
    "\n",
    "# order the dictionary by value in descending order and print it\n",
    "mismatches = {k: v for k, v in sorted(mismatches.items(), key=lambda item: item[1], reverse=False)}\n",
    "display('Mismatches: ', mismatches) \"\"\"\n"
   ]
  },
  {
   "cell_type": "code",
   "execution_count": 273,
   "metadata": {},
   "outputs": [
    {
     "data": {
      "text/plain": [
       "\" from scipy.spatial.distance import pdist, squareform\\n# compute the distance matrix for categories\\ndisplay(df.head())\\ncategories_df = df[df.drop(columns=['movieId', 'title', 'mean_rating', 'rating_count', 'tag', 'year_timestamp']).columns]\\ndisplay(categories_df.head())\\n\\ndist_matrix = pdist(categories_df, 'cosine')\\n\\n# Create a pandas DataFrame to represent the distance matrix\\ndf_dist = pd.DataFrame(squareform(dist_matrix), columns=np.arange(categories_df.shape[0]), index=np.arange(categories_df.shape[0]))\\n\\n# Print the DataFrame with observation labels\\nobs_labels = ['Obs{}'.format(i) for i in range(categories_df.shape[0])]\\ndf_dist.index = obs_labels\\ndf_dist.columns = obs_labels\\ndisplay(df_dist.head())\\n\\n# show only rows with at least two columns with value 0\\nmask = (df_dist == 0).sum(axis=1) >= 2\\nresult = df_dist.loc[mask].dropna(axis=1)\\ndisplay(result.head())\\n\\n# print(result[0:1].where(result[0:1] == 0).dropna(axis=1))\\n\\nprint('Number of rows with at least two columns with value 0: ', result.shape[0], ' out of ', df_dist.shape[0])\\n \""
      ]
     },
     "execution_count": 273,
     "metadata": {},
     "output_type": "execute_result"
    }
   ],
   "source": [
    "\"\"\" from scipy.spatial.distance import pdist, squareform\n",
    "# compute the distance matrix for categories\n",
    "display(df.head())\n",
    "categories_df = df[df.drop(columns=['movieId', 'title', 'mean_rating', 'rating_count', 'tag', 'year_timestamp']).columns]\n",
    "display(categories_df.head())\n",
    "\n",
    "dist_matrix = pdist(categories_df, 'cosine')\n",
    "\n",
    "# Create a pandas DataFrame to represent the distance matrix\n",
    "df_dist = pd.DataFrame(squareform(dist_matrix), columns=np.arange(categories_df.shape[0]), index=np.arange(categories_df.shape[0]))\n",
    "\n",
    "# Print the DataFrame with observation labels\n",
    "obs_labels = ['Obs{}'.format(i) for i in range(categories_df.shape[0])]\n",
    "df_dist.index = obs_labels\n",
    "df_dist.columns = obs_labels\n",
    "display(df_dist.head())\n",
    "\n",
    "# show only rows with at least two columns with value 0\n",
    "mask = (df_dist == 0).sum(axis=1) >= 2\n",
    "result = df_dist.loc[mask].dropna(axis=1)\n",
    "display(result.head())\n",
    "\n",
    "# print(result[0:1].where(result[0:1] == 0).dropna(axis=1))\n",
    "\n",
    "print('Number of rows with at least two columns with value 0: ', result.shape[0], ' out of ', df_dist.shape[0])\n",
    " \"\"\""
   ]
  },
  {
   "cell_type": "code",
   "execution_count": 274,
   "metadata": {},
   "outputs": [
    {
     "data": {
      "text/plain": [
       "\" from scipy.spatial.distance import squareform\\n\\n# Create a pandas DataFrame to represent the distance matrix\\ndf_dist = pd.DataFrame(squareform(dist_matrix), columns=np.arange(categories_df.shape[0]), index=np.arange(categories_df.shape[0]))\\n\\n# Print the DataFrame with observation labels\\nobs_labels = ['Obs{}'.format(i) for i in range(categories_df.shape[0])]\\ndf_dist.index = obs_labels\\ndf_dist.columns = obs_labels\\ndisplay(df_dist.head())\\n\\n# show only rows with at least two columns with value 0\\nmask = (df_dist == 0).sum(axis=1) >= 2\\nresult = df_dist.loc[mask].dropna(axis=1)\\ndisplay(result.head())\\n\\n# print(result[0:1].where(result[0:1] == 0).dropna(axis=1))\\n\\nprint('Number of rows with at least two columns with value 0: ', result.shape[0], ' out of ', df_dist.shape[0]) \""
      ]
     },
     "execution_count": 274,
     "metadata": {},
     "output_type": "execute_result"
    }
   ],
   "source": [
    "\"\"\" from scipy.spatial.distance import squareform\n",
    "\n",
    "# Create a pandas DataFrame to represent the distance matrix\n",
    "df_dist = pd.DataFrame(squareform(dist_matrix), columns=np.arange(categories_df.shape[0]), index=np.arange(categories_df.shape[0]))\n",
    "\n",
    "# Print the DataFrame with observation labels\n",
    "obs_labels = ['Obs{}'.format(i) for i in range(categories_df.shape[0])]\n",
    "df_dist.index = obs_labels\n",
    "df_dist.columns = obs_labels\n",
    "display(df_dist.head())\n",
    "\n",
    "# show only rows with at least two columns with value 0\n",
    "mask = (df_dist == 0).sum(axis=1) >= 2\n",
    "result = df_dist.loc[mask].dropna(axis=1)\n",
    "display(result.head())\n",
    "\n",
    "# print(result[0:1].where(result[0:1] == 0).dropna(axis=1))\n",
    "\n",
    "print('Number of rows with at least two columns with value 0: ', result.shape[0], ' out of ', df_dist.shape[0]) \"\"\""
   ]
  },
  {
   "cell_type": "code",
   "execution_count": 275,
   "metadata": {},
   "outputs": [
    {
     "data": {
      "text/plain": [
       "\" # show hist plot for mean_rating-genres\\nfig, axs = plt.subplots(10, 2, figsize=(15, 20))\\n# create a df with only mean_rating and genres where genres are 1\\ncat = list(categories)\\nfor category in cat:\\n    df_genre = df[df[category] == 1]\\n    if cat.index(category) < 10:\\n        sns.kdeplot(df_genre['mean_rating'], ax=axs[cat.index(category), 0], label=category)\\n    else:\\n        sns.kdeplot(df_genre['mean_rating'], ax=axs[cat.index(category)-10, 1], label=category)\\n\\nplt.show() \""
      ]
     },
     "execution_count": 275,
     "metadata": {},
     "output_type": "execute_result"
    }
   ],
   "source": [
    "\"\"\" # show hist plot for mean_rating-genres\n",
    "fig, axs = plt.subplots(10, 2, figsize=(15, 20))\n",
    "# create a df with only mean_rating and genres where genres are 1\n",
    "cat = list(categories)\n",
    "for category in cat:\n",
    "    df_genre = df[df[category] == 1]\n",
    "    if cat.index(category) < 10:\n",
    "        sns.kdeplot(df_genre['mean_rating'], ax=axs[cat.index(category), 0], label=category)\n",
    "    else:\n",
    "        sns.kdeplot(df_genre['mean_rating'], ax=axs[cat.index(category)-10, 1], label=category)\n",
    "\n",
    "plt.show() \"\"\"\n"
   ]
  },
  {
   "attachments": {},
   "cell_type": "markdown",
   "metadata": {},
   "source": [
    "## Data Preprocessing"
   ]
  },
  {
   "cell_type": "code",
   "execution_count": 276,
   "metadata": {},
   "outputs": [
    {
     "data": {
      "text/html": [
       "<div>\n",
       "<style scoped>\n",
       "    .dataframe tbody tr th:only-of-type {\n",
       "        vertical-align: middle;\n",
       "    }\n",
       "\n",
       "    .dataframe tbody tr th {\n",
       "        vertical-align: top;\n",
       "    }\n",
       "\n",
       "    .dataframe thead th {\n",
       "        text-align: right;\n",
       "    }\n",
       "</style>\n",
       "<table border=\"1\" class=\"dataframe\">\n",
       "  <thead>\n",
       "    <tr style=\"text-align: right;\">\n",
       "      <th></th>\n",
       "      <th>mean_rating</th>\n",
       "      <th>rating_count</th>\n",
       "      <th>mean_timestamp</th>\n",
       "      <th>War</th>\n",
       "      <th>Documentary</th>\n",
       "      <th>Action</th>\n",
       "      <th>Children</th>\n",
       "      <th>Comedy</th>\n",
       "      <th>Sci-Fi</th>\n",
       "      <th>Thriller</th>\n",
       "      <th>...</th>\n",
       "      <th>Romance</th>\n",
       "      <th>Mystery</th>\n",
       "      <th>Film-Noir</th>\n",
       "      <th>Musical</th>\n",
       "      <th>Crime</th>\n",
       "      <th>Fantasy</th>\n",
       "      <th>Drama</th>\n",
       "      <th>Western</th>\n",
       "      <th>Animation</th>\n",
       "      <th>year</th>\n",
       "    </tr>\n",
       "  </thead>\n",
       "  <tbody>\n",
       "    <tr>\n",
       "      <th>0</th>\n",
       "      <td>3.893708</td>\n",
       "      <td>57309</td>\n",
       "      <td>1153152210</td>\n",
       "      <td>0</td>\n",
       "      <td>0</td>\n",
       "      <td>0</td>\n",
       "      <td>1</td>\n",
       "      <td>1</td>\n",
       "      <td>0</td>\n",
       "      <td>0</td>\n",
       "      <td>...</td>\n",
       "      <td>0</td>\n",
       "      <td>0</td>\n",
       "      <td>0</td>\n",
       "      <td>0</td>\n",
       "      <td>0</td>\n",
       "      <td>1</td>\n",
       "      <td>0</td>\n",
       "      <td>0</td>\n",
       "      <td>1</td>\n",
       "      <td>1995</td>\n",
       "    </tr>\n",
       "    <tr>\n",
       "      <th>1</th>\n",
       "      <td>3.251527</td>\n",
       "      <td>24228</td>\n",
       "      <td>1122310117</td>\n",
       "      <td>0</td>\n",
       "      <td>0</td>\n",
       "      <td>0</td>\n",
       "      <td>1</td>\n",
       "      <td>0</td>\n",
       "      <td>0</td>\n",
       "      <td>0</td>\n",
       "      <td>...</td>\n",
       "      <td>0</td>\n",
       "      <td>0</td>\n",
       "      <td>0</td>\n",
       "      <td>0</td>\n",
       "      <td>0</td>\n",
       "      <td>1</td>\n",
       "      <td>0</td>\n",
       "      <td>0</td>\n",
       "      <td>0</td>\n",
       "      <td>1995</td>\n",
       "    </tr>\n",
       "    <tr>\n",
       "      <th>2</th>\n",
       "      <td>3.142028</td>\n",
       "      <td>11804</td>\n",
       "      <td>980602256</td>\n",
       "      <td>0</td>\n",
       "      <td>0</td>\n",
       "      <td>0</td>\n",
       "      <td>0</td>\n",
       "      <td>1</td>\n",
       "      <td>0</td>\n",
       "      <td>0</td>\n",
       "      <td>...</td>\n",
       "      <td>1</td>\n",
       "      <td>0</td>\n",
       "      <td>0</td>\n",
       "      <td>0</td>\n",
       "      <td>0</td>\n",
       "      <td>0</td>\n",
       "      <td>0</td>\n",
       "      <td>0</td>\n",
       "      <td>0</td>\n",
       "      <td>1995</td>\n",
       "    </tr>\n",
       "    <tr>\n",
       "      <th>3</th>\n",
       "      <td>2.853547</td>\n",
       "      <td>2523</td>\n",
       "      <td>942460471</td>\n",
       "      <td>0</td>\n",
       "      <td>0</td>\n",
       "      <td>0</td>\n",
       "      <td>0</td>\n",
       "      <td>1</td>\n",
       "      <td>0</td>\n",
       "      <td>0</td>\n",
       "      <td>...</td>\n",
       "      <td>1</td>\n",
       "      <td>0</td>\n",
       "      <td>0</td>\n",
       "      <td>0</td>\n",
       "      <td>0</td>\n",
       "      <td>0</td>\n",
       "      <td>1</td>\n",
       "      <td>0</td>\n",
       "      <td>0</td>\n",
       "      <td>1995</td>\n",
       "    </tr>\n",
       "    <tr>\n",
       "      <th>4</th>\n",
       "      <td>3.058434</td>\n",
       "      <td>11714</td>\n",
       "      <td>1004723013</td>\n",
       "      <td>0</td>\n",
       "      <td>0</td>\n",
       "      <td>0</td>\n",
       "      <td>0</td>\n",
       "      <td>1</td>\n",
       "      <td>0</td>\n",
       "      <td>0</td>\n",
       "      <td>...</td>\n",
       "      <td>0</td>\n",
       "      <td>0</td>\n",
       "      <td>0</td>\n",
       "      <td>0</td>\n",
       "      <td>0</td>\n",
       "      <td>0</td>\n",
       "      <td>0</td>\n",
       "      <td>0</td>\n",
       "      <td>0</td>\n",
       "      <td>1995</td>\n",
       "    </tr>\n",
       "  </tbody>\n",
       "</table>\n",
       "<p>5 rows × 23 columns</p>\n",
       "</div>"
      ],
      "text/plain": [
       "   mean_rating  rating_count  mean_timestamp  War  Documentary  Action  \\\n",
       "0     3.893708         57309      1153152210    0            0       0   \n",
       "1     3.251527         24228      1122310117    0            0       0   \n",
       "2     3.142028         11804       980602256    0            0       0   \n",
       "3     2.853547          2523       942460471    0            0       0   \n",
       "4     3.058434         11714      1004723013    0            0       0   \n",
       "\n",
       "   Children  Comedy  Sci-Fi  Thriller  ...  Romance  Mystery  Film-Noir  \\\n",
       "0         1       1       0         0  ...        0        0          0   \n",
       "1         1       0       0         0  ...        0        0          0   \n",
       "2         0       1       0         0  ...        1        0          0   \n",
       "3         0       1       0         0  ...        1        0          0   \n",
       "4         0       1       0         0  ...        0        0          0   \n",
       "\n",
       "   Musical  Crime  Fantasy  Drama  Western  Animation  year  \n",
       "0        0      0        1      0        0          1  1995  \n",
       "1        0      0        1      0        0          0  1995  \n",
       "2        0      0        0      0        0          0  1995  \n",
       "3        0      0        0      1        0          0  1995  \n",
       "4        0      0        0      0        0          0  1995  \n",
       "\n",
       "[5 rows x 23 columns]"
      ]
     },
     "metadata": {},
     "output_type": "display_data"
    }
   ],
   "source": [
    "# from title extract year\n",
    "df['year'] = df['title'].str.extract('(\\(\\d{4}\\))', expand=True)\n",
    "# remove parentheses\n",
    "df['year'] = df['year'].str.extract('(\\d{4})', expand=True)\n",
    "# convert year to int\n",
    "df['year'] = df['year']\n",
    "\n",
    "# remove movies with no year\n",
    "df = df.dropna(subset=['year'])\n",
    "\n",
    "# delete title and movieId columns\n",
    "df = df.drop(columns=['movieId', 'title'])\n",
    "\n",
    "display(df.head())"
   ]
  },
  {
   "cell_type": "code",
   "execution_count": 277,
   "metadata": {},
   "outputs": [
    {
     "data": {
      "text/plain": [
       "\" # density plot for film year\\nsns.kdeplot(df['year'])\\nplt.show() \""
      ]
     },
     "execution_count": 277,
     "metadata": {},
     "output_type": "execute_result"
    }
   ],
   "source": [
    "\"\"\" # density plot for film year\n",
    "sns.kdeplot(df['year'])\n",
    "plt.show() \"\"\""
   ]
  },
  {
   "attachments": {},
   "cell_type": "markdown",
   "metadata": {},
   "source": [
    "### Correlation results\n",
    "This correlation table shows the relationship between different movie genres and several movie characteristics such as mean rating, rating count, and year of release. The values in the table represent the Pearson correlation coefficient, which ranges from -1 to 1 and measures the linear association between two variables. Positive values indicate a positive association, meaning that as one variable increases, the other variable also increases. Negative values indicate a negative association, meaning that as one variable increases, the other variable decreases.\n",
    "\n",
    "Some observations from the table:\n",
    "\n",
    "There is a positive correlation between the mean rating and rating count of a movie (0.13). This indicates that movies with higher ratings tend to have more ratings.\n",
    "Film-Noir has a moderate positive correlation with Crime (0.15) and Mystery (0.06). This suggests that movies classified as Film-Noir often have elements of crime and mystery.\n",
    "Horror movies have a negative correlation with mean rating (-0.22), indicating that they tend to have lower ratings.\n",
    "Drama movies have a moderate positive correlation with mean rating (0.15) and a moderate positive correlation with Thriller movies (0.24).\n",
    "There is a negative correlation between year of release and rating count (-0.27), which suggests that older movies tend to have fewer ratings.\n",
    "In conclusion, this table provides useful information about the relationship between different movie genres and movie characteristics, and can be used to make informed decisions about movie selection and production.\n"
   ]
  },
  {
   "attachments": {},
   "cell_type": "markdown",
   "metadata": {},
   "source": [
    "### Covariance results\n",
    "Covariance is a measure of the linear relationship between two variables. It measures how changes in one variable are associated with changes in the other variable. Covariance is expressed as a numerical value and can range from negative to positive values. A positive covariance means that the two variables are positively related, while a negative covariance means that they are inversely related. A covariance of zero means that there is no linear relationship between the variables.\n",
    "\n",
    "In the table you've provided, the covariance between two variables can be found in the entries of the matrix. For example, the covariance between \"mean_rating\" and \"Film-Noir\" is 0.001774, indicating a very small positive relationship between the two variables. The covariance between \"rating_count\" and \"Crime\" is 43.331685, indicating a stronger positive relationship between these two variables.\n",
    "\n",
    "It's important to keep in mind that covariance only measures linear relationships, so it may not be able to fully capture more complex relationships between variables."
   ]
  },
  {
   "attachments": {},
   "cell_type": "markdown",
   "metadata": {},
   "source": [
    "### Dataset Describe\n",
    "The describe() function applied on the Pandas DataFrame provides statistical information about the features in the DataFrame. According to the results, the mean rating for the movies is 3.110263, with a standard deviation of 0.653225. The minimum and maximum ratings are 0.5 and 5, respectively. The mean count of ratings for each movie is 596.81, with a standard deviation of 2929.96.\n",
    "\n",
    "The genre columns (Film-Noir, Crime, Mystery, Animation, etc.) are binary, with a mean of either 0 or 0.01 to 0.28. The 25th, 50th, and 75th percentiles for these features are either 0 or close to 0, indicating that the majority of the movies belong to a particular genre. The year_timestamp feature has a mean of 2014.22, with a standard deviation of 4.7. The year feature has a mean of 1991.57 and a standard deviation of 25.09."
   ]
  },
  {
   "cell_type": "code",
   "execution_count": 278,
   "metadata": {},
   "outputs": [
    {
     "data": {
      "text/plain": [
       "' # compute analysis between attributes of the dataset\\ncorr = df.corr()\\nprint(corr)\\ncov = df.cov()\\nprint(cov)\\ndesc = df.describe()\\nprint(desc)\\n\\n# follow examples from slides on Data Visualization (pages 6-8)\\nfig, axs = plt.subplots(2, 1, figsize=(30, 30))\\n# show results of correlation in a graphic way\\n# Plot the heatmap of the correlation matrix\\nsns.heatmap(corr, annot=True, cmap=\"YlGnBu\", ax=axs[0])\\n# show results of covariance in a graphic way\\n# Plot the heatmap of the covariance matrix\\nsns.heatmap(cov, annot=True, cmap=\"YlGnBu\", ax=axs[1], vmax=1, vmin=-1)\\n\\nplt.show()\\n\\n# Plot the table\\nplt.figure(figsize=(30, 5))\\nsns.heatmap(desc, annot=True, cmap=\\'Reds\\', vmax=1, vmin=0)\\nplt.show()\\n '"
      ]
     },
     "execution_count": 278,
     "metadata": {},
     "output_type": "execute_result"
    }
   ],
   "source": [
    "\"\"\" # compute analysis between attributes of the dataset\n",
    "corr = df.corr()\n",
    "print(corr)\n",
    "cov = df.cov()\n",
    "print(cov)\n",
    "desc = df.describe()\n",
    "print(desc)\n",
    "\n",
    "# follow examples from slides on Data Visualization (pages 6-8)\n",
    "fig, axs = plt.subplots(2, 1, figsize=(30, 30))\n",
    "# show results of correlation in a graphic way\n",
    "# Plot the heatmap of the correlation matrix\n",
    "sns.heatmap(corr, annot=True, cmap=\"YlGnBu\", ax=axs[0])\n",
    "# show results of covariance in a graphic way\n",
    "# Plot the heatmap of the covariance matrix\n",
    "sns.heatmap(cov, annot=True, cmap=\"YlGnBu\", ax=axs[1], vmax=1, vmin=-1)\n",
    "\n",
    "plt.show()\n",
    "\n",
    "# Plot the table\n",
    "plt.figure(figsize=(30, 5))\n",
    "sns.heatmap(desc, annot=True, cmap='Reds', vmax=1, vmin=0)\n",
    "plt.show()\n",
    " \"\"\""
   ]
  },
  {
   "cell_type": "code",
   "execution_count": 279,
   "metadata": {},
   "outputs": [
    {
     "data": {
      "text/plain": [
       "\" # show scatter plot for mean_rating-attributes\\n\\nfig, axs = plt.subplots(2, 2, figsize=(15, 10))\\nsns.scatterplot(x='rating_count', y='mean_rating', data=df, ax=axs[0, 0])\\nsns.scatterplot(x='year', y='mean_rating', data=df, ax=axs[0, 1])\\nsns.scatterplot(x='year_timestamp', y='mean_rating', data=df, ax=axs[1, 0])\\nplt.show()\\n \""
      ]
     },
     "execution_count": 279,
     "metadata": {},
     "output_type": "execute_result"
    }
   ],
   "source": [
    "\"\"\" # show scatter plot for mean_rating-attributes\n",
    "\n",
    "fig, axs = plt.subplots(2, 2, figsize=(15, 10))\n",
    "sns.scatterplot(x='rating_count', y='mean_rating', data=df, ax=axs[0, 0])\n",
    "sns.scatterplot(x='year', y='mean_rating', data=df, ax=axs[0, 1])\n",
    "sns.scatterplot(x='year_timestamp', y='mean_rating', data=df, ax=axs[1, 0])\n",
    "plt.show()\n",
    " \"\"\""
   ]
  },
  {
   "cell_type": "code",
   "execution_count": 280,
   "metadata": {},
   "outputs": [
    {
     "data": {
      "text/html": [
       "<div>\n",
       "<style scoped>\n",
       "    .dataframe tbody tr th:only-of-type {\n",
       "        vertical-align: middle;\n",
       "    }\n",
       "\n",
       "    .dataframe tbody tr th {\n",
       "        vertical-align: top;\n",
       "    }\n",
       "\n",
       "    .dataframe thead th {\n",
       "        text-align: right;\n",
       "    }\n",
       "</style>\n",
       "<table border=\"1\" class=\"dataframe\">\n",
       "  <thead>\n",
       "    <tr style=\"text-align: right;\">\n",
       "      <th></th>\n",
       "      <th>mean_rating</th>\n",
       "      <th>mean_timestamp</th>\n",
       "      <th>War</th>\n",
       "      <th>Documentary</th>\n",
       "      <th>Action</th>\n",
       "      <th>Children</th>\n",
       "      <th>Comedy</th>\n",
       "      <th>Sci-Fi</th>\n",
       "      <th>Thriller</th>\n",
       "      <th>Adventure</th>\n",
       "      <th>...</th>\n",
       "      <th>Romance</th>\n",
       "      <th>Mystery</th>\n",
       "      <th>Film-Noir</th>\n",
       "      <th>Musical</th>\n",
       "      <th>Crime</th>\n",
       "      <th>Fantasy</th>\n",
       "      <th>Drama</th>\n",
       "      <th>Western</th>\n",
       "      <th>Animation</th>\n",
       "      <th>year</th>\n",
       "    </tr>\n",
       "  </thead>\n",
       "  <tbody>\n",
       "    <tr>\n",
       "      <th>0</th>\n",
       "      <td>3.893708</td>\n",
       "      <td>1153152210</td>\n",
       "      <td>0</td>\n",
       "      <td>0</td>\n",
       "      <td>0</td>\n",
       "      <td>1</td>\n",
       "      <td>1</td>\n",
       "      <td>0</td>\n",
       "      <td>0</td>\n",
       "      <td>1</td>\n",
       "      <td>...</td>\n",
       "      <td>0</td>\n",
       "      <td>0</td>\n",
       "      <td>0</td>\n",
       "      <td>0</td>\n",
       "      <td>0</td>\n",
       "      <td>1</td>\n",
       "      <td>0</td>\n",
       "      <td>0</td>\n",
       "      <td>1</td>\n",
       "      <td>1995</td>\n",
       "    </tr>\n",
       "    <tr>\n",
       "      <th>1</th>\n",
       "      <td>3.251527</td>\n",
       "      <td>1122310117</td>\n",
       "      <td>0</td>\n",
       "      <td>0</td>\n",
       "      <td>0</td>\n",
       "      <td>1</td>\n",
       "      <td>0</td>\n",
       "      <td>0</td>\n",
       "      <td>0</td>\n",
       "      <td>1</td>\n",
       "      <td>...</td>\n",
       "      <td>0</td>\n",
       "      <td>0</td>\n",
       "      <td>0</td>\n",
       "      <td>0</td>\n",
       "      <td>0</td>\n",
       "      <td>1</td>\n",
       "      <td>0</td>\n",
       "      <td>0</td>\n",
       "      <td>0</td>\n",
       "      <td>1995</td>\n",
       "    </tr>\n",
       "    <tr>\n",
       "      <th>2</th>\n",
       "      <td>3.142028</td>\n",
       "      <td>980602256</td>\n",
       "      <td>0</td>\n",
       "      <td>0</td>\n",
       "      <td>0</td>\n",
       "      <td>0</td>\n",
       "      <td>1</td>\n",
       "      <td>0</td>\n",
       "      <td>0</td>\n",
       "      <td>0</td>\n",
       "      <td>...</td>\n",
       "      <td>1</td>\n",
       "      <td>0</td>\n",
       "      <td>0</td>\n",
       "      <td>0</td>\n",
       "      <td>0</td>\n",
       "      <td>0</td>\n",
       "      <td>0</td>\n",
       "      <td>0</td>\n",
       "      <td>0</td>\n",
       "      <td>1995</td>\n",
       "    </tr>\n",
       "    <tr>\n",
       "      <th>3</th>\n",
       "      <td>2.853547</td>\n",
       "      <td>942460471</td>\n",
       "      <td>0</td>\n",
       "      <td>0</td>\n",
       "      <td>0</td>\n",
       "      <td>0</td>\n",
       "      <td>1</td>\n",
       "      <td>0</td>\n",
       "      <td>0</td>\n",
       "      <td>0</td>\n",
       "      <td>...</td>\n",
       "      <td>1</td>\n",
       "      <td>0</td>\n",
       "      <td>0</td>\n",
       "      <td>0</td>\n",
       "      <td>0</td>\n",
       "      <td>0</td>\n",
       "      <td>1</td>\n",
       "      <td>0</td>\n",
       "      <td>0</td>\n",
       "      <td>1995</td>\n",
       "    </tr>\n",
       "    <tr>\n",
       "      <th>4</th>\n",
       "      <td>3.058434</td>\n",
       "      <td>1004723013</td>\n",
       "      <td>0</td>\n",
       "      <td>0</td>\n",
       "      <td>0</td>\n",
       "      <td>0</td>\n",
       "      <td>1</td>\n",
       "      <td>0</td>\n",
       "      <td>0</td>\n",
       "      <td>0</td>\n",
       "      <td>...</td>\n",
       "      <td>0</td>\n",
       "      <td>0</td>\n",
       "      <td>0</td>\n",
       "      <td>0</td>\n",
       "      <td>0</td>\n",
       "      <td>0</td>\n",
       "      <td>0</td>\n",
       "      <td>0</td>\n",
       "      <td>0</td>\n",
       "      <td>1995</td>\n",
       "    </tr>\n",
       "  </tbody>\n",
       "</table>\n",
       "<p>5 rows × 22 columns</p>\n",
       "</div>"
      ],
      "text/plain": [
       "   mean_rating  mean_timestamp  War  Documentary  Action  Children  Comedy  \\\n",
       "0     3.893708      1153152210    0            0       0         1       1   \n",
       "1     3.251527      1122310117    0            0       0         1       0   \n",
       "2     3.142028       980602256    0            0       0         0       1   \n",
       "3     2.853547       942460471    0            0       0         0       1   \n",
       "4     3.058434      1004723013    0            0       0         0       1   \n",
       "\n",
       "   Sci-Fi  Thriller  Adventure  ...  Romance  Mystery  Film-Noir  Musical  \\\n",
       "0       0         0          1  ...        0        0          0        0   \n",
       "1       0         0          1  ...        0        0          0        0   \n",
       "2       0         0          0  ...        1        0          0        0   \n",
       "3       0         0          0  ...        1        0          0        0   \n",
       "4       0         0          0  ...        0        0          0        0   \n",
       "\n",
       "   Crime  Fantasy  Drama  Western  Animation  year  \n",
       "0      0        1      0        0          1  1995  \n",
       "1      0        1      0        0          0  1995  \n",
       "2      0        0      0        0          0  1995  \n",
       "3      0        0      1        0          0  1995  \n",
       "4      0        0      0        0          0  1995  \n",
       "\n",
       "[5 rows x 22 columns]"
      ]
     },
     "metadata": {},
     "output_type": "display_data"
    }
   ],
   "source": [
    "# remove rating_count column\n",
    "df = df.drop(columns=['rating_count'])\n",
    "\n",
    "display(df.head())"
   ]
  },
  {
   "cell_type": "code",
   "execution_count": 281,
   "metadata": {},
   "outputs": [
    {
     "data": {
      "text/plain": [
       "\" # TODO - balancing dataset\\n# remove samples_to_drop movies with mean_rating between 2.5 and 4\\nsamples_to_drop = 25000\\ndf_preprocessed = df.copy()\\ndf_preprocessed = df_preprocessed.drop(df_preprocessed[(df_preprocessed['mean_rating'] >= 2.5) & (df_preprocessed['mean_rating'] <= 4)].sample(samples_to_drop).index)\\n\\n# rating distribution from df\\nfig, axs = plt.subplots(1, 2, figsize=(10, 5))\\nsns.kdeplot(df['mean_rating'], ax=axs[0])\\nsns.kdeplot(df_preprocessed['mean_rating'], ax=axs[1])\\nplt.xlabel('rating mean for film')\\nplt.title('Rating distribution in dataframe')\\nplt.show()\\n\\n# number of samples in df and df_preprocessed\\nprint('Number of samples in df: ', df.shape[0])\\nprint('Number of samples in df_preprocessed: ', df_preprocessed.shape[0]) \""
      ]
     },
     "execution_count": 281,
     "metadata": {},
     "output_type": "execute_result"
    }
   ],
   "source": [
    "\"\"\" # TODO - balancing dataset\n",
    "# remove samples_to_drop movies with mean_rating between 2.5 and 4\n",
    "samples_to_drop = 25000\n",
    "df_preprocessed = df.copy()\n",
    "df_preprocessed = df_preprocessed.drop(df_preprocessed[(df_preprocessed['mean_rating'] >= 2.5) & (df_preprocessed['mean_rating'] <= 4)].sample(samples_to_drop).index)\n",
    "\n",
    "# rating distribution from df\n",
    "fig, axs = plt.subplots(1, 2, figsize=(10, 5))\n",
    "sns.kdeplot(df['mean_rating'], ax=axs[0])\n",
    "sns.kdeplot(df_preprocessed['mean_rating'], ax=axs[1])\n",
    "plt.xlabel('rating mean for film')\n",
    "plt.title('Rating distribution in dataframe')\n",
    "plt.show()\n",
    "\n",
    "# number of samples in df and df_preprocessed\n",
    "print('Number of samples in df: ', df.shape[0])\n",
    "print('Number of samples in df_preprocessed: ', df_preprocessed.shape[0]) \"\"\"\n"
   ]
  },
  {
   "cell_type": "code",
   "execution_count": 282,
   "metadata": {},
   "outputs": [
    {
     "data": {
      "text/plain": [
       "\" # Compute the number of unique values for each column\\nunique_values = {}\\nfor column in df.columns:\\n    if column == 'mean_rating' or column == 'mean_timestamp' or column == 'year':\\n        unique_values[column] = np.unique(df[column], return_counts=True)\\n\\n# Print the number of unique values for each column\\nfor column in unique_values:\\n    print(column, ':', unique_values[column])\\n\\n# Plot the number of unique values for each column\\nfig, axs = plt.subplots(nrows=2, ncols=2, figsize=(10, 8))\\nsns.lineplot(x=unique_values['mean_rating'][0], y=unique_values['mean_rating'][1], ax=axs[0,0])\\naxs[0,0].set_xlabel('mean rating')\\naxs[0,0].set_ylabel('number of unique values')\\nsns.lineplot(x=unique_values['mean_timestamp'][0], y=unique_values['mean_timestamp'][1], ax=axs[0,1])\\naxs[0,1].set_xlabel('mean timestamp')\\naxs[0,1].set_ylabel('number of unique values')\\nsns.lineplot(x=unique_values['year'][0], y=unique_values['year'][1], ax=axs[1,0])\\naxs[1,0].set_xlabel('year')\\naxs[1,0].set_ylabel('number of unique values')\\nplt.show()\\n \""
      ]
     },
     "execution_count": 282,
     "metadata": {},
     "output_type": "execute_result"
    }
   ],
   "source": [
    "\"\"\" # Compute the number of unique values for each column\n",
    "unique_values = {}\n",
    "for column in df.columns:\n",
    "    if column == 'mean_rating' or column == 'mean_timestamp' or column == 'year':\n",
    "        unique_values[column] = np.unique(df[column], return_counts=True)\n",
    "\n",
    "# Print the number of unique values for each column\n",
    "for column in unique_values:\n",
    "    print(column, ':', unique_values[column])\n",
    "\n",
    "# Plot the number of unique values for each column\n",
    "fig, axs = plt.subplots(nrows=2, ncols=2, figsize=(10, 8))\n",
    "sns.lineplot(x=unique_values['mean_rating'][0], y=unique_values['mean_rating'][1], ax=axs[0,0])\n",
    "axs[0,0].set_xlabel('mean rating')\n",
    "axs[0,0].set_ylabel('number of unique values')\n",
    "sns.lineplot(x=unique_values['mean_timestamp'][0], y=unique_values['mean_timestamp'][1], ax=axs[0,1])\n",
    "axs[0,1].set_xlabel('mean timestamp')\n",
    "axs[0,1].set_ylabel('number of unique values')\n",
    "sns.lineplot(x=unique_values['year'][0], y=unique_values['year'][1], ax=axs[1,0])\n",
    "axs[1,0].set_xlabel('year')\n",
    "axs[1,0].set_ylabel('number of unique values')\n",
    "plt.show()\n",
    " \"\"\""
   ]
  },
  {
   "cell_type": "code",
   "execution_count": 283,
   "metadata": {},
   "outputs": [
    {
     "data": {
      "text/plain": [
       "\" # show year and year_timestamp in the same plot with values from 2000 to 2020\\nfig, axs = plt.subplots(nrows=1, ncols=2, figsize=(12, 5))\\nsns.lineplot(x=unique_values['year_timestamp'][0], y=unique_values['year_timestamp'][1], ax=axs[0], label='timestamp year')\\nsns.lineplot(x=unique_values['year'][0], y=unique_values['year'][1], ax=axs[0], label='film year')\\naxs[0].set_xlabel('year')\\naxs[0].set_ylabel('number of unique values')\\nsns.lineplot(x=unique_values['year_timestamp'][0], y=unique_values['year_timestamp'][1], ax=axs[1], label='timestamp year')\\nsns.lineplot(x=unique_values['year'][0], y=unique_values['year'][1], ax=axs[1], label='film year')\\naxs[1].set_xlabel('year')\\naxs[1].set_ylabel('number of unique values')\\naxs[1].set_xlim(2000, 2020)\\naxs[1].set_xticks(np.arange(2000, 2022, 4))\\nplt.show() \""
      ]
     },
     "execution_count": 283,
     "metadata": {},
     "output_type": "execute_result"
    }
   ],
   "source": [
    "\"\"\" # show year and year_timestamp in the same plot with values from 2000 to 2020\n",
    "fig, axs = plt.subplots(nrows=1, ncols=2, figsize=(12, 5))\n",
    "sns.lineplot(x=unique_values['year_timestamp'][0], y=unique_values['year_timestamp'][1], ax=axs[0], label='timestamp year')\n",
    "sns.lineplot(x=unique_values['year'][0], y=unique_values['year'][1], ax=axs[0], label='film year')\n",
    "axs[0].set_xlabel('year')\n",
    "axs[0].set_ylabel('number of unique values')\n",
    "sns.lineplot(x=unique_values['year_timestamp'][0], y=unique_values['year_timestamp'][1], ax=axs[1], label='timestamp year')\n",
    "sns.lineplot(x=unique_values['year'][0], y=unique_values['year'][1], ax=axs[1], label='film year')\n",
    "axs[1].set_xlabel('year')\n",
    "axs[1].set_ylabel('number of unique values')\n",
    "axs[1].set_xlim(2000, 2020)\n",
    "axs[1].set_xticks(np.arange(2000, 2022, 4))\n",
    "plt.show() \"\"\"\n"
   ]
  },
  {
   "attachments": {},
   "cell_type": "markdown",
   "metadata": {},
   "source": [
    "### Normalization"
   ]
  },
  {
   "cell_type": "code",
   "execution_count": 284,
   "metadata": {},
   "outputs": [
    {
     "data": {
      "text/html": [
       "<div>\n",
       "<style scoped>\n",
       "    .dataframe tbody tr th:only-of-type {\n",
       "        vertical-align: middle;\n",
       "    }\n",
       "\n",
       "    .dataframe tbody tr th {\n",
       "        vertical-align: top;\n",
       "    }\n",
       "\n",
       "    .dataframe thead th {\n",
       "        text-align: right;\n",
       "    }\n",
       "</style>\n",
       "<table border=\"1\" class=\"dataframe\">\n",
       "  <thead>\n",
       "    <tr style=\"text-align: right;\">\n",
       "      <th></th>\n",
       "      <th>mean_timestamp</th>\n",
       "      <th>War</th>\n",
       "      <th>Documentary</th>\n",
       "      <th>Action</th>\n",
       "      <th>Children</th>\n",
       "      <th>Comedy</th>\n",
       "      <th>Sci-Fi</th>\n",
       "      <th>Thriller</th>\n",
       "      <th>Adventure</th>\n",
       "      <th>Horror</th>\n",
       "      <th>...</th>\n",
       "      <th>Mystery</th>\n",
       "      <th>Film-Noir</th>\n",
       "      <th>Musical</th>\n",
       "      <th>Crime</th>\n",
       "      <th>Fantasy</th>\n",
       "      <th>Drama</th>\n",
       "      <th>Western</th>\n",
       "      <th>Animation</th>\n",
       "      <th>year</th>\n",
       "      <th>mean_rating</th>\n",
       "    </tr>\n",
       "  </thead>\n",
       "  <tbody>\n",
       "    <tr>\n",
       "      <th>0</th>\n",
       "      <td>0.395916</td>\n",
       "      <td>0.0</td>\n",
       "      <td>0.0</td>\n",
       "      <td>0.0</td>\n",
       "      <td>1.0</td>\n",
       "      <td>1.0</td>\n",
       "      <td>0.0</td>\n",
       "      <td>0.0</td>\n",
       "      <td>1.0</td>\n",
       "      <td>0.0</td>\n",
       "      <td>...</td>\n",
       "      <td>0.0</td>\n",
       "      <td>0.0</td>\n",
       "      <td>0.0</td>\n",
       "      <td>0.0</td>\n",
       "      <td>1.0</td>\n",
       "      <td>0.0</td>\n",
       "      <td>0.0</td>\n",
       "      <td>1.0</td>\n",
       "      <td>0.834483</td>\n",
       "      <td>3.893708</td>\n",
       "    </tr>\n",
       "    <tr>\n",
       "      <th>1</th>\n",
       "      <td>0.351675</td>\n",
       "      <td>0.0</td>\n",
       "      <td>0.0</td>\n",
       "      <td>0.0</td>\n",
       "      <td>1.0</td>\n",
       "      <td>0.0</td>\n",
       "      <td>0.0</td>\n",
       "      <td>0.0</td>\n",
       "      <td>1.0</td>\n",
       "      <td>0.0</td>\n",
       "      <td>...</td>\n",
       "      <td>0.0</td>\n",
       "      <td>0.0</td>\n",
       "      <td>0.0</td>\n",
       "      <td>0.0</td>\n",
       "      <td>1.0</td>\n",
       "      <td>0.0</td>\n",
       "      <td>0.0</td>\n",
       "      <td>0.0</td>\n",
       "      <td>0.834483</td>\n",
       "      <td>3.251527</td>\n",
       "    </tr>\n",
       "    <tr>\n",
       "      <th>2</th>\n",
       "      <td>0.148407</td>\n",
       "      <td>0.0</td>\n",
       "      <td>0.0</td>\n",
       "      <td>0.0</td>\n",
       "      <td>0.0</td>\n",
       "      <td>1.0</td>\n",
       "      <td>0.0</td>\n",
       "      <td>0.0</td>\n",
       "      <td>0.0</td>\n",
       "      <td>0.0</td>\n",
       "      <td>...</td>\n",
       "      <td>0.0</td>\n",
       "      <td>0.0</td>\n",
       "      <td>0.0</td>\n",
       "      <td>0.0</td>\n",
       "      <td>0.0</td>\n",
       "      <td>0.0</td>\n",
       "      <td>0.0</td>\n",
       "      <td>0.0</td>\n",
       "      <td>0.834483</td>\n",
       "      <td>3.142028</td>\n",
       "    </tr>\n",
       "    <tr>\n",
       "      <th>3</th>\n",
       "      <td>0.093695</td>\n",
       "      <td>0.0</td>\n",
       "      <td>0.0</td>\n",
       "      <td>0.0</td>\n",
       "      <td>0.0</td>\n",
       "      <td>1.0</td>\n",
       "      <td>0.0</td>\n",
       "      <td>0.0</td>\n",
       "      <td>0.0</td>\n",
       "      <td>0.0</td>\n",
       "      <td>...</td>\n",
       "      <td>0.0</td>\n",
       "      <td>0.0</td>\n",
       "      <td>0.0</td>\n",
       "      <td>0.0</td>\n",
       "      <td>0.0</td>\n",
       "      <td>1.0</td>\n",
       "      <td>0.0</td>\n",
       "      <td>0.0</td>\n",
       "      <td>0.834483</td>\n",
       "      <td>2.853547</td>\n",
       "    </tr>\n",
       "    <tr>\n",
       "      <th>4</th>\n",
       "      <td>0.183006</td>\n",
       "      <td>0.0</td>\n",
       "      <td>0.0</td>\n",
       "      <td>0.0</td>\n",
       "      <td>0.0</td>\n",
       "      <td>1.0</td>\n",
       "      <td>0.0</td>\n",
       "      <td>0.0</td>\n",
       "      <td>0.0</td>\n",
       "      <td>0.0</td>\n",
       "      <td>...</td>\n",
       "      <td>0.0</td>\n",
       "      <td>0.0</td>\n",
       "      <td>0.0</td>\n",
       "      <td>0.0</td>\n",
       "      <td>0.0</td>\n",
       "      <td>0.0</td>\n",
       "      <td>0.0</td>\n",
       "      <td>0.0</td>\n",
       "      <td>0.834483</td>\n",
       "      <td>3.058434</td>\n",
       "    </tr>\n",
       "  </tbody>\n",
       "</table>\n",
       "<p>5 rows × 22 columns</p>\n",
       "</div>"
      ],
      "text/plain": [
       "   mean_timestamp  War  Documentary  Action  Children  Comedy  Sci-Fi  \\\n",
       "0        0.395916  0.0          0.0     0.0       1.0     1.0     0.0   \n",
       "1        0.351675  0.0          0.0     0.0       1.0     0.0     0.0   \n",
       "2        0.148407  0.0          0.0     0.0       0.0     1.0     0.0   \n",
       "3        0.093695  0.0          0.0     0.0       0.0     1.0     0.0   \n",
       "4        0.183006  0.0          0.0     0.0       0.0     1.0     0.0   \n",
       "\n",
       "   Thriller  Adventure  Horror  ...  Mystery  Film-Noir  Musical  Crime  \\\n",
       "0       0.0        1.0     0.0  ...      0.0        0.0      0.0    0.0   \n",
       "1       0.0        1.0     0.0  ...      0.0        0.0      0.0    0.0   \n",
       "2       0.0        0.0     0.0  ...      0.0        0.0      0.0    0.0   \n",
       "3       0.0        0.0     0.0  ...      0.0        0.0      0.0    0.0   \n",
       "4       0.0        0.0     0.0  ...      0.0        0.0      0.0    0.0   \n",
       "\n",
       "   Fantasy  Drama  Western  Animation      year  mean_rating  \n",
       "0      1.0    0.0      0.0        1.0  0.834483     3.893708  \n",
       "1      1.0    0.0      0.0        0.0  0.834483     3.251527  \n",
       "2      0.0    0.0      0.0        0.0  0.834483     3.142028  \n",
       "3      0.0    1.0      0.0        0.0  0.834483     2.853547  \n",
       "4      0.0    0.0      0.0        0.0  0.834483     3.058434  \n",
       "\n",
       "[5 rows x 22 columns]"
      ]
     },
     "metadata": {},
     "output_type": "display_data"
    }
   ],
   "source": [
    "from sklearn.preprocessing import MinMaxScaler\n",
    "scaler = MinMaxScaler()\n",
    "normalized_data = scaler.fit_transform(df.drop(columns=['mean_rating']))\n",
    "\n",
    "# show normalized data\n",
    "df_normalized = pd.DataFrame(normalized_data, columns=df.columns[1:])\n",
    "df_normalized['mean_rating'] = df['mean_rating']\n",
    "display(df_normalized.head())"
   ]
  },
  {
   "attachments": {},
   "cell_type": "markdown",
   "metadata": {},
   "source": [
    "## Modeling"
   ]
  },
  {
   "cell_type": "code",
   "execution_count": null,
   "metadata": {},
   "outputs": [],
   "source": [
    "# Split data\n",
    "df_to_use = df_normalized.copy()\n",
    "\n",
    "df2 = df_to_use.copy()\n",
    "X = df2.drop(columns=['mean_rating'])\n",
    "y = df_to_use['mean_rating']\n",
    "\n",
    "# Split the data into training and testing sets\n",
    "X_train, X_test, y_train, y_test = train_test_split(X, y, test_size=0.2, random_state=42)\n",
    "\n",
    "import tensorflow as tf\n",
    "\n",
    "# Create the model using the Keras API of Tensorflow\n",
    "model = tf.keras.Sequential([\n",
    "    tf.keras.layers.Dense(4, activation='relu', input_shape=(X_train.shape[1],)),\n",
    "    tf.keras.layers.Dense(16, activation='relu'),\n",
    "    tf.keras.layers.Dense(1)\n",
    "])\n",
    "\n",
    "# Compile the model, specifying the loss function and optimizer\n",
    "model.compile(loss='mean_squared_error', metrics=['mean_squared_error'], optimizer='adam')\n",
    "\n",
    "# Train the model on the training data\n",
    "history = model.fit(X_train, y_train, epochs=100, batch_size=256, validation_split=0.2)\n",
    "\n",
    "\n",
    "# Evaluate the model on the test data\n",
    "loss, mse = model.evaluate(X_test, y_test, verbose=0)\n",
    "print('Loss: ', loss)\n",
    "print('MSE: ', mse)\n",
    "\n",
    "display(y_test[:5])\n",
    "model.predict(X_test[:5])"
   ]
  },
  {
   "cell_type": "code",
   "execution_count": null,
   "metadata": {},
   "outputs": [
    {
     "data": {
      "text/plain": [
       "\" import torch.nn as nn\\n\\n# Split data\\ndf2 = df.copy()\\nX = df2.drop(columns=['mean_rating'])\\ny = df['mean_rating']\\n\\n# Split the data into training and testing sets\\nX_train, X_test, y_train, y_test = train_test_split(X, y, test_size=0.2, random_state=42)\\n\\n# Convert the data to tensors\\nX_train = torch.tensor(X_train.values, dtype=torch.float32)\\ny_train = torch.tensor(y_train.values, dtype=torch.float32)\\nX_test = torch.tensor(X_test.values, dtype=torch.float32)\\ny_test = torch.tensor(y_test.values, dtype=torch.float32)\\n\\n# Create the model using the torch\\nmodel = nn.Sequential(\\n    nn.Linear(X_train.shape[1], 4),\\n    nn.ReLU(),\\n    nn.Linear(4, 16),\\n    nn.ReLU(),\\n    nn.Linear(16, 1)\\n)\\n\\n# Compile the model, specifying the loss function and optimizer\\nloss_fn = nn.MSELoss()\\noptimizer = torch.optim.Adam(model.parameters(), lr=1e-3)\\n\\n# Train the model on the training data X_train and y_train\\nepochs = 20\\nfor epoch in range(epochs):\\n    print('Epoch ', epoch)\\n    y_pred = model(X_train)\\n    loss = loss_fn(y_pred, y_train)\\n    optimizer.zero_grad()\\n    loss.backward()\\n    optimizer.step()\\n\\n# Evaluate the model on the test data\\nloss = loss_fn(model(X_test), y_test)\\nprint('Loss: ', loss.item())\\n\\ndisplay(y_test[:5]) \""
      ]
     },
     "execution_count": 29,
     "metadata": {},
     "output_type": "execute_result"
    }
   ],
   "source": [
    "\"\"\" import torch.nn as nn\n",
    "\n",
    "# Split data\n",
    "df2 = df.copy()\n",
    "X = df2.drop(columns=['mean_rating'])\n",
    "y = df['mean_rating']\n",
    "\n",
    "# Split the data into training and testing sets\n",
    "X_train, X_test, y_train, y_test = train_test_split(X, y, test_size=0.2, random_state=42)\n",
    "\n",
    "# Convert the data to tensors\n",
    "X_train = torch.tensor(X_train.values, dtype=torch.float32)\n",
    "y_train = torch.tensor(y_train.values, dtype=torch.float32)\n",
    "X_test = torch.tensor(X_test.values, dtype=torch.float32)\n",
    "y_test = torch.tensor(y_test.values, dtype=torch.float32)\n",
    "\n",
    "# Create the model using the torch\n",
    "model = nn.Sequential(\n",
    "    nn.Linear(X_train.shape[1], 4),\n",
    "    nn.ReLU(),\n",
    "    nn.Linear(4, 16),\n",
    "    nn.ReLU(),\n",
    "    nn.Linear(16, 1)\n",
    ")\n",
    "\n",
    "# Compile the model, specifying the loss function and optimizer\n",
    "loss_fn = nn.MSELoss()\n",
    "optimizer = torch.optim.Adam(model.parameters(), lr=1e-3)\n",
    "\n",
    "# Train the model on the training data X_train and y_train\n",
    "epochs = 20\n",
    "for epoch in range(epochs):\n",
    "    print('Epoch ', epoch)\n",
    "    y_pred = model(X_train)\n",
    "    loss = loss_fn(y_pred, y_train)\n",
    "    optimizer.zero_grad()\n",
    "    loss.backward()\n",
    "    optimizer.step()\n",
    "\n",
    "# Evaluate the model on the test data\n",
    "loss = loss_fn(model(X_test), y_test)\n",
    "print('Loss: ', loss.item())\n",
    "\n",
    "display(y_test[:5]) \"\"\"\n"
   ]
  },
  {
   "cell_type": "code",
   "execution_count": null,
   "metadata": {},
   "outputs": [],
   "source": []
  }
 ],
 "metadata": {
  "kernelspec": {
   "display_name": "base",
   "language": "python",
   "name": "python3"
  },
  "language_info": {
   "codemirror_mode": {
    "name": "ipython",
    "version": 3
   },
   "file_extension": ".py",
   "mimetype": "text/x-python",
   "name": "python",
   "nbconvert_exporter": "python",
   "pygments_lexer": "ipython3",
   "version": "3.9.16"
  },
  "orig_nbformat": 4,
  "vscode": {
   "interpreter": {
    "hash": "40d3a090f54c6569ab1632332b64b2c03c39dcf918b08424e98f38b5ae0af88f"
   }
  }
 },
 "nbformat": 4,
 "nbformat_minor": 2
}
