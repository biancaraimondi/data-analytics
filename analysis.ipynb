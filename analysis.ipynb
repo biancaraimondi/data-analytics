{
 "cells": [
  {
   "cell_type": "code",
   "execution_count": 1,
   "metadata": {},
   "outputs": [],
   "source": [
    "import pandas as pd\n",
    "import matplotlib.pyplot as plt\n",
    "import seaborn as sns"
   ]
  },
  {
   "attachments": {},
   "cell_type": "markdown",
   "metadata": {},
   "source": [
    "## Data Acquisition\n",
    "##### Flat Acquisition using csv files"
   ]
  },
  {
   "cell_type": "code",
   "execution_count": 2,
   "metadata": {},
   "outputs": [],
   "source": [
    "movies = pd.read_csv('./data/movies.csv')\n",
    "# genome_scores = pd.read_csv('./data/genome-scores.csv')\n",
    "# genome_tags = pd.read_csv('./data/genome-tags.csv')\n",
    "ratings = pd.read_csv('./data/ratings.csv')\n",
    "tags = pd.read_csv('./data/tags.csv')"
   ]
  },
  {
   "cell_type": "code",
   "execution_count": 3,
   "metadata": {},
   "outputs": [
    {
     "name": "stdout",
     "output_type": "stream",
     "text": [
      "   movieId                               title  \\\n",
      "0        1                    Toy Story (1995)   \n",
      "1        2                      Jumanji (1995)   \n",
      "2        3             Grumpier Old Men (1995)   \n",
      "3        4            Waiting to Exhale (1995)   \n",
      "4        5  Father of the Bride Part II (1995)   \n",
      "\n",
      "                                        genres  \n",
      "0  Adventure|Animation|Children|Comedy|Fantasy  \n",
      "1                   Adventure|Children|Fantasy  \n",
      "2                               Comedy|Romance  \n",
      "3                         Comedy|Drama|Romance  \n",
      "4                                       Comedy  \n",
      "   userId  movieId  rating   timestamp\n",
      "0       1      296     5.0  1147880044\n",
      "1       1      306     3.5  1147868817\n",
      "2       1      307     5.0  1147868828\n",
      "3       1      665     5.0  1147878820\n",
      "4       1      899     3.5  1147868510\n",
      "   userId  movieId               tag   timestamp\n",
      "0       3      260           classic  1439472355\n",
      "1       3      260            sci-fi  1439472256\n",
      "2       4     1732       dark comedy  1573943598\n",
      "3       4     1732    great dialogue  1573943604\n",
      "4       4     7569  so bad it's good  1573943455\n"
     ]
    }
   ],
   "source": [
    "# print the first 5 rows of the movies, ratings, and tags dataframes\n",
    "print(movies.head())\n",
    "print(ratings.head())\n",
    "print(tags.head())"
   ]
  },
  {
   "cell_type": "code",
   "execution_count": 4,
   "metadata": {},
   "outputs": [
    {
     "data": {
      "text/html": [
       "<div>\n",
       "<style scoped>\n",
       "    .dataframe tbody tr th:only-of-type {\n",
       "        vertical-align: middle;\n",
       "    }\n",
       "\n",
       "    .dataframe tbody tr th {\n",
       "        vertical-align: top;\n",
       "    }\n",
       "\n",
       "    .dataframe thead th {\n",
       "        text-align: right;\n",
       "    }\n",
       "</style>\n",
       "<table border=\"1\" class=\"dataframe\">\n",
       "  <thead>\n",
       "    <tr style=\"text-align: right;\">\n",
       "      <th></th>\n",
       "      <th>movieId</th>\n",
       "      <th>title</th>\n",
       "      <th>genres</th>\n",
       "      <th>mean_rating</th>\n",
       "      <th>rating_count</th>\n",
       "      <th>mean_timestamp</th>\n",
       "    </tr>\n",
       "  </thead>\n",
       "  <tbody>\n",
       "    <tr>\n",
       "      <th>0</th>\n",
       "      <td>1</td>\n",
       "      <td>Toy Story (1995)</td>\n",
       "      <td>Adventure|Animation|Children|Comedy|Fantasy</td>\n",
       "      <td>3.893708</td>\n",
       "      <td>57309</td>\n",
       "      <td>1153152210</td>\n",
       "    </tr>\n",
       "    <tr>\n",
       "      <th>1</th>\n",
       "      <td>2</td>\n",
       "      <td>Jumanji (1995)</td>\n",
       "      <td>Adventure|Children|Fantasy</td>\n",
       "      <td>3.251527</td>\n",
       "      <td>24228</td>\n",
       "      <td>1122310117</td>\n",
       "    </tr>\n",
       "    <tr>\n",
       "      <th>2</th>\n",
       "      <td>3</td>\n",
       "      <td>Grumpier Old Men (1995)</td>\n",
       "      <td>Comedy|Romance</td>\n",
       "      <td>3.142028</td>\n",
       "      <td>11804</td>\n",
       "      <td>980602256</td>\n",
       "    </tr>\n",
       "    <tr>\n",
       "      <th>3</th>\n",
       "      <td>4</td>\n",
       "      <td>Waiting to Exhale (1995)</td>\n",
       "      <td>Comedy|Drama|Romance</td>\n",
       "      <td>2.853547</td>\n",
       "      <td>2523</td>\n",
       "      <td>942460471</td>\n",
       "    </tr>\n",
       "    <tr>\n",
       "      <th>4</th>\n",
       "      <td>5</td>\n",
       "      <td>Father of the Bride Part II (1995)</td>\n",
       "      <td>Comedy</td>\n",
       "      <td>3.058434</td>\n",
       "      <td>11714</td>\n",
       "      <td>1004723013</td>\n",
       "    </tr>\n",
       "  </tbody>\n",
       "</table>\n",
       "</div>"
      ],
      "text/plain": [
       "   movieId                               title  \\\n",
       "0        1                    Toy Story (1995)   \n",
       "1        2                      Jumanji (1995)   \n",
       "2        3             Grumpier Old Men (1995)   \n",
       "3        4            Waiting to Exhale (1995)   \n",
       "4        5  Father of the Bride Part II (1995)   \n",
       "\n",
       "                                        genres  mean_rating  rating_count  \\\n",
       "0  Adventure|Animation|Children|Comedy|Fantasy     3.893708         57309   \n",
       "1                   Adventure|Children|Fantasy     3.251527         24228   \n",
       "2                               Comedy|Romance     3.142028         11804   \n",
       "3                         Comedy|Drama|Romance     2.853547          2523   \n",
       "4                                       Comedy     3.058434         11714   \n",
       "\n",
       "   mean_timestamp  \n",
       "0      1153152210  \n",
       "1      1122310117  \n",
       "2       980602256  \n",
       "3       942460471  \n",
       "4      1004723013  "
      ]
     },
     "execution_count": 4,
     "metadata": {},
     "output_type": "execute_result"
    }
   ],
   "source": [
    "grouped_ratings = ratings.groupby('movieId').agg({'rating': ['mean', 'count'], 'timestamp': ['mean']})\n",
    "grouped_ratings.columns = ['mean_rating', 'rating_count', 'mean_timestamp']\n",
    "grouped_ratings = grouped_ratings.astype({'mean_timestamp': 'int'})\n",
    "\n",
    "# Merge dei dataset movies e ratings\n",
    "# rimuove i film che non hanno rating\n",
    "movies_ratings = pd.merge(movies, grouped_ratings, on='movieId')\n",
    "movies_ratings.head()"
   ]
  },
  {
   "cell_type": "code",
   "execution_count": 5,
   "metadata": {},
   "outputs": [
    {
     "data": {
      "text/html": [
       "<div>\n",
       "<style scoped>\n",
       "    .dataframe tbody tr th:only-of-type {\n",
       "        vertical-align: middle;\n",
       "    }\n",
       "\n",
       "    .dataframe tbody tr th {\n",
       "        vertical-align: top;\n",
       "    }\n",
       "\n",
       "    .dataframe thead th {\n",
       "        text-align: right;\n",
       "    }\n",
       "</style>\n",
       "<table border=\"1\" class=\"dataframe\">\n",
       "  <thead>\n",
       "    <tr style=\"text-align: right;\">\n",
       "      <th></th>\n",
       "      <th>movieId</th>\n",
       "      <th>title</th>\n",
       "      <th>genres</th>\n",
       "      <th>mean_rating</th>\n",
       "      <th>rating_count</th>\n",
       "      <th>mean_timestamp</th>\n",
       "      <th>tag</th>\n",
       "    </tr>\n",
       "  </thead>\n",
       "  <tbody>\n",
       "    <tr>\n",
       "      <th>0</th>\n",
       "      <td>1</td>\n",
       "      <td>Toy Story (1995)</td>\n",
       "      <td>Adventure|Animation|Children|Comedy|Fantasy</td>\n",
       "      <td>3.893708</td>\n",
       "      <td>57309</td>\n",
       "      <td>1153152210</td>\n",
       "      <td>[villian hurts toys, itaege, good cartoon chin...</td>\n",
       "    </tr>\n",
       "    <tr>\n",
       "      <th>1</th>\n",
       "      <td>2</td>\n",
       "      <td>Jumanji (1995)</td>\n",
       "      <td>Adventure|Children|Fantasy</td>\n",
       "      <td>3.251527</td>\n",
       "      <td>24228</td>\n",
       "      <td>1122310117</td>\n",
       "      <td>[Robin Williams, bad cgi, itaege, new home, Ch...</td>\n",
       "    </tr>\n",
       "    <tr>\n",
       "      <th>2</th>\n",
       "      <td>3</td>\n",
       "      <td>Grumpier Old Men (1995)</td>\n",
       "      <td>Comedy|Romance</td>\n",
       "      <td>3.142028</td>\n",
       "      <td>11804</td>\n",
       "      <td>980602256</td>\n",
       "      <td>[Burgess Meredith, old people that is actually...</td>\n",
       "    </tr>\n",
       "    <tr>\n",
       "      <th>3</th>\n",
       "      <td>4</td>\n",
       "      <td>Waiting to Exhale (1995)</td>\n",
       "      <td>Comedy|Drama|Romance</td>\n",
       "      <td>2.853547</td>\n",
       "      <td>2523</td>\n",
       "      <td>942460471</td>\n",
       "      <td>[chick flick, divorce, single mother, CLV, cha...</td>\n",
       "    </tr>\n",
       "    <tr>\n",
       "      <th>4</th>\n",
       "      <td>5</td>\n",
       "      <td>Father of the Bride Part II (1995)</td>\n",
       "      <td>Comedy</td>\n",
       "      <td>3.058434</td>\n",
       "      <td>11714</td>\n",
       "      <td>1004723013</td>\n",
       "      <td>[aging, pregnancy, Fantasy, Steve Martin, CLV,...</td>\n",
       "    </tr>\n",
       "  </tbody>\n",
       "</table>\n",
       "</div>"
      ],
      "text/plain": [
       "   movieId                               title  \\\n",
       "0        1                    Toy Story (1995)   \n",
       "1        2                      Jumanji (1995)   \n",
       "2        3             Grumpier Old Men (1995)   \n",
       "3        4            Waiting to Exhale (1995)   \n",
       "4        5  Father of the Bride Part II (1995)   \n",
       "\n",
       "                                        genres  mean_rating  rating_count  \\\n",
       "0  Adventure|Animation|Children|Comedy|Fantasy     3.893708         57309   \n",
       "1                   Adventure|Children|Fantasy     3.251527         24228   \n",
       "2                               Comedy|Romance     3.142028         11804   \n",
       "3                         Comedy|Drama|Romance     2.853547          2523   \n",
       "4                                       Comedy     3.058434         11714   \n",
       "\n",
       "   mean_timestamp                                                tag  \n",
       "0      1153152210  [villian hurts toys, itaege, good cartoon chin...  \n",
       "1      1122310117  [Robin Williams, bad cgi, itaege, new home, Ch...  \n",
       "2       980602256  [Burgess Meredith, old people that is actually...  \n",
       "3       942460471  [chick flick, divorce, single mother, CLV, cha...  \n",
       "4      1004723013  [aging, pregnancy, Fantasy, Steve Martin, CLV,...  "
      ]
     },
     "execution_count": 5,
     "metadata": {},
     "output_type": "execute_result"
    }
   ],
   "source": [
    "# mantiene i duplicati, per rimuoverli usare .apply[set, list]\n",
    "# tags.groupby('movieId')['tag'].apply(set)\n",
    "new_tags = tags.groupby('movieId')['tag'].apply(set).apply(list)\n",
    "\n",
    "df = pd.merge(movies_ratings, new_tags, on='movieId')\n",
    "df.head()"
   ]
  },
  {
   "attachments": {},
   "cell_type": "markdown",
   "metadata": {},
   "source": [
    "## Data Visualization"
   ]
  },
  {
   "cell_type": "code",
   "execution_count": 6,
   "metadata": {},
   "outputs": [
    {
     "data": {
      "image/png": "[encoded data removed]",
      "text/plain": [
       "<Figure size 640x480 with 1 Axes>"
      ]
     },
     "metadata": {},
     "output_type": "display_data"
    },
    {
     "data": {
      "image/png": "[encoded data removed]",
      "text/plain": [
       "<Figure size 640x480 with 1 Axes>"
      ]
     },
     "metadata": {},
     "output_type": "display_data"
    }
   ],
   "source": [
    "# Per capire la distribuzione dei rating\n",
    "sns.countplot(x='rating', data=ratings)\n",
    "plt.show()\n",
    "\n",
    "sns.boxplot(x='rating', data=ratings)\n",
    "plt.show()"
   ]
  },
  {
   "cell_type": "code",
   "execution_count": 126,
   "metadata": {},
   "outputs": [],
   "source": [
    "# Observing the distribution of all attributes for every file\n",
    "# This is useful to show data trends, to reveal outliers and leverage points, to provide hints about modeling techniques to apply.\n",
    "\n",
    "# print distribution for ratings\n",
    "fig, axs = plt.subplots(3)\n",
    "sns.kdeplot(ratings['timestamp'], ax=axs[0], color='r', label='timestamp')\n",
    "sns.kdeplot(ratings['rating'], ax=axs[1], color='b', label='rating')\n",
    "sns.kdeplot(ratings['movieId'], ax=axs[2], color='g', label='movieId')\n",
    "plt.show()"
   ]
  },
  {
   "cell_type": "code",
   "execution_count": null,
   "metadata": {},
   "outputs": [
    {
     "ename": "TypeError",
     "evalue": "The x variable is categorical, but one of ['numeric', 'datetime'] is required",
     "output_type": "error",
     "traceback": [
      "\u001b[0;31m---------------------------------------------------------------------------\u001b[0m",
      "\u001b[0;31mTypeError\u001b[0m                                 Traceback (most recent call last)",
      "Cell \u001b[0;32mIn [14], line 3\u001b[0m\n\u001b[1;32m      1\u001b[0m \u001b[39m# print distribution for movies\u001b[39;00m\n\u001b[1;32m      2\u001b[0m fig, axs \u001b[39m=\u001b[39m plt\u001b[39m.\u001b[39msubplots(\u001b[39m2\u001b[39m)\n\u001b[0;32m----> 3\u001b[0m sns\u001b[39m.\u001b[39mkdeplot(movies[\u001b[39m'\u001b[39m\u001b[39mtitle\u001b[39m\u001b[39m'\u001b[39m], ax\u001b[39m=\u001b[39maxs[\u001b[39m1\u001b[39m], color\u001b[39m=\u001b[39m\u001b[39m'\u001b[39m\u001b[39mb\u001b[39m\u001b[39m'\u001b[39m, label\u001b[39m=\u001b[39m\u001b[39m'\u001b[39m\u001b[39mtitle\u001b[39m\u001b[39m'\u001b[39m)\n\u001b[1;32m      4\u001b[0m sns\u001b[39m.\u001b[39mkdeplot(movies[\u001b[39m'\u001b[39m\u001b[39mgenres\u001b[39m\u001b[39m'\u001b[39m], ax\u001b[39m=\u001b[39maxs[\u001b[39m2\u001b[39m], color\u001b[39m=\u001b[39m\u001b[39m'\u001b[39m\u001b[39mg\u001b[39m\u001b[39m'\u001b[39m, label\u001b[39m=\u001b[39m\u001b[39m'\u001b[39m\u001b[39mgenres\u001b[39m\u001b[39m'\u001b[39m)\n\u001b[1;32m      5\u001b[0m plt\u001b[39m.\u001b[39mshow()\n",
      "File \u001b[0;32m/usr/local/lib/python3.10/site-packages/seaborn/distributions.py:1701\u001b[0m, in \u001b[0;36mkdeplot\u001b[0;34m(data, x, y, hue, weights, palette, hue_order, hue_norm, color, fill, multiple, common_norm, common_grid, cumulative, bw_method, bw_adjust, warn_singular, log_scale, levels, thresh, gridsize, cut, clip, legend, cbar, cbar_ax, cbar_kws, ax, **kwargs)\u001b[0m\n\u001b[1;32m   1698\u001b[0m \u001b[39mif\u001b[39;00m ax \u001b[39mis\u001b[39;00m \u001b[39mNone\u001b[39;00m:\n\u001b[1;32m   1699\u001b[0m     ax \u001b[39m=\u001b[39m plt\u001b[39m.\u001b[39mgca()\n\u001b[0;32m-> 1701\u001b[0m p\u001b[39m.\u001b[39;49m_attach(ax, allowed_types\u001b[39m=\u001b[39;49m[\u001b[39m\"\u001b[39;49m\u001b[39mnumeric\u001b[39;49m\u001b[39m\"\u001b[39;49m, \u001b[39m\"\u001b[39;49m\u001b[39mdatetime\u001b[39;49m\u001b[39m\"\u001b[39;49m], log_scale\u001b[39m=\u001b[39;49mlog_scale)\n\u001b[1;32m   1703\u001b[0m method \u001b[39m=\u001b[39m ax\u001b[39m.\u001b[39mfill_between \u001b[39mif\u001b[39;00m fill \u001b[39melse\u001b[39;00m ax\u001b[39m.\u001b[39mplot\n\u001b[1;32m   1704\u001b[0m color \u001b[39m=\u001b[39m _default_color(method, hue, color, kwargs)\n",
      "File \u001b[0;32m/usr/local/lib/python3.10/site-packages/seaborn/_oldcore.py:1211\u001b[0m, in \u001b[0;36mVectorPlotter._attach\u001b[0;34m(self, obj, allowed_types, log_scale)\u001b[0m\n\u001b[1;32m   1206\u001b[0m     \u001b[39mif\u001b[39;00m var_type \u001b[39mnot\u001b[39;00m \u001b[39min\u001b[39;00m allowed_types:\n\u001b[1;32m   1207\u001b[0m         err \u001b[39m=\u001b[39m (\n\u001b[1;32m   1208\u001b[0m             \u001b[39mf\u001b[39m\u001b[39m\"\u001b[39m\u001b[39mThe \u001b[39m\u001b[39m{\u001b[39;00mvar\u001b[39m}\u001b[39;00m\u001b[39m variable is \u001b[39m\u001b[39m{\u001b[39;00mvar_type\u001b[39m}\u001b[39;00m\u001b[39m, but one of \u001b[39m\u001b[39m\"\u001b[39m\n\u001b[1;32m   1209\u001b[0m             \u001b[39mf\u001b[39m\u001b[39m\"\u001b[39m\u001b[39m{\u001b[39;00mallowed_types\u001b[39m}\u001b[39;00m\u001b[39m is required\u001b[39m\u001b[39m\"\u001b[39m\n\u001b[1;32m   1210\u001b[0m         )\n\u001b[0;32m-> 1211\u001b[0m         \u001b[39mraise\u001b[39;00m \u001b[39mTypeError\u001b[39;00m(err)\n\u001b[1;32m   1213\u001b[0m \u001b[39m# -- Get axis objects for each row in plot_data for type conversions and scaling\u001b[39;00m\n\u001b[1;32m   1215\u001b[0m facet_dim \u001b[39m=\u001b[39m {\u001b[39m\"\u001b[39m\u001b[39mx\u001b[39m\u001b[39m\"\u001b[39m: \u001b[39m\"\u001b[39m\u001b[39mcol\u001b[39m\u001b[39m\"\u001b[39m, \u001b[39m\"\u001b[39m\u001b[39my\u001b[39m\u001b[39m\"\u001b[39m: \u001b[39m\"\u001b[39m\u001b[39mrow\u001b[39m\u001b[39m\"\u001b[39m}\n",
      "\u001b[0;31mTypeError\u001b[0m: The x variable is categorical, but one of ['numeric', 'datetime'] is required"
     ]
    },
    {
     "data": {
      "image/png": "[encoded data removed]",
      "text/plain": [
       "<Figure size 640x480 with 2 Axes>"
      ]
     },
     "metadata": {},
     "output_type": "display_data"
    }
   ],
   "source": [
    "# print distribution for movies\n",
    "fig, axs = plt.subplots(2)\n",
    "sns.kdeplot(movies['title'], ax=axs[1], color='b', label='title')\n",
    "sns.kdeplot(movies['genres'], ax=axs[2], color='g', label='genres')\n",
    "plt.show()\n"
   ]
  },
  {
   "attachments": {},
   "cell_type": "markdown",
   "metadata": {},
   "source": [
    "## Data Preprocessing"
   ]
  },
  {
   "cell_type": "code",
   "execution_count": 7,
   "metadata": {},
   "outputs": [
    {
     "name": "stdout",
     "output_type": "stream",
     "text": [
      "       movieId                                    title  \\\n",
      "14311    79607  Millions Game, The (Das Millionenspiel)   \n",
      "23377   125958       Stephen Fry In America - New World   \n",
      "23488   126438           Two: The Story of Roman & Nyro   \n",
      "23570   127005          A Year Along the Abandoned Road   \n",
      "23926   128612                               Body/Cialo   \n",
      "...        ...                                      ...   \n",
      "41636   203922               Sherlock: The Blind Banker   \n",
      "41678   204692                        In the Tall Grass   \n",
      "41703   205074                         Falling Inn Love   \n",
      "41788   206757                                    Twice   \n",
      "41791   206781       The Black Legend of Mexican Cinema   \n",
      "\n",
      "                             genres  mean_rating  rating_count  \\\n",
      "14311  Action|Drama|Sci-Fi|Thriller     3.400000            10   \n",
      "23377            (no genres listed)     3.394737            19   \n",
      "23488             Documentary|Drama     3.000000             1   \n",
      "23570            (no genres listed)     3.400000             5   \n",
      "23926          Comedy|Drama|Mystery     3.250000             8   \n",
      "...                             ...          ...           ...   \n",
      "41636                 Crime|Mystery     3.891304            23   \n",
      "41678         Drama|Horror|Thriller     2.760000            50   \n",
      "41703                Comedy|Romance     2.716667            30   \n",
      "41788            (no genres listed)     4.500000             2   \n",
      "41791            (no genres listed)     5.000000             1   \n",
      "\n",
      "       mean_timestamp                                                tag year  \n",
      "14311      1427324889  [reality tv, danger of life, moderator, tv sho...  NaN  \n",
      "23377      1472665879  [road trip, culture, Stephen Fry, travel, witt...  NaN  \n",
      "23488      1422249176                                   [woman director]  NaN  \n",
      "23570      1489931689  [stop motion, arctic, abandoned, deserted town...  NaN  \n",
      "23926      1483756526  [dead child, sometimes funny, anorexia, dog, l...  NaN  \n",
      "...               ...                                                ...  ...  \n",
      "41636      1567491805                 [crime, detective, drama, mystery]  NaN  \n",
      "41678      1571693788  [Patrick Wilson, Netflix, Stephen King, eerie,...  NaN  \n",
      "41703      1568627512  [New Zealand, bad plot, predictable, prospect ...  NaN  \n",
      "41788      1570327080  [nuclear bomb, Japan, nagaski, WWII, hiroshima...  NaN  \n",
      "41791      1569649184                          [Política, Cine Mexicano]  NaN  \n",
      "\n",
      "[144 rows x 8 columns]\n"
     ]
    }
   ],
   "source": [
    "df_preprocessed = df.copy()\n",
    "\n",
    "# from title extract year\n",
    "df_preprocessed['year'] = df_preprocessed['title'].str.extract('(\\(\\d{4}\\))', expand=True)\n",
    "# remove parentheses\n",
    "df_preprocessed['year'] = df_preprocessed['year'].str.extract('(\\d{4})', expand=True)\n",
    "#print(df_preprocessed.head())\n",
    "\n",
    "# df with movies that have no year or year is not numeric \\d{4}\n",
    "year_not_numeric = df_preprocessed.loc[df_preprocessed['year'].isna()]\n",
    "print(year_not_numeric)\n",
    "\n",
    "# remove movies with no year\n",
    "df_preprocessed = df_preprocessed.dropna(subset=['year'])\n",
    "\n",
    "# delete title column\n",
    "df_preprocessed = df_preprocessed.drop(columns=['title'])\n",
    "\n",
    "df = df_preprocessed.copy()"
   ]
  },
  {
   "cell_type": "code",
   "execution_count": 8,
   "metadata": {},
   "outputs": [
    {
     "name": "stderr",
     "output_type": "stream",
     "text": [
      "/var/folders/x8/p0tjyw5163s2pb2vfft_2jbc0000gn/T/ipykernel_7272/1830158067.py:11: UserWarning: This pattern is interpreted as a regular expression, and has match groups. To actually get the groups, use str.extract.\n",
      "  df_preprocessed[category] = df_preprocessed['genres'].str.contains(category).astype(int)\n"
     ]
    },
    {
     "name": "stdout",
     "output_type": "stream",
     "text": [
      "   movieId  mean_rating  rating_count  mean_timestamp  \\\n",
      "0        1     3.893708         57309      1153152210   \n",
      "1        2     3.251527         24228      1122310117   \n",
      "2        3     3.142028         11804       980602256   \n",
      "3        4     2.853547          2523       942460471   \n",
      "4        5     3.058434         11714      1004723013   \n",
      "\n",
      "                                                 tag  year  War  Thriller  \\\n",
      "0  [villian hurts toys, itaege, good cartoon chin...  1995    0         0   \n",
      "1  [Robin Williams, bad cgi, itaege, new home, Ch...  1995    0         0   \n",
      "2  [Burgess Meredith, old people that is actually...  1995    0         0   \n",
      "3  [chick flick, divorce, single mother, CLV, cha...  1995    0         0   \n",
      "4  [aging, pregnancy, Fantasy, Steve Martin, CLV,...  1995    0         0   \n",
      "\n",
      "   Comedy  Western  ...  Fantasy  Mystery  Animation  Romance  Children  IMAX  \\\n",
      "0       1        0  ...        1        0          1        0         1     0   \n",
      "1       0        0  ...        1        0          0        0         1     0   \n",
      "2       1        0  ...        0        0          0        1         0     0   \n",
      "3       1        0  ...        0        0          0        1         0     0   \n",
      "4       1        0  ...        0        0          0        0         0     0   \n",
      "\n",
      "   Horror  Drama  Documentary  Musical  \n",
      "0       0      0            0        0  \n",
      "1       0      0            0        0  \n",
      "2       0      0            0        0  \n",
      "3       0      1            0        0  \n",
      "4       0      0            0        0  \n",
      "\n",
      "[5 rows x 26 columns]\n"
     ]
    }
   ],
   "source": [
    "# one hot encoding for genres\n",
    "df_preprocessed = df.copy()\n",
    "\n",
    "# print every category in movies dataset\n",
    "categories = set()\n",
    "for s in df_preprocessed['genres'].str.split('|').values:\n",
    "    categories = categories.union(set(s))\n",
    "\n",
    "# add columns for each category\n",
    "for category in categories:\n",
    "    df_preprocessed[category] = df_preprocessed['genres'].str.contains(category).astype(int)\n",
    "\n",
    "# delete genres column\n",
    "df_preprocessed = df_preprocessed.drop(columns=['genres'])\n",
    "\n",
    "print(df_preprocessed.head())\n",
    "\n",
    "df = df_preprocessed.copy()\n"
   ]
  },
  {
   "attachments": {},
   "cell_type": "markdown",
   "metadata": {},
   "source": [
    "## Modeling"
   ]
  },
  {
   "cell_type": "code",
   "execution_count": null,
   "metadata": {},
   "outputs": [],
   "source": []
  },
  {
   "attachments": {},
   "cell_type": "markdown",
   "metadata": {},
   "source": [
    "## Performance Evaluation"
   ]
  },
  {
   "cell_type": "code",
   "execution_count": null,
   "metadata": {},
   "outputs": [],
   "source": []
  }
 ],
 "metadata": {
  "kernelspec": {
   "display_name": "Python 3",
   "language": "python",
   "name": "python3"
  },
  "language_info": {
   "codemirror_mode": {
    "name": "ipython",
    "version": 3
   },
   "file_extension": ".py",
   "mimetype": "text/x-python",
   "name": "python",
   "nbconvert_exporter": "python",
   "pygments_lexer": "ipython3",
   "version": "3.10.8"
  },
  "orig_nbformat": 4,
  "vscode": {
   "interpreter": {
    "hash": "aee8b7b246df8f9039afb4144a1f6fd8d2ca17a180786b69acc140d282b71a49"
   }
  }
 },
 "nbformat": 4,
 "nbformat_minor": 2
}
